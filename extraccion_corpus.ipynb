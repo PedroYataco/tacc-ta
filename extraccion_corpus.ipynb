{
 "cells": [
  {
   "cell_type": "markdown",
   "metadata": {},
   "source": [
    "# Extracción de Corpus"
   ]
  },
  {
   "cell_type": "markdown",
   "metadata": {},
   "source": [
    "Este Jupyter Notebook contiene el código utilizado para extraer y analizar un corpus de cuentos en Shipibo-Konibo. El objetivo de este trabajo es recopilar un conjunto representativo de textos en Shipibo-Konibo que servirá como base para el desarrollo de un Generador Automático de Cuentos en este idioma.\n",
    "\n",
    "El corpus se construirá a partir de fuentes como el Ministerio de Cultura del Perú, bibliotecas digitales y comunidades Shipibo-Konibo hablantes. Se buscará garantizar la diversidad y representatividad del corpus, incluyendo cuentos de diferentes estilos y temáticas."
   ]
  },
  {
   "cell_type": "markdown",
   "metadata": {},
   "source": [
    "## Fuentes"
   ]
  },
  {
   "cell_type": "markdown",
   "metadata": {},
   "source": [
    "- https://www.ositran.gob.pe/anterior/wp-content/uploads/2020/01/primer-concurso-cuentos-shipibo.pdf\n",
    "- https://www.geocities.ws/bolsilloscreativos/historiasshipibas.pdf\n",
    "- https://repositorio.minedu.gob.pe/handle/20.500.12799/9922\n",
    "- https://ia902700.us.archive.org/6/items/antologia-de-relatos-bari-wesna/Antolog%C3%ADa%20de%20relatos%20Bari%20Wesna.pdf\n",
    "- http://umc.minedu.gob.pe/mis-lecturas-favoritas-2019-en-shipibo-konibo/"
   ]
  },
  {
   "cell_type": "markdown",
   "metadata": {},
   "source": [
    "## Lectura de datos"
   ]
  },
  {
   "cell_type": "code",
   "execution_count": 1,
   "metadata": {},
   "outputs": [
    {
     "name": "stdout",
     "output_type": "stream",
     "text": [
      "Piura jemamea joni Amador itan jawen awin Josefa, jaboronki jaton xobon itan ani mai pastoya\n",
      "ikain raroshaman iikana iki. Jabaon keen jaweki ika iki wakabo inaati.\n",
      "Ikaxbironki wetsa neten, Amador isht\n"
     ]
    }
   ],
   "source": [
    "file = open(\"U20190876_corpus.txt\", \"r\", encoding=\"utf-8\")\n",
    "text = file.read()\n",
    "file.close()\n",
    "print(text[:200])"
   ]
  }
 ],
 "metadata": {
  "kernelspec": {
   "display_name": "Python 3",
   "language": "python",
   "name": "python3"
  },
  "language_info": {
   "codemirror_mode": {
    "name": "ipython",
    "version": 3
   },
   "file_extension": ".py",
   "mimetype": "text/x-python",
   "name": "python",
   "nbconvert_exporter": "python",
   "pygments_lexer": "ipython3",
   "version": "3.12.0"
  }
 },
 "nbformat": 4,
 "nbformat_minor": 2
}
