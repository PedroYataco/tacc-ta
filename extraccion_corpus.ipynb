{
  "cells": [
    {
      "cell_type": "markdown",
      "metadata": {},
      "source": [
        "# Extracción de Corpus"
      ]
    },
    {
      "cell_type": "markdown",
      "metadata": {},
      "source": [
        "Este Jupyter Notebook contiene el código utilizado para extraer y analizar un corpus de cuentos en Shipibo-Konibo. El objetivo de este trabajo es recopilar un conjunto representativo de textos en Shipibo-Konibo que servirá como base para el desarrollo de un Generador Automático de Cuentos en este idioma.\n",
        "\n",
        "El corpus se construirá a partir de fuentes como el Ministerio de Cultura del Perú, bibliotecas digitales y comunidades Shipibo-Konibo hablantes. Se buscará garantizar la diversidad y representatividad del corpus, incluyendo cuentos de diferentes estilos y temáticas."
      ]
    },
    {
      "cell_type": "markdown",
      "metadata": {},
      "source": [
        "## Fuentes"
      ]
    },
    {
      "cell_type": "markdown",
      "metadata": {},
      "source": [
        "- https://www.ositran.gob.pe/anterior/wp-content/uploads/2020/01/primer-concurso-cuentos-shipibo.pdf\n",
        "- https://www.geocities.ws/bolsilloscreativos/historiasshipibas.pdf\n",
        "- https://repositorio.minedu.gob.pe/handle/20.500.12799/9922\n",
        "- http://umc.minedu.gob.pe/mis-lecturas-favoritas-2019-en-shipibo-konibo/\n",
        "- https://www.sil.org/system/files/reapdata/14/14/54/141454532490109512490071100956645157398/ship_clc1.pdf\n",
        "- https://www.sil.org/system/files/reapdata/24/38/04/24380487991663194085294748233919308329/ccp12.pdf\n",
        "- https://www.sil.org/system/files/reapdata/86/66/45/86664544866912499494428875525670265475/Quirica9.pdf\n",
        "- https://repositorio.minedu.gob.pe/handle/20.500.12799/3879\n",
        "- https://repositorio.minedu.gob.pe/handle/20.500.12799/9867\n",
        "- https://repositorio.minedu.gob.pe/handle/20.500.12799/10009\n",
        "- https://repositorio.minedu.gob.pe/handle/20.500.12799/7523\n",
        "- https://www.calameo.com/alianza-francesa-lima/read/006559946768aaaef50da\n",
        "- https://repositorio.minedu.gob.pe/handle/20.500.12799/9905\n",
        "- https://repositorio.minedu.gob.pe/handle/20.500.12799/9886\n",
        "- https://repositorio.minedu.gob.pe/handle/20.500.12799/9922"
      ]
    },
    {
      "cell_type": "markdown",
      "metadata": {},
      "source": [
        "## Lectura de datos"
      ]
    },
    {
      "cell_type": "code",
      "execution_count": 2,
      "metadata": {},
      "outputs": [],
      "source": [
        "import PyPDF2\n"
      ]
    },
    {
      "cell_type": "code",
      "execution_count": null,
      "metadata": {},
      "outputs": [],
      "source": [
        "file = open(\"U20190876_corpus.txt\", \"r\", encoding=\"utf-8\")\n",
        "text = file.read()\n",
        "file.close()\n",
        "print(text[:200])"
      ]
    }
  ],
  "metadata": {
    "kernelspec": {
      "display_name": "venv",
      "language": "python",
      "name": "python3"
    },
    "language_info": {
      "codemirror_mode": {
        "name": "ipython",
        "version": 3
      },
      "file_extension": ".py",
      "mimetype": "text/x-python",
      "name": "python",
      "nbconvert_exporter": "python",
      "pygments_lexer": "ipython3",
      "version": "3.12.3"
    }
  },
  "nbformat": 4,
  "nbformat_minor": 2
}
