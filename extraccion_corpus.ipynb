{
 "cells": [
  {
   "cell_type": "markdown",
   "metadata": {},
   "source": [
    "# Extracción de Corpus"
   ]
  },
  {
   "cell_type": "markdown",
   "metadata": {},
   "source": [
    "Este Jupyter Notebook contiene el código utilizado para extraer y analizar un corpus de cuentos en Shipibo-Konibo. El objetivo de este trabajo es recopilar un conjunto representativo de textos en Shipibo-Konibo que servirá como base para el desarrollo de un Generador Automático de Cuentos en este idioma.\n",
    "\n",
    "El corpus se construirá a partir de fuentes como el Ministerio de Cultura del Perú, bibliotecas digitales y comunidades Shipibo-Konibo hablantes. Se buscará garantizar la diversidad y representatividad del corpus, incluyendo cuentos de diferentes estilos y temáticas."
   ]
  },
  {
   "cell_type": "markdown",
   "metadata": {},
   "source": [
    "## Fuentes"
   ]
  },
  {
   "cell_type": "markdown",
   "metadata": {},
   "source": [
    "- https://www.ositran.gob.pe/anterior/wp-content/uploads/2020/01/primer-concurso-cuentos-shipibo.pdf\n",
    "- https://www.geocities.ws/bolsilloscreativos/historiasshipibas.pdf\n",
    "- https://repositorio.minedu.gob.pe/handle/20.500.12799/9922\n",
    "- https://ia902700.us.archive.org/6/items/antologia-de-relatos-bari-wesna/Antolog%C3%ADa%20de%20relatos%20Bari%20Wesna.pdf\n",
    "- http://umc.minedu.gob.pe/mis-lecturas-favoritas-2019-en-shipibo-konibo/\n",
    "- https://www.sil.org/system/files/reapdata/24/38/04/24380487991663194085294748233919308329/ccp12.pdf"
   ]
  },
  {
   "cell_type": "markdown",
   "metadata": {},
   "source": [
    "## Lectura de datos"
   ]
  },
  {
   "cell_type": "code",
   "execution_count": 15,
   "metadata": {},
   "outputs": [],
   "source": [
    "import PyPDF2\n",
    "import re"
   ]
  },
  {
   "cell_type": "code",
   "execution_count": null,
   "metadata": {},
   "outputs": [],
   "source": [
    "file = open(\"U20190876_corpus.txt\", \"r\", encoding=\"utf-8\")\n",
    "text = file.read()\n",
    "file.close()\n",
    "print(text[:200])"
   ]
  },
  {
   "cell_type": "markdown",
   "metadata": {},
   "source": [
    "### Quimisha incabo ini yoia: Leyendas de los shipibo-conibo sobre los tres incas "
   ]
  },
  {
   "cell_type": "code",
   "execution_count": 16,
   "metadata": {},
   "outputs": [],
   "source": [
    "# Función para leer el archivo de texto\n",
    "def leer_archivo(ruta):\n",
    "    with open(ruta, 'r', encoding='utf-8') as archivo:\n",
    "        contenido = archivo.read()\n",
    "    return contenido\n",
    "\n",
    "# Ruta al archivo (ajusta esta ruta según tu caso)\n",
    "ruta_archivo = 'txt/U20172563_corpus_OCR.txt'\n",
    "\n",
    "# Leer el archivo\n",
    "texto_archivo = leer_archivo(ruta_archivo)\n",
    "\n",
    "\n"
   ]
  },
  {
   "cell_type": "markdown",
   "metadata": {},
   "source": [
    "Dado que `U20172563_corpus_OCR.txt` se generó aplicando OCR. Algunas palabras que tienen caracteres no alfábeticos se deben corregir."
   ]
  },
  {
   "cell_type": "code",
   "execution_count": 17,
   "metadata": {},
   "outputs": [
    {
     "name": "stdout",
     "output_type": "stream",
     "text": [
      "{'Jasc&a8honqui', 'Jasc&ashon', 'bo%hon', 'chib&non', 'ra¥%hqui', 'chitemano®hon', 'mao#h', 'bia%h', 'Com&riniainqui', 'Jascata%h', 'nate$h', 'bo#hon', 'Jisé,.jahuen', 'raan®hon', 'Bo#hon', 'o%ha', 'bi¥hon', '¥hon', 'nincata®hqui', 'tsamata$h', 'pec&o', 'jainoa¥h', 'quentiano$hon', 'i¥hton', 'jascia¥hon', 'a¥hani', 'paen¥hon', 'a¥heacatiai', 'oinna%h', 'retea¥h', 'Ca#hon', 'Jain®honribi', 'ica¥#hqui', 'Jasc&aBhon', '%hon', 'boa&h', 'raan#honai', 'Jo&hon', 'Jascata¥h', 'Ica&hbi', 'yatan$hon', 'nenita®h', 'ic§d', 'chosha%hon', '#haa', 'a%hon', 'paqueta$h', 'ca%hon', 'Jain#hon', 'huasaa#h', 'a¥hanti', 'nac&Shnique', 'Che&he', 'Jasc&8hon', 'Jahuequescéa¥honmein', 'nincata$hqui', 'Jascata$8hqui', 'jasc&abani', 'a¥8hanhuana', 'oin#hon', 'menota%h', 'man#hanteo', 'Jainoa%h', 'Nenoa%h', 'joné¥hon', 'a¥heanique', 'bochiquia®h', 'Yo&shico', 'Jainoca$hqui', 'ac&nique', 'Onan¥hon', 'po#hdéquetian', 'Bo¥hon', 'o¥hacana', 'joa¥h', 'senenha¥honqui', 'joné$hon', 'o#hacasquimai', 'canhuan#hon', 'jay&%hon', 'hab&quetian', 'mato.aanon', 'mao¥hen', 'jasc&a', 'meranoa#h', 'ib&non', 'i%hon', 'Che#heyain', 'bib&tanon', 'ic&d'}\n"
     ]
    }
   ],
   "source": [
    "# Función para encontrar palabras con caracteres no alfabéticos\n",
    "def encontrar_palabras_no_alfabeticas(texto):\n",
    "    # Buscar palabras que contengan caracteres no alfabéticos\n",
    "    palabras_no_alfabeticas = re.findall(r'\\b\\w*[^\\w\\s]+\\w*\\b', texto)\n",
    "    return set(palabras_no_alfabeticas)  # Usamos set para eliminar duplicados\n",
    "\n",
    "# Encontrar palabras no alfabéticas\n",
    "palabras_no_alfabeticas = encontrar_palabras_no_alfabeticas(texto_archivo)\n",
    "\n",
    "# Imprimir las palabras encontradas\n",
    "print(palabras_no_alfabeticas)"
   ]
  },
  {
   "cell_type": "markdown",
   "metadata": {},
   "source": [
    "Diccionario con las correcciones de las palabras con caracteres no alfabéticos"
   ]
  },
  {
   "cell_type": "code",
   "execution_count": 18,
   "metadata": {},
   "outputs": [],
   "source": [
    "correct_words_dict = {\n",
    "    'Jasc&a8honqui': \"Jascáas̈honqui\",\n",
    "    'Jasc&ashon': \"Jascáas̈hon\",\n",
    "    'bo%hon': 'bos̈hon', \n",
    "    'chib&non': 'chibánon', \n",
    "    'ra¥%hqui': 'ras̈hqui', \n",
    "    'chitemano®hon': 'chitemanos̈hon', \n",
    "    'mao#h': 'maos̈h', \n",
    "    'bia%h': 'bias̈h',\n",
    "    'Com&riniainqui': 'Comáriniainqui', \n",
    "    'Jascata%h': 'Jascatas̈h', \n",
    "    'nate$h': 'nates̈h', \n",
    "    'bo#hon': 'bos̈hon', \n",
    "    'Jisé,.jahuen': 'Jisé, jahuen',\n",
    "    'raan®hon': 'raans̈hon', \n",
    "    'Bo#hon': 'Bos̈hon', \n",
    "    'o%ha': 'os̈ha', \n",
    "    'bi¥hon': 'bis̈hon', \n",
    "    '¥hon': 's̈hon',\n",
    "    'nincata®hqui': 'nincatas̈hqui', \n",
    "    'tsamata$h': 'tsamatas̈h', \n",
    "    'pec&o': 'pecáo', \n",
    "    'jainoa¥h': 'jainoas̈h', \n",
    "    'quentiano$hon': 'quentíanos̈hon', \n",
    "    'i¥hton': 'is̈hton', \n",
    "    'jascia¥hon': 'jascáas̈hon', \n",
    "    'a¥hani': 'as̈hani', \n",
    "    'paen¥hon': 'paens̈hon',\n",
    "    # TODO: Verificar correcciones de las siguientes palabras\n",
    "    'a¥heacatiai': 'as̈heacatiai', \n",
    "    'oinna%h': 'oinnas̈h', \n",
    "    'retea¥h': 'reteas̈h', \n",
    "    'Ca#hon': 'Cas̈hon', \n",
    "    'Jain®honribi': 'Jainós̈honribi', \n",
    "    'ica¥#hqui': 'icas̈hqui', \n",
    "    'Jasc&aBhon': 'Jascáas̈hon', \n",
    "    '%hon': 's̈hon', \n",
    "    'boa&h': 'boas̈h', \n",
    "    'raan#honai': 'raanós̈honai', \n",
    "    'Jo&hon': 'Jos̈hon', \n",
    "    'Jascata¥h': 'Jascatas̈h', \n",
    "    'Ica&hbi': 'Icaás̈bi', \n",
    "    'yatan$hon': 'yatans̈hon', \n",
    "    'nenita®h': 'nenitaós̈h', \n",
    "    'ic§d': 'ics̈d', \n",
    "    'chosha%hon': 'choshas̈hon', \n",
    "    '#haa': 's̈haa', \n",
    "    'a%hon': 'as̈hon', \n",
    "    'paqueta$h': 'paquetas̈h', \n",
    "    'ca%hon': 'cas̈hon', \n",
    "    'Jain#hon': 'Jains̈hon', \n",
    "    'huasaa#h': 'huasas̈h', \n",
    "    'a¥hanti': 'as̈hanti', \n",
    "    'nac&Shnique': 'nacás̈hnique', \n",
    "    'Che&he': 'Cheás̈he', \n",
    "    'Jasc&8hon': 'Jascás̈hon', \n",
    "    'Jahuequescéa¥honmein': 'Jahuequescáas̈honmein', \n",
    "    'nincata$hqui': 'nincatas̈hqui', \n",
    "    'Jascata$8hqui': 'Jascatas̈s̈hqui', \n",
    "    'jasc&abani': 'jascás̈bani', \n",
    "    'a¥8hanhuana': 'as̈s̈hanhuana', \n",
    "    'oin#hon': 'oins̈hon', \n",
    "    'menota%h': 'menotas̈h', \n",
    "    'man#hanteo': 'mans̈hanteo', \n",
    "    'Jainoa%h': 'Jainoas̈h', \n",
    "    'Nenoa%h': 'Nenoas̈h', \n",
    "    'joné¥hon': 'jonés̈hon', \n",
    "    'a¥heanique': 'as̈heanique', \n",
    "    'bochiquia®h': 'bochiquiaós̈h', \n",
    "    'Yo&shico': 'Yos̈shico', \n",
    "    'Jainoca$hqui': 'Jainocas̈hqui', \n",
    "    'ac&nique': 'acás̈nique', \n",
    "    'Onan¥hon': 'Onans̈hon', \n",
    "    'po#hdéquetian': 'pos̈hdéquetian', \n",
    "    'Bo¥hon': 'Bos̈hon', \n",
    "    'o¥hacana': 'os̈hacana', \n",
    "    'joa¥h': 'joas̈h', \n",
    "    'senenha¥honqui': 'senenhas̈honqui', \n",
    "    'joné$hon': 'jonés̈hon',\n",
    "    'o#hacasquimai': 'os̈hacasquimai', \n",
    "    'canhuan#hon': 'canhuans̈hon', \n",
    "    'jay&%hon': 'jayás̈hon', \n",
    "    'hab&quetian': 'habáquetian', \n",
    "    'mato.aanon': 'mato aanon', \n",
    "    'mao¥hen': 'maos̈hen', \n",
    "    'jasc&a': 'jascáa', \n",
    "    'meranoa#h': 'meranoas̈h', \n",
    "    'ib&non': 'ibánon', \n",
    "    'i%hon': 'is̈hon', \n",
    "    'Che#heyain': 'Ches̈heyain', \n",
    "    'bib&tanon': 'bibátanon', \n",
    "    'ic&d': 'icás̈d',\n",
    "}"
   ]
  },
  {
   "cell_type": "code",
   "execution_count": 19,
   "metadata": {},
   "outputs": [
    {
     "name": "stdout",
     "output_type": "stream",
     "text": [
      "YOASHICO INCA \n",
      "\n",
      "Ja requena Incan jane ronqui ipaonique, Yodshico Inca, Ja ronqui ipaonique iconbires yoashi. Jahuéqui yocicana ronqui ipaonique iconbiressiqui jatoqui yoashii. Jascara iquen ronqui apaocanique \"Yodshico Inca\", aquin.\n",
      "Ja Yodshico Incan ronqui jato iquina ipaoni- que Bhetebo jonibo. Ja Inca ronqui ipaonique huain teetai joni; jatfbi jahuéqui bandya: nato 8hequi, atsa, paranta, Bhahui, cari, poa, cancan; jatibi jahuéqui banai joni. Jascarabiribi ronqui ipaonique jahuen tee. Jainoa8hqui ipaonique, jatfbi yobin banayaribi: nato caimito, narangha, Bhenan, bimpish, rima, rimon, tapiriba, Zhahuen- meyari, ison8homa, tansharina; ja jahuéquibo banai ronqui ipaonique.\n",
      "JainBhonribiqui jatfbi yoinnabo indya Inca ronqui ic8tiai: nato huaca, cabayo, caraniro, chibo, cochi, ochiti, atapa, nonon, corocoro; ja jahuéquibo indya ronqui icétiai, ja Yoashico Inca. Jatianqui jatfibi jahuéquiati jahudquiboqui ic&- tiai jaibabicho. Jatian ronqui apaocanique, jahuen Bhetebo jonibaonqui jahuéquia\n"
     ]
    }
   ],
   "source": [
    "# Función para aplicar las correcciones\n",
    "def aplicar_correcciones(texto, correcciones):\n",
    "    # Ordenar las claves por longitud, de mayor a menor, para evitar problemas con subcadenas\n",
    "    for incorrecto, correcto in sorted(correcciones.items(), key=lambda x: -len(x[0])):\n",
    "        # Uso de expresiones regulares para reemplazar teniendo en cuenta los límites de palabra\n",
    "        texto = re.sub(r'\\b' + re.escape(incorrecto) + r'\\b', correcto, texto)\n",
    "    return texto\n",
    "\n",
    "texto_corregido = aplicar_correcciones(texto_archivo, correct_words_dict)\n",
    "\n",
    "print(texto_corregido[:1000])"
   ]
  }
 ],
 "metadata": {
  "kernelspec": {
   "display_name": "venv",
   "language": "python",
   "name": "python3"
  },
  "language_info": {
   "codemirror_mode": {
    "name": "ipython",
    "version": 3
   },
   "file_extension": ".py",
   "mimetype": "text/x-python",
   "name": "python",
   "nbconvert_exporter": "python",
   "pygments_lexer": "ipython3",
   "version": "3.12.3"
  }
 },
 "nbformat": 4,
 "nbformat_minor": 2
}
