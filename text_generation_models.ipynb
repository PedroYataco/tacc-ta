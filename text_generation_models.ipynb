{
  "nbformat": 4,
  "nbformat_minor": 0,
  "metadata": {
    "colab": {
      "provenance": [],
      "gpuType": "T4"
    },
    "kernelspec": {
      "name": "python3",
      "display_name": "Python 3"
    },
    "language_info": {
      "name": "python"
    },
    "accelerator": "GPU",
    "widgets": {
      "application/vnd.jupyter.widget-state+json": {
        "8106c7d5e58b4435bf483a993257aff4": {
          "model_module": "@jupyter-widgets/controls",
          "model_name": "HBoxModel",
          "model_module_version": "1.5.0",
          "state": {
            "_dom_classes": [],
            "_model_module": "@jupyter-widgets/controls",
            "_model_module_version": "1.5.0",
            "_model_name": "HBoxModel",
            "_view_count": null,
            "_view_module": "@jupyter-widgets/controls",
            "_view_module_version": "1.5.0",
            "_view_name": "HBoxView",
            "box_style": "",
            "children": [
              "IPY_MODEL_4547b6a337c24c68bb1e31d0be8063e4",
              "IPY_MODEL_9a49248606a24c6c95aa0e0375c15ca3",
              "IPY_MODEL_6090db4f2e034f86888e36ed03b14c03"
            ],
            "layout": "IPY_MODEL_12d8713f75b84ece91335bdf17d42747"
          }
        },
        "4547b6a337c24c68bb1e31d0be8063e4": {
          "model_module": "@jupyter-widgets/controls",
          "model_name": "HTMLModel",
          "model_module_version": "1.5.0",
          "state": {
            "_dom_classes": [],
            "_model_module": "@jupyter-widgets/controls",
            "_model_module_version": "1.5.0",
            "_model_name": "HTMLModel",
            "_view_count": null,
            "_view_module": "@jupyter-widgets/controls",
            "_view_module_version": "1.5.0",
            "_view_name": "HTMLView",
            "description": "",
            "description_tooltip": null,
            "layout": "IPY_MODEL_635f4085f41747329b416c2b94629d1f",
            "placeholder": "​",
            "style": "IPY_MODEL_e845ccdf31b14f1bb599f2301e013d27",
            "value": "vocab.txt: 100%"
          }
        },
        "9a49248606a24c6c95aa0e0375c15ca3": {
          "model_module": "@jupyter-widgets/controls",
          "model_name": "FloatProgressModel",
          "model_module_version": "1.5.0",
          "state": {
            "_dom_classes": [],
            "_model_module": "@jupyter-widgets/controls",
            "_model_module_version": "1.5.0",
            "_model_name": "FloatProgressModel",
            "_view_count": null,
            "_view_module": "@jupyter-widgets/controls",
            "_view_module_version": "1.5.0",
            "_view_name": "ProgressView",
            "bar_style": "success",
            "description": "",
            "description_tooltip": null,
            "layout": "IPY_MODEL_5a09db90e3b44140b4ded45643ce2854",
            "max": 995526,
            "min": 0,
            "orientation": "horizontal",
            "style": "IPY_MODEL_b222ee0052f746b8a94c9b59d54fa9ee",
            "value": 995526
          }
        },
        "6090db4f2e034f86888e36ed03b14c03": {
          "model_module": "@jupyter-widgets/controls",
          "model_name": "HTMLModel",
          "model_module_version": "1.5.0",
          "state": {
            "_dom_classes": [],
            "_model_module": "@jupyter-widgets/controls",
            "_model_module_version": "1.5.0",
            "_model_name": "HTMLModel",
            "_view_count": null,
            "_view_module": "@jupyter-widgets/controls",
            "_view_module_version": "1.5.0",
            "_view_name": "HTMLView",
            "description": "",
            "description_tooltip": null,
            "layout": "IPY_MODEL_c463a7a23c294f53a24aebc106db5c5e",
            "placeholder": "​",
            "style": "IPY_MODEL_3e8ea0cfd26b44659e416381497d9f68",
            "value": " 996k/996k [00:00&lt;00:00, 24.4MB/s]"
          }
        },
        "12d8713f75b84ece91335bdf17d42747": {
          "model_module": "@jupyter-widgets/base",
          "model_name": "LayoutModel",
          "model_module_version": "1.2.0",
          "state": {
            "_model_module": "@jupyter-widgets/base",
            "_model_module_version": "1.2.0",
            "_model_name": "LayoutModel",
            "_view_count": null,
            "_view_module": "@jupyter-widgets/base",
            "_view_module_version": "1.2.0",
            "_view_name": "LayoutView",
            "align_content": null,
            "align_items": null,
            "align_self": null,
            "border": null,
            "bottom": null,
            "display": null,
            "flex": null,
            "flex_flow": null,
            "grid_area": null,
            "grid_auto_columns": null,
            "grid_auto_flow": null,
            "grid_auto_rows": null,
            "grid_column": null,
            "grid_gap": null,
            "grid_row": null,
            "grid_template_areas": null,
            "grid_template_columns": null,
            "grid_template_rows": null,
            "height": null,
            "justify_content": null,
            "justify_items": null,
            "left": null,
            "margin": null,
            "max_height": null,
            "max_width": null,
            "min_height": null,
            "min_width": null,
            "object_fit": null,
            "object_position": null,
            "order": null,
            "overflow": null,
            "overflow_x": null,
            "overflow_y": null,
            "padding": null,
            "right": null,
            "top": null,
            "visibility": null,
            "width": null
          }
        },
        "635f4085f41747329b416c2b94629d1f": {
          "model_module": "@jupyter-widgets/base",
          "model_name": "LayoutModel",
          "model_module_version": "1.2.0",
          "state": {
            "_model_module": "@jupyter-widgets/base",
            "_model_module_version": "1.2.0",
            "_model_name": "LayoutModel",
            "_view_count": null,
            "_view_module": "@jupyter-widgets/base",
            "_view_module_version": "1.2.0",
            "_view_name": "LayoutView",
            "align_content": null,
            "align_items": null,
            "align_self": null,
            "border": null,
            "bottom": null,
            "display": null,
            "flex": null,
            "flex_flow": null,
            "grid_area": null,
            "grid_auto_columns": null,
            "grid_auto_flow": null,
            "grid_auto_rows": null,
            "grid_column": null,
            "grid_gap": null,
            "grid_row": null,
            "grid_template_areas": null,
            "grid_template_columns": null,
            "grid_template_rows": null,
            "height": null,
            "justify_content": null,
            "justify_items": null,
            "left": null,
            "margin": null,
            "max_height": null,
            "max_width": null,
            "min_height": null,
            "min_width": null,
            "object_fit": null,
            "object_position": null,
            "order": null,
            "overflow": null,
            "overflow_x": null,
            "overflow_y": null,
            "padding": null,
            "right": null,
            "top": null,
            "visibility": null,
            "width": null
          }
        },
        "e845ccdf31b14f1bb599f2301e013d27": {
          "model_module": "@jupyter-widgets/controls",
          "model_name": "DescriptionStyleModel",
          "model_module_version": "1.5.0",
          "state": {
            "_model_module": "@jupyter-widgets/controls",
            "_model_module_version": "1.5.0",
            "_model_name": "DescriptionStyleModel",
            "_view_count": null,
            "_view_module": "@jupyter-widgets/base",
            "_view_module_version": "1.2.0",
            "_view_name": "StyleView",
            "description_width": ""
          }
        },
        "5a09db90e3b44140b4ded45643ce2854": {
          "model_module": "@jupyter-widgets/base",
          "model_name": "LayoutModel",
          "model_module_version": "1.2.0",
          "state": {
            "_model_module": "@jupyter-widgets/base",
            "_model_module_version": "1.2.0",
            "_model_name": "LayoutModel",
            "_view_count": null,
            "_view_module": "@jupyter-widgets/base",
            "_view_module_version": "1.2.0",
            "_view_name": "LayoutView",
            "align_content": null,
            "align_items": null,
            "align_self": null,
            "border": null,
            "bottom": null,
            "display": null,
            "flex": null,
            "flex_flow": null,
            "grid_area": null,
            "grid_auto_columns": null,
            "grid_auto_flow": null,
            "grid_auto_rows": null,
            "grid_column": null,
            "grid_gap": null,
            "grid_row": null,
            "grid_template_areas": null,
            "grid_template_columns": null,
            "grid_template_rows": null,
            "height": null,
            "justify_content": null,
            "justify_items": null,
            "left": null,
            "margin": null,
            "max_height": null,
            "max_width": null,
            "min_height": null,
            "min_width": null,
            "object_fit": null,
            "object_position": null,
            "order": null,
            "overflow": null,
            "overflow_x": null,
            "overflow_y": null,
            "padding": null,
            "right": null,
            "top": null,
            "visibility": null,
            "width": null
          }
        },
        "b222ee0052f746b8a94c9b59d54fa9ee": {
          "model_module": "@jupyter-widgets/controls",
          "model_name": "ProgressStyleModel",
          "model_module_version": "1.5.0",
          "state": {
            "_model_module": "@jupyter-widgets/controls",
            "_model_module_version": "1.5.0",
            "_model_name": "ProgressStyleModel",
            "_view_count": null,
            "_view_module": "@jupyter-widgets/base",
            "_view_module_version": "1.2.0",
            "_view_name": "StyleView",
            "bar_color": null,
            "description_width": ""
          }
        },
        "c463a7a23c294f53a24aebc106db5c5e": {
          "model_module": "@jupyter-widgets/base",
          "model_name": "LayoutModel",
          "model_module_version": "1.2.0",
          "state": {
            "_model_module": "@jupyter-widgets/base",
            "_model_module_version": "1.2.0",
            "_model_name": "LayoutModel",
            "_view_count": null,
            "_view_module": "@jupyter-widgets/base",
            "_view_module_version": "1.2.0",
            "_view_name": "LayoutView",
            "align_content": null,
            "align_items": null,
            "align_self": null,
            "border": null,
            "bottom": null,
            "display": null,
            "flex": null,
            "flex_flow": null,
            "grid_area": null,
            "grid_auto_columns": null,
            "grid_auto_flow": null,
            "grid_auto_rows": null,
            "grid_column": null,
            "grid_gap": null,
            "grid_row": null,
            "grid_template_areas": null,
            "grid_template_columns": null,
            "grid_template_rows": null,
            "height": null,
            "justify_content": null,
            "justify_items": null,
            "left": null,
            "margin": null,
            "max_height": null,
            "max_width": null,
            "min_height": null,
            "min_width": null,
            "object_fit": null,
            "object_position": null,
            "order": null,
            "overflow": null,
            "overflow_x": null,
            "overflow_y": null,
            "padding": null,
            "right": null,
            "top": null,
            "visibility": null,
            "width": null
          }
        },
        "3e8ea0cfd26b44659e416381497d9f68": {
          "model_module": "@jupyter-widgets/controls",
          "model_name": "DescriptionStyleModel",
          "model_module_version": "1.5.0",
          "state": {
            "_model_module": "@jupyter-widgets/controls",
            "_model_module_version": "1.5.0",
            "_model_name": "DescriptionStyleModel",
            "_view_count": null,
            "_view_module": "@jupyter-widgets/base",
            "_view_module_version": "1.2.0",
            "_view_name": "StyleView",
            "description_width": ""
          }
        },
        "fc6d501d3ff84d3296197c182f4a7bea": {
          "model_module": "@jupyter-widgets/controls",
          "model_name": "HBoxModel",
          "model_module_version": "1.5.0",
          "state": {
            "_dom_classes": [],
            "_model_module": "@jupyter-widgets/controls",
            "_model_module_version": "1.5.0",
            "_model_name": "HBoxModel",
            "_view_count": null,
            "_view_module": "@jupyter-widgets/controls",
            "_view_module_version": "1.5.0",
            "_view_name": "HBoxView",
            "box_style": "",
            "children": [
              "IPY_MODEL_8f292eb4d3a947d79520a6206b5466e5",
              "IPY_MODEL_1beeff16e64d4607954f27e7ef069067",
              "IPY_MODEL_6d6a9195eeb746b49e7fd87bc464bf76"
            ],
            "layout": "IPY_MODEL_4107cffe97a54be6ac66bb2fbd4b6a98"
          }
        },
        "8f292eb4d3a947d79520a6206b5466e5": {
          "model_module": "@jupyter-widgets/controls",
          "model_name": "HTMLModel",
          "model_module_version": "1.5.0",
          "state": {
            "_dom_classes": [],
            "_model_module": "@jupyter-widgets/controls",
            "_model_module_version": "1.5.0",
            "_model_name": "HTMLModel",
            "_view_count": null,
            "_view_module": "@jupyter-widgets/controls",
            "_view_module_version": "1.5.0",
            "_view_name": "HTMLView",
            "description": "",
            "description_tooltip": null,
            "layout": "IPY_MODEL_84399f21aea24c5992bd8ea3a76c50ad",
            "placeholder": "​",
            "style": "IPY_MODEL_1bf721826bfb4feaac5ae2898feb4c7b",
            "value": "tokenizer_config.json: 100%"
          }
        },
        "1beeff16e64d4607954f27e7ef069067": {
          "model_module": "@jupyter-widgets/controls",
          "model_name": "FloatProgressModel",
          "model_module_version": "1.5.0",
          "state": {
            "_dom_classes": [],
            "_model_module": "@jupyter-widgets/controls",
            "_model_module_version": "1.5.0",
            "_model_name": "FloatProgressModel",
            "_view_count": null,
            "_view_module": "@jupyter-widgets/controls",
            "_view_module_version": "1.5.0",
            "_view_name": "ProgressView",
            "bar_style": "success",
            "description": "",
            "description_tooltip": null,
            "layout": "IPY_MODEL_9ff6c8ca095141e398fcc1be708a14ed",
            "max": 49,
            "min": 0,
            "orientation": "horizontal",
            "style": "IPY_MODEL_75415ce1a7eb47169e29e5f7d8ceee90",
            "value": 49
          }
        },
        "6d6a9195eeb746b49e7fd87bc464bf76": {
          "model_module": "@jupyter-widgets/controls",
          "model_name": "HTMLModel",
          "model_module_version": "1.5.0",
          "state": {
            "_dom_classes": [],
            "_model_module": "@jupyter-widgets/controls",
            "_model_module_version": "1.5.0",
            "_model_name": "HTMLModel",
            "_view_count": null,
            "_view_module": "@jupyter-widgets/controls",
            "_view_module_version": "1.5.0",
            "_view_name": "HTMLView",
            "description": "",
            "description_tooltip": null,
            "layout": "IPY_MODEL_f2e3d3beb3a745ae913ec11fb6d3bdf2",
            "placeholder": "​",
            "style": "IPY_MODEL_043d5d3d2122442ebd18425e847ffb38",
            "value": " 49.0/49.0 [00:00&lt;00:00, 3.37kB/s]"
          }
        },
        "4107cffe97a54be6ac66bb2fbd4b6a98": {
          "model_module": "@jupyter-widgets/base",
          "model_name": "LayoutModel",
          "model_module_version": "1.2.0",
          "state": {
            "_model_module": "@jupyter-widgets/base",
            "_model_module_version": "1.2.0",
            "_model_name": "LayoutModel",
            "_view_count": null,
            "_view_module": "@jupyter-widgets/base",
            "_view_module_version": "1.2.0",
            "_view_name": "LayoutView",
            "align_content": null,
            "align_items": null,
            "align_self": null,
            "border": null,
            "bottom": null,
            "display": null,
            "flex": null,
            "flex_flow": null,
            "grid_area": null,
            "grid_auto_columns": null,
            "grid_auto_flow": null,
            "grid_auto_rows": null,
            "grid_column": null,
            "grid_gap": null,
            "grid_row": null,
            "grid_template_areas": null,
            "grid_template_columns": null,
            "grid_template_rows": null,
            "height": null,
            "justify_content": null,
            "justify_items": null,
            "left": null,
            "margin": null,
            "max_height": null,
            "max_width": null,
            "min_height": null,
            "min_width": null,
            "object_fit": null,
            "object_position": null,
            "order": null,
            "overflow": null,
            "overflow_x": null,
            "overflow_y": null,
            "padding": null,
            "right": null,
            "top": null,
            "visibility": null,
            "width": null
          }
        },
        "84399f21aea24c5992bd8ea3a76c50ad": {
          "model_module": "@jupyter-widgets/base",
          "model_name": "LayoutModel",
          "model_module_version": "1.2.0",
          "state": {
            "_model_module": "@jupyter-widgets/base",
            "_model_module_version": "1.2.0",
            "_model_name": "LayoutModel",
            "_view_count": null,
            "_view_module": "@jupyter-widgets/base",
            "_view_module_version": "1.2.0",
            "_view_name": "LayoutView",
            "align_content": null,
            "align_items": null,
            "align_self": null,
            "border": null,
            "bottom": null,
            "display": null,
            "flex": null,
            "flex_flow": null,
            "grid_area": null,
            "grid_auto_columns": null,
            "grid_auto_flow": null,
            "grid_auto_rows": null,
            "grid_column": null,
            "grid_gap": null,
            "grid_row": null,
            "grid_template_areas": null,
            "grid_template_columns": null,
            "grid_template_rows": null,
            "height": null,
            "justify_content": null,
            "justify_items": null,
            "left": null,
            "margin": null,
            "max_height": null,
            "max_width": null,
            "min_height": null,
            "min_width": null,
            "object_fit": null,
            "object_position": null,
            "order": null,
            "overflow": null,
            "overflow_x": null,
            "overflow_y": null,
            "padding": null,
            "right": null,
            "top": null,
            "visibility": null,
            "width": null
          }
        },
        "1bf721826bfb4feaac5ae2898feb4c7b": {
          "model_module": "@jupyter-widgets/controls",
          "model_name": "DescriptionStyleModel",
          "model_module_version": "1.5.0",
          "state": {
            "_model_module": "@jupyter-widgets/controls",
            "_model_module_version": "1.5.0",
            "_model_name": "DescriptionStyleModel",
            "_view_count": null,
            "_view_module": "@jupyter-widgets/base",
            "_view_module_version": "1.2.0",
            "_view_name": "StyleView",
            "description_width": ""
          }
        },
        "9ff6c8ca095141e398fcc1be708a14ed": {
          "model_module": "@jupyter-widgets/base",
          "model_name": "LayoutModel",
          "model_module_version": "1.2.0",
          "state": {
            "_model_module": "@jupyter-widgets/base",
            "_model_module_version": "1.2.0",
            "_model_name": "LayoutModel",
            "_view_count": null,
            "_view_module": "@jupyter-widgets/base",
            "_view_module_version": "1.2.0",
            "_view_name": "LayoutView",
            "align_content": null,
            "align_items": null,
            "align_self": null,
            "border": null,
            "bottom": null,
            "display": null,
            "flex": null,
            "flex_flow": null,
            "grid_area": null,
            "grid_auto_columns": null,
            "grid_auto_flow": null,
            "grid_auto_rows": null,
            "grid_column": null,
            "grid_gap": null,
            "grid_row": null,
            "grid_template_areas": null,
            "grid_template_columns": null,
            "grid_template_rows": null,
            "height": null,
            "justify_content": null,
            "justify_items": null,
            "left": null,
            "margin": null,
            "max_height": null,
            "max_width": null,
            "min_height": null,
            "min_width": null,
            "object_fit": null,
            "object_position": null,
            "order": null,
            "overflow": null,
            "overflow_x": null,
            "overflow_y": null,
            "padding": null,
            "right": null,
            "top": null,
            "visibility": null,
            "width": null
          }
        },
        "75415ce1a7eb47169e29e5f7d8ceee90": {
          "model_module": "@jupyter-widgets/controls",
          "model_name": "ProgressStyleModel",
          "model_module_version": "1.5.0",
          "state": {
            "_model_module": "@jupyter-widgets/controls",
            "_model_module_version": "1.5.0",
            "_model_name": "ProgressStyleModel",
            "_view_count": null,
            "_view_module": "@jupyter-widgets/base",
            "_view_module_version": "1.2.0",
            "_view_name": "StyleView",
            "bar_color": null,
            "description_width": ""
          }
        },
        "f2e3d3beb3a745ae913ec11fb6d3bdf2": {
          "model_module": "@jupyter-widgets/base",
          "model_name": "LayoutModel",
          "model_module_version": "1.2.0",
          "state": {
            "_model_module": "@jupyter-widgets/base",
            "_model_module_version": "1.2.0",
            "_model_name": "LayoutModel",
            "_view_count": null,
            "_view_module": "@jupyter-widgets/base",
            "_view_module_version": "1.2.0",
            "_view_name": "LayoutView",
            "align_content": null,
            "align_items": null,
            "align_self": null,
            "border": null,
            "bottom": null,
            "display": null,
            "flex": null,
            "flex_flow": null,
            "grid_area": null,
            "grid_auto_columns": null,
            "grid_auto_flow": null,
            "grid_auto_rows": null,
            "grid_column": null,
            "grid_gap": null,
            "grid_row": null,
            "grid_template_areas": null,
            "grid_template_columns": null,
            "grid_template_rows": null,
            "height": null,
            "justify_content": null,
            "justify_items": null,
            "left": null,
            "margin": null,
            "max_height": null,
            "max_width": null,
            "min_height": null,
            "min_width": null,
            "object_fit": null,
            "object_position": null,
            "order": null,
            "overflow": null,
            "overflow_x": null,
            "overflow_y": null,
            "padding": null,
            "right": null,
            "top": null,
            "visibility": null,
            "width": null
          }
        },
        "043d5d3d2122442ebd18425e847ffb38": {
          "model_module": "@jupyter-widgets/controls",
          "model_name": "DescriptionStyleModel",
          "model_module_version": "1.5.0",
          "state": {
            "_model_module": "@jupyter-widgets/controls",
            "_model_module_version": "1.5.0",
            "_model_name": "DescriptionStyleModel",
            "_view_count": null,
            "_view_module": "@jupyter-widgets/base",
            "_view_module_version": "1.2.0",
            "_view_name": "StyleView",
            "description_width": ""
          }
        },
        "319b1f569cf44a2caf636a38e02e3054": {
          "model_module": "@jupyter-widgets/controls",
          "model_name": "HBoxModel",
          "model_module_version": "1.5.0",
          "state": {
            "_dom_classes": [],
            "_model_module": "@jupyter-widgets/controls",
            "_model_module_version": "1.5.0",
            "_model_name": "HBoxModel",
            "_view_count": null,
            "_view_module": "@jupyter-widgets/controls",
            "_view_module_version": "1.5.0",
            "_view_name": "HBoxView",
            "box_style": "",
            "children": [
              "IPY_MODEL_f0a52008a6044355a844b895779e0e0a",
              "IPY_MODEL_3814c11c0ba74b7aa73bd747aff1d321",
              "IPY_MODEL_f52baadcba754e59bbf324b026415812"
            ],
            "layout": "IPY_MODEL_18eb150306944901b608be6adf00c0dd"
          }
        },
        "f0a52008a6044355a844b895779e0e0a": {
          "model_module": "@jupyter-widgets/controls",
          "model_name": "HTMLModel",
          "model_module_version": "1.5.0",
          "state": {
            "_dom_classes": [],
            "_model_module": "@jupyter-widgets/controls",
            "_model_module_version": "1.5.0",
            "_model_name": "HTMLModel",
            "_view_count": null,
            "_view_module": "@jupyter-widgets/controls",
            "_view_module_version": "1.5.0",
            "_view_name": "HTMLView",
            "description": "",
            "description_tooltip": null,
            "layout": "IPY_MODEL_571685bdca9049b196648005ec717d8b",
            "placeholder": "​",
            "style": "IPY_MODEL_cca201af7b9840dda25c45a5357a7b55",
            "value": "config.json: 100%"
          }
        },
        "3814c11c0ba74b7aa73bd747aff1d321": {
          "model_module": "@jupyter-widgets/controls",
          "model_name": "FloatProgressModel",
          "model_module_version": "1.5.0",
          "state": {
            "_dom_classes": [],
            "_model_module": "@jupyter-widgets/controls",
            "_model_module_version": "1.5.0",
            "_model_name": "FloatProgressModel",
            "_view_count": null,
            "_view_module": "@jupyter-widgets/controls",
            "_view_module_version": "1.5.0",
            "_view_name": "ProgressView",
            "bar_style": "success",
            "description": "",
            "description_tooltip": null,
            "layout": "IPY_MODEL_80763ed0bca341ff96ea5f331173e593",
            "max": 625,
            "min": 0,
            "orientation": "horizontal",
            "style": "IPY_MODEL_f0a384cf6d4d485e9d70630b03e762d7",
            "value": 625
          }
        },
        "f52baadcba754e59bbf324b026415812": {
          "model_module": "@jupyter-widgets/controls",
          "model_name": "HTMLModel",
          "model_module_version": "1.5.0",
          "state": {
            "_dom_classes": [],
            "_model_module": "@jupyter-widgets/controls",
            "_model_module_version": "1.5.0",
            "_model_name": "HTMLModel",
            "_view_count": null,
            "_view_module": "@jupyter-widgets/controls",
            "_view_module_version": "1.5.0",
            "_view_name": "HTMLView",
            "description": "",
            "description_tooltip": null,
            "layout": "IPY_MODEL_f03b959498a74e5cba5537b5d85c155b",
            "placeholder": "​",
            "style": "IPY_MODEL_bc7aa5b53ca4457d9a54220b7a899a87",
            "value": " 625/625 [00:00&lt;00:00, 45.1kB/s]"
          }
        },
        "18eb150306944901b608be6adf00c0dd": {
          "model_module": "@jupyter-widgets/base",
          "model_name": "LayoutModel",
          "model_module_version": "1.2.0",
          "state": {
            "_model_module": "@jupyter-widgets/base",
            "_model_module_version": "1.2.0",
            "_model_name": "LayoutModel",
            "_view_count": null,
            "_view_module": "@jupyter-widgets/base",
            "_view_module_version": "1.2.0",
            "_view_name": "LayoutView",
            "align_content": null,
            "align_items": null,
            "align_self": null,
            "border": null,
            "bottom": null,
            "display": null,
            "flex": null,
            "flex_flow": null,
            "grid_area": null,
            "grid_auto_columns": null,
            "grid_auto_flow": null,
            "grid_auto_rows": null,
            "grid_column": null,
            "grid_gap": null,
            "grid_row": null,
            "grid_template_areas": null,
            "grid_template_columns": null,
            "grid_template_rows": null,
            "height": null,
            "justify_content": null,
            "justify_items": null,
            "left": null,
            "margin": null,
            "max_height": null,
            "max_width": null,
            "min_height": null,
            "min_width": null,
            "object_fit": null,
            "object_position": null,
            "order": null,
            "overflow": null,
            "overflow_x": null,
            "overflow_y": null,
            "padding": null,
            "right": null,
            "top": null,
            "visibility": null,
            "width": null
          }
        },
        "571685bdca9049b196648005ec717d8b": {
          "model_module": "@jupyter-widgets/base",
          "model_name": "LayoutModel",
          "model_module_version": "1.2.0",
          "state": {
            "_model_module": "@jupyter-widgets/base",
            "_model_module_version": "1.2.0",
            "_model_name": "LayoutModel",
            "_view_count": null,
            "_view_module": "@jupyter-widgets/base",
            "_view_module_version": "1.2.0",
            "_view_name": "LayoutView",
            "align_content": null,
            "align_items": null,
            "align_self": null,
            "border": null,
            "bottom": null,
            "display": null,
            "flex": null,
            "flex_flow": null,
            "grid_area": null,
            "grid_auto_columns": null,
            "grid_auto_flow": null,
            "grid_auto_rows": null,
            "grid_column": null,
            "grid_gap": null,
            "grid_row": null,
            "grid_template_areas": null,
            "grid_template_columns": null,
            "grid_template_rows": null,
            "height": null,
            "justify_content": null,
            "justify_items": null,
            "left": null,
            "margin": null,
            "max_height": null,
            "max_width": null,
            "min_height": null,
            "min_width": null,
            "object_fit": null,
            "object_position": null,
            "order": null,
            "overflow": null,
            "overflow_x": null,
            "overflow_y": null,
            "padding": null,
            "right": null,
            "top": null,
            "visibility": null,
            "width": null
          }
        },
        "cca201af7b9840dda25c45a5357a7b55": {
          "model_module": "@jupyter-widgets/controls",
          "model_name": "DescriptionStyleModel",
          "model_module_version": "1.5.0",
          "state": {
            "_model_module": "@jupyter-widgets/controls",
            "_model_module_version": "1.5.0",
            "_model_name": "DescriptionStyleModel",
            "_view_count": null,
            "_view_module": "@jupyter-widgets/base",
            "_view_module_version": "1.2.0",
            "_view_name": "StyleView",
            "description_width": ""
          }
        },
        "80763ed0bca341ff96ea5f331173e593": {
          "model_module": "@jupyter-widgets/base",
          "model_name": "LayoutModel",
          "model_module_version": "1.2.0",
          "state": {
            "_model_module": "@jupyter-widgets/base",
            "_model_module_version": "1.2.0",
            "_model_name": "LayoutModel",
            "_view_count": null,
            "_view_module": "@jupyter-widgets/base",
            "_view_module_version": "1.2.0",
            "_view_name": "LayoutView",
            "align_content": null,
            "align_items": null,
            "align_self": null,
            "border": null,
            "bottom": null,
            "display": null,
            "flex": null,
            "flex_flow": null,
            "grid_area": null,
            "grid_auto_columns": null,
            "grid_auto_flow": null,
            "grid_auto_rows": null,
            "grid_column": null,
            "grid_gap": null,
            "grid_row": null,
            "grid_template_areas": null,
            "grid_template_columns": null,
            "grid_template_rows": null,
            "height": null,
            "justify_content": null,
            "justify_items": null,
            "left": null,
            "margin": null,
            "max_height": null,
            "max_width": null,
            "min_height": null,
            "min_width": null,
            "object_fit": null,
            "object_position": null,
            "order": null,
            "overflow": null,
            "overflow_x": null,
            "overflow_y": null,
            "padding": null,
            "right": null,
            "top": null,
            "visibility": null,
            "width": null
          }
        },
        "f0a384cf6d4d485e9d70630b03e762d7": {
          "model_module": "@jupyter-widgets/controls",
          "model_name": "ProgressStyleModel",
          "model_module_version": "1.5.0",
          "state": {
            "_model_module": "@jupyter-widgets/controls",
            "_model_module_version": "1.5.0",
            "_model_name": "ProgressStyleModel",
            "_view_count": null,
            "_view_module": "@jupyter-widgets/base",
            "_view_module_version": "1.2.0",
            "_view_name": "StyleView",
            "bar_color": null,
            "description_width": ""
          }
        },
        "f03b959498a74e5cba5537b5d85c155b": {
          "model_module": "@jupyter-widgets/base",
          "model_name": "LayoutModel",
          "model_module_version": "1.2.0",
          "state": {
            "_model_module": "@jupyter-widgets/base",
            "_model_module_version": "1.2.0",
            "_model_name": "LayoutModel",
            "_view_count": null,
            "_view_module": "@jupyter-widgets/base",
            "_view_module_version": "1.2.0",
            "_view_name": "LayoutView",
            "align_content": null,
            "align_items": null,
            "align_self": null,
            "border": null,
            "bottom": null,
            "display": null,
            "flex": null,
            "flex_flow": null,
            "grid_area": null,
            "grid_auto_columns": null,
            "grid_auto_flow": null,
            "grid_auto_rows": null,
            "grid_column": null,
            "grid_gap": null,
            "grid_row": null,
            "grid_template_areas": null,
            "grid_template_columns": null,
            "grid_template_rows": null,
            "height": null,
            "justify_content": null,
            "justify_items": null,
            "left": null,
            "margin": null,
            "max_height": null,
            "max_width": null,
            "min_height": null,
            "min_width": null,
            "object_fit": null,
            "object_position": null,
            "order": null,
            "overflow": null,
            "overflow_x": null,
            "overflow_y": null,
            "padding": null,
            "right": null,
            "top": null,
            "visibility": null,
            "width": null
          }
        },
        "bc7aa5b53ca4457d9a54220b7a899a87": {
          "model_module": "@jupyter-widgets/controls",
          "model_name": "DescriptionStyleModel",
          "model_module_version": "1.5.0",
          "state": {
            "_model_module": "@jupyter-widgets/controls",
            "_model_module_version": "1.5.0",
            "_model_name": "DescriptionStyleModel",
            "_view_count": null,
            "_view_module": "@jupyter-widgets/base",
            "_view_module_version": "1.2.0",
            "_view_name": "StyleView",
            "description_width": ""
          }
        },
        "d13f11e173b049469025c11219f64a6b": {
          "model_module": "@jupyter-widgets/controls",
          "model_name": "HBoxModel",
          "model_module_version": "1.5.0",
          "state": {
            "_dom_classes": [],
            "_model_module": "@jupyter-widgets/controls",
            "_model_module_version": "1.5.0",
            "_model_name": "HBoxModel",
            "_view_count": null,
            "_view_module": "@jupyter-widgets/controls",
            "_view_module_version": "1.5.0",
            "_view_name": "HBoxView",
            "box_style": "",
            "children": [
              "IPY_MODEL_37270aa167544d5ebb03e8d909522370",
              "IPY_MODEL_1f8f04732e514b38b6404436f93e9a59",
              "IPY_MODEL_c99d8308154d432ca030f40f21e28ca9"
            ],
            "layout": "IPY_MODEL_d8aae1dc53a0485c90add0bd0db7c6dc"
          }
        },
        "37270aa167544d5ebb03e8d909522370": {
          "model_module": "@jupyter-widgets/controls",
          "model_name": "HTMLModel",
          "model_module_version": "1.5.0",
          "state": {
            "_dom_classes": [],
            "_model_module": "@jupyter-widgets/controls",
            "_model_module_version": "1.5.0",
            "_model_name": "HTMLModel",
            "_view_count": null,
            "_view_module": "@jupyter-widgets/controls",
            "_view_module_version": "1.5.0",
            "_view_name": "HTMLView",
            "description": "",
            "description_tooltip": null,
            "layout": "IPY_MODEL_77fc314587734da6a985fe0b89f434b1",
            "placeholder": "​",
            "style": "IPY_MODEL_6e4b65722dbd4ec58eaff3b1a723e3f0",
            "value": "  0%"
          }
        },
        "1f8f04732e514b38b6404436f93e9a59": {
          "model_module": "@jupyter-widgets/controls",
          "model_name": "FloatProgressModel",
          "model_module_version": "1.5.0",
          "state": {
            "_dom_classes": [],
            "_model_module": "@jupyter-widgets/controls",
            "_model_module_version": "1.5.0",
            "_model_name": "FloatProgressModel",
            "_view_count": null,
            "_view_module": "@jupyter-widgets/controls",
            "_view_module_version": "1.5.0",
            "_view_name": "ProgressView",
            "bar_style": "danger",
            "description": "",
            "description_tooltip": null,
            "layout": "IPY_MODEL_f867aaa1eb664e6e8346115639b5f7d4",
            "max": 1,
            "min": 0,
            "orientation": "horizontal",
            "style": "IPY_MODEL_c808e0a3b3cf43419a7cc791af2b85fb",
            "value": 0
          }
        },
        "c99d8308154d432ca030f40f21e28ca9": {
          "model_module": "@jupyter-widgets/controls",
          "model_name": "HTMLModel",
          "model_module_version": "1.5.0",
          "state": {
            "_dom_classes": [],
            "_model_module": "@jupyter-widgets/controls",
            "_model_module_version": "1.5.0",
            "_model_name": "HTMLModel",
            "_view_count": null,
            "_view_module": "@jupyter-widgets/controls",
            "_view_module_version": "1.5.0",
            "_view_name": "HTMLView",
            "description": "",
            "description_tooltip": null,
            "layout": "IPY_MODEL_79642e50753c4acfa2916631f3713588",
            "placeholder": "​",
            "style": "IPY_MODEL_94acba0796bd44e983088f6e7fba5a10",
            "value": " 0/1 [00:00&lt;?, ?ba/s]"
          }
        },
        "d8aae1dc53a0485c90add0bd0db7c6dc": {
          "model_module": "@jupyter-widgets/base",
          "model_name": "LayoutModel",
          "model_module_version": "1.2.0",
          "state": {
            "_model_module": "@jupyter-widgets/base",
            "_model_module_version": "1.2.0",
            "_model_name": "LayoutModel",
            "_view_count": null,
            "_view_module": "@jupyter-widgets/base",
            "_view_module_version": "1.2.0",
            "_view_name": "LayoutView",
            "align_content": null,
            "align_items": null,
            "align_self": null,
            "border": null,
            "bottom": null,
            "display": null,
            "flex": null,
            "flex_flow": null,
            "grid_area": null,
            "grid_auto_columns": null,
            "grid_auto_flow": null,
            "grid_auto_rows": null,
            "grid_column": null,
            "grid_gap": null,
            "grid_row": null,
            "grid_template_areas": null,
            "grid_template_columns": null,
            "grid_template_rows": null,
            "height": null,
            "justify_content": null,
            "justify_items": null,
            "left": null,
            "margin": null,
            "max_height": null,
            "max_width": null,
            "min_height": null,
            "min_width": null,
            "object_fit": null,
            "object_position": null,
            "order": null,
            "overflow": null,
            "overflow_x": null,
            "overflow_y": null,
            "padding": null,
            "right": null,
            "top": null,
            "visibility": null,
            "width": null
          }
        },
        "77fc314587734da6a985fe0b89f434b1": {
          "model_module": "@jupyter-widgets/base",
          "model_name": "LayoutModel",
          "model_module_version": "1.2.0",
          "state": {
            "_model_module": "@jupyter-widgets/base",
            "_model_module_version": "1.2.0",
            "_model_name": "LayoutModel",
            "_view_count": null,
            "_view_module": "@jupyter-widgets/base",
            "_view_module_version": "1.2.0",
            "_view_name": "LayoutView",
            "align_content": null,
            "align_items": null,
            "align_self": null,
            "border": null,
            "bottom": null,
            "display": null,
            "flex": null,
            "flex_flow": null,
            "grid_area": null,
            "grid_auto_columns": null,
            "grid_auto_flow": null,
            "grid_auto_rows": null,
            "grid_column": null,
            "grid_gap": null,
            "grid_row": null,
            "grid_template_areas": null,
            "grid_template_columns": null,
            "grid_template_rows": null,
            "height": null,
            "justify_content": null,
            "justify_items": null,
            "left": null,
            "margin": null,
            "max_height": null,
            "max_width": null,
            "min_height": null,
            "min_width": null,
            "object_fit": null,
            "object_position": null,
            "order": null,
            "overflow": null,
            "overflow_x": null,
            "overflow_y": null,
            "padding": null,
            "right": null,
            "top": null,
            "visibility": null,
            "width": null
          }
        },
        "6e4b65722dbd4ec58eaff3b1a723e3f0": {
          "model_module": "@jupyter-widgets/controls",
          "model_name": "DescriptionStyleModel",
          "model_module_version": "1.5.0",
          "state": {
            "_model_module": "@jupyter-widgets/controls",
            "_model_module_version": "1.5.0",
            "_model_name": "DescriptionStyleModel",
            "_view_count": null,
            "_view_module": "@jupyter-widgets/base",
            "_view_module_version": "1.2.0",
            "_view_name": "StyleView",
            "description_width": ""
          }
        },
        "f867aaa1eb664e6e8346115639b5f7d4": {
          "model_module": "@jupyter-widgets/base",
          "model_name": "LayoutModel",
          "model_module_version": "1.2.0",
          "state": {
            "_model_module": "@jupyter-widgets/base",
            "_model_module_version": "1.2.0",
            "_model_name": "LayoutModel",
            "_view_count": null,
            "_view_module": "@jupyter-widgets/base",
            "_view_module_version": "1.2.0",
            "_view_name": "LayoutView",
            "align_content": null,
            "align_items": null,
            "align_self": null,
            "border": null,
            "bottom": null,
            "display": null,
            "flex": null,
            "flex_flow": null,
            "grid_area": null,
            "grid_auto_columns": null,
            "grid_auto_flow": null,
            "grid_auto_rows": null,
            "grid_column": null,
            "grid_gap": null,
            "grid_row": null,
            "grid_template_areas": null,
            "grid_template_columns": null,
            "grid_template_rows": null,
            "height": null,
            "justify_content": null,
            "justify_items": null,
            "left": null,
            "margin": null,
            "max_height": null,
            "max_width": null,
            "min_height": null,
            "min_width": null,
            "object_fit": null,
            "object_position": null,
            "order": null,
            "overflow": null,
            "overflow_x": null,
            "overflow_y": null,
            "padding": null,
            "right": null,
            "top": null,
            "visibility": null,
            "width": null
          }
        },
        "c808e0a3b3cf43419a7cc791af2b85fb": {
          "model_module": "@jupyter-widgets/controls",
          "model_name": "ProgressStyleModel",
          "model_module_version": "1.5.0",
          "state": {
            "_model_module": "@jupyter-widgets/controls",
            "_model_module_version": "1.5.0",
            "_model_name": "ProgressStyleModel",
            "_view_count": null,
            "_view_module": "@jupyter-widgets/base",
            "_view_module_version": "1.2.0",
            "_view_name": "StyleView",
            "bar_color": null,
            "description_width": ""
          }
        },
        "79642e50753c4acfa2916631f3713588": {
          "model_module": "@jupyter-widgets/base",
          "model_name": "LayoutModel",
          "model_module_version": "1.2.0",
          "state": {
            "_model_module": "@jupyter-widgets/base",
            "_model_module_version": "1.2.0",
            "_model_name": "LayoutModel",
            "_view_count": null,
            "_view_module": "@jupyter-widgets/base",
            "_view_module_version": "1.2.0",
            "_view_name": "LayoutView",
            "align_content": null,
            "align_items": null,
            "align_self": null,
            "border": null,
            "bottom": null,
            "display": null,
            "flex": null,
            "flex_flow": null,
            "grid_area": null,
            "grid_auto_columns": null,
            "grid_auto_flow": null,
            "grid_auto_rows": null,
            "grid_column": null,
            "grid_gap": null,
            "grid_row": null,
            "grid_template_areas": null,
            "grid_template_columns": null,
            "grid_template_rows": null,
            "height": null,
            "justify_content": null,
            "justify_items": null,
            "left": null,
            "margin": null,
            "max_height": null,
            "max_width": null,
            "min_height": null,
            "min_width": null,
            "object_fit": null,
            "object_position": null,
            "order": null,
            "overflow": null,
            "overflow_x": null,
            "overflow_y": null,
            "padding": null,
            "right": null,
            "top": null,
            "visibility": null,
            "width": null
          }
        },
        "94acba0796bd44e983088f6e7fba5a10": {
          "model_module": "@jupyter-widgets/controls",
          "model_name": "DescriptionStyleModel",
          "model_module_version": "1.5.0",
          "state": {
            "_model_module": "@jupyter-widgets/controls",
            "_model_module_version": "1.5.0",
            "_model_name": "DescriptionStyleModel",
            "_view_count": null,
            "_view_module": "@jupyter-widgets/base",
            "_view_module_version": "1.2.0",
            "_view_name": "StyleView",
            "description_width": ""
          }
        },
        "35ea22ff408247bfb46357e5772849a1": {
          "model_module": "@jupyter-widgets/controls",
          "model_name": "HBoxModel",
          "model_module_version": "1.5.0",
          "state": {
            "_dom_classes": [],
            "_model_module": "@jupyter-widgets/controls",
            "_model_module_version": "1.5.0",
            "_model_name": "HBoxModel",
            "_view_count": null,
            "_view_module": "@jupyter-widgets/controls",
            "_view_module_version": "1.5.0",
            "_view_name": "HBoxView",
            "box_style": "",
            "children": [
              "IPY_MODEL_5d29f601177e44579ba976b03bc73a6b",
              "IPY_MODEL_59151e7250c04f50bd15f91c28ff2d71",
              "IPY_MODEL_fe061ad191dc422ba1c73b3494533008"
            ],
            "layout": "IPY_MODEL_2f0ff348a23742f6ac08520daf29699d"
          }
        },
        "5d29f601177e44579ba976b03bc73a6b": {
          "model_module": "@jupyter-widgets/controls",
          "model_name": "HTMLModel",
          "model_module_version": "1.5.0",
          "state": {
            "_dom_classes": [],
            "_model_module": "@jupyter-widgets/controls",
            "_model_module_version": "1.5.0",
            "_model_name": "HTMLModel",
            "_view_count": null,
            "_view_module": "@jupyter-widgets/controls",
            "_view_module_version": "1.5.0",
            "_view_name": "HTMLView",
            "description": "",
            "description_tooltip": null,
            "layout": "IPY_MODEL_a032a3cae7094c66bdf41e4945e69450",
            "placeholder": "​",
            "style": "IPY_MODEL_195dd9efb64a4df2868a013c681e429f",
            "value": "  0%"
          }
        },
        "59151e7250c04f50bd15f91c28ff2d71": {
          "model_module": "@jupyter-widgets/controls",
          "model_name": "FloatProgressModel",
          "model_module_version": "1.5.0",
          "state": {
            "_dom_classes": [],
            "_model_module": "@jupyter-widgets/controls",
            "_model_module_version": "1.5.0",
            "_model_name": "FloatProgressModel",
            "_view_count": null,
            "_view_module": "@jupyter-widgets/controls",
            "_view_module_version": "1.5.0",
            "_view_name": "ProgressView",
            "bar_style": "danger",
            "description": "",
            "description_tooltip": null,
            "layout": "IPY_MODEL_11012900620245c889dda7e340f3a1b2",
            "max": 1,
            "min": 0,
            "orientation": "horizontal",
            "style": "IPY_MODEL_a988b27bb7c84042ad195d8f3490c623",
            "value": 0
          }
        },
        "fe061ad191dc422ba1c73b3494533008": {
          "model_module": "@jupyter-widgets/controls",
          "model_name": "HTMLModel",
          "model_module_version": "1.5.0",
          "state": {
            "_dom_classes": [],
            "_model_module": "@jupyter-widgets/controls",
            "_model_module_version": "1.5.0",
            "_model_name": "HTMLModel",
            "_view_count": null,
            "_view_module": "@jupyter-widgets/controls",
            "_view_module_version": "1.5.0",
            "_view_name": "HTMLView",
            "description": "",
            "description_tooltip": null,
            "layout": "IPY_MODEL_b898ceace02d4619a3d69c0644b3a3f1",
            "placeholder": "​",
            "style": "IPY_MODEL_9379e3335a0c4bfbb0c6ba3d48be4e1c",
            "value": " 0/1 [00:00&lt;?, ?ba/s]"
          }
        },
        "2f0ff348a23742f6ac08520daf29699d": {
          "model_module": "@jupyter-widgets/base",
          "model_name": "LayoutModel",
          "model_module_version": "1.2.0",
          "state": {
            "_model_module": "@jupyter-widgets/base",
            "_model_module_version": "1.2.0",
            "_model_name": "LayoutModel",
            "_view_count": null,
            "_view_module": "@jupyter-widgets/base",
            "_view_module_version": "1.2.0",
            "_view_name": "LayoutView",
            "align_content": null,
            "align_items": null,
            "align_self": null,
            "border": null,
            "bottom": null,
            "display": null,
            "flex": null,
            "flex_flow": null,
            "grid_area": null,
            "grid_auto_columns": null,
            "grid_auto_flow": null,
            "grid_auto_rows": null,
            "grid_column": null,
            "grid_gap": null,
            "grid_row": null,
            "grid_template_areas": null,
            "grid_template_columns": null,
            "grid_template_rows": null,
            "height": null,
            "justify_content": null,
            "justify_items": null,
            "left": null,
            "margin": null,
            "max_height": null,
            "max_width": null,
            "min_height": null,
            "min_width": null,
            "object_fit": null,
            "object_position": null,
            "order": null,
            "overflow": null,
            "overflow_x": null,
            "overflow_y": null,
            "padding": null,
            "right": null,
            "top": null,
            "visibility": null,
            "width": null
          }
        },
        "a032a3cae7094c66bdf41e4945e69450": {
          "model_module": "@jupyter-widgets/base",
          "model_name": "LayoutModel",
          "model_module_version": "1.2.0",
          "state": {
            "_model_module": "@jupyter-widgets/base",
            "_model_module_version": "1.2.0",
            "_model_name": "LayoutModel",
            "_view_count": null,
            "_view_module": "@jupyter-widgets/base",
            "_view_module_version": "1.2.0",
            "_view_name": "LayoutView",
            "align_content": null,
            "align_items": null,
            "align_self": null,
            "border": null,
            "bottom": null,
            "display": null,
            "flex": null,
            "flex_flow": null,
            "grid_area": null,
            "grid_auto_columns": null,
            "grid_auto_flow": null,
            "grid_auto_rows": null,
            "grid_column": null,
            "grid_gap": null,
            "grid_row": null,
            "grid_template_areas": null,
            "grid_template_columns": null,
            "grid_template_rows": null,
            "height": null,
            "justify_content": null,
            "justify_items": null,
            "left": null,
            "margin": null,
            "max_height": null,
            "max_width": null,
            "min_height": null,
            "min_width": null,
            "object_fit": null,
            "object_position": null,
            "order": null,
            "overflow": null,
            "overflow_x": null,
            "overflow_y": null,
            "padding": null,
            "right": null,
            "top": null,
            "visibility": null,
            "width": null
          }
        },
        "195dd9efb64a4df2868a013c681e429f": {
          "model_module": "@jupyter-widgets/controls",
          "model_name": "DescriptionStyleModel",
          "model_module_version": "1.5.0",
          "state": {
            "_model_module": "@jupyter-widgets/controls",
            "_model_module_version": "1.5.0",
            "_model_name": "DescriptionStyleModel",
            "_view_count": null,
            "_view_module": "@jupyter-widgets/base",
            "_view_module_version": "1.2.0",
            "_view_name": "StyleView",
            "description_width": ""
          }
        },
        "11012900620245c889dda7e340f3a1b2": {
          "model_module": "@jupyter-widgets/base",
          "model_name": "LayoutModel",
          "model_module_version": "1.2.0",
          "state": {
            "_model_module": "@jupyter-widgets/base",
            "_model_module_version": "1.2.0",
            "_model_name": "LayoutModel",
            "_view_count": null,
            "_view_module": "@jupyter-widgets/base",
            "_view_module_version": "1.2.0",
            "_view_name": "LayoutView",
            "align_content": null,
            "align_items": null,
            "align_self": null,
            "border": null,
            "bottom": null,
            "display": null,
            "flex": null,
            "flex_flow": null,
            "grid_area": null,
            "grid_auto_columns": null,
            "grid_auto_flow": null,
            "grid_auto_rows": null,
            "grid_column": null,
            "grid_gap": null,
            "grid_row": null,
            "grid_template_areas": null,
            "grid_template_columns": null,
            "grid_template_rows": null,
            "height": null,
            "justify_content": null,
            "justify_items": null,
            "left": null,
            "margin": null,
            "max_height": null,
            "max_width": null,
            "min_height": null,
            "min_width": null,
            "object_fit": null,
            "object_position": null,
            "order": null,
            "overflow": null,
            "overflow_x": null,
            "overflow_y": null,
            "padding": null,
            "right": null,
            "top": null,
            "visibility": null,
            "width": null
          }
        },
        "a988b27bb7c84042ad195d8f3490c623": {
          "model_module": "@jupyter-widgets/controls",
          "model_name": "ProgressStyleModel",
          "model_module_version": "1.5.0",
          "state": {
            "_model_module": "@jupyter-widgets/controls",
            "_model_module_version": "1.5.0",
            "_model_name": "ProgressStyleModel",
            "_view_count": null,
            "_view_module": "@jupyter-widgets/base",
            "_view_module_version": "1.2.0",
            "_view_name": "StyleView",
            "bar_color": null,
            "description_width": ""
          }
        },
        "b898ceace02d4619a3d69c0644b3a3f1": {
          "model_module": "@jupyter-widgets/base",
          "model_name": "LayoutModel",
          "model_module_version": "1.2.0",
          "state": {
            "_model_module": "@jupyter-widgets/base",
            "_model_module_version": "1.2.0",
            "_model_name": "LayoutModel",
            "_view_count": null,
            "_view_module": "@jupyter-widgets/base",
            "_view_module_version": "1.2.0",
            "_view_name": "LayoutView",
            "align_content": null,
            "align_items": null,
            "align_self": null,
            "border": null,
            "bottom": null,
            "display": null,
            "flex": null,
            "flex_flow": null,
            "grid_area": null,
            "grid_auto_columns": null,
            "grid_auto_flow": null,
            "grid_auto_rows": null,
            "grid_column": null,
            "grid_gap": null,
            "grid_row": null,
            "grid_template_areas": null,
            "grid_template_columns": null,
            "grid_template_rows": null,
            "height": null,
            "justify_content": null,
            "justify_items": null,
            "left": null,
            "margin": null,
            "max_height": null,
            "max_width": null,
            "min_height": null,
            "min_width": null,
            "object_fit": null,
            "object_position": null,
            "order": null,
            "overflow": null,
            "overflow_x": null,
            "overflow_y": null,
            "padding": null,
            "right": null,
            "top": null,
            "visibility": null,
            "width": null
          }
        },
        "9379e3335a0c4bfbb0c6ba3d48be4e1c": {
          "model_module": "@jupyter-widgets/controls",
          "model_name": "DescriptionStyleModel",
          "model_module_version": "1.5.0",
          "state": {
            "_model_module": "@jupyter-widgets/controls",
            "_model_module_version": "1.5.0",
            "_model_name": "DescriptionStyleModel",
            "_view_count": null,
            "_view_module": "@jupyter-widgets/base",
            "_view_module_version": "1.2.0",
            "_view_name": "StyleView",
            "description_width": ""
          }
        }
      }
    }
  },
  "cells": [
    {
      "cell_type": "markdown",
      "source": [
        "# Instalaciones"
      ],
      "metadata": {
        "id": "Ncev1-iNGA_6"
      }
    },
    {
      "cell_type": "code",
      "source": [
        "!pip install transformers==4.33"
      ],
      "metadata": {
        "colab": {
          "base_uri": "https://localhost:8080/"
        },
        "id": "AWqZc8d-Nzyh",
        "outputId": "ae622b3b-aa24-41c7-e648-05d22066c853"
      },
      "execution_count": null,
      "outputs": [
        {
          "output_type": "stream",
          "name": "stdout",
          "text": [
            "Requirement already satisfied: transformers==4.33 in /usr/local/lib/python3.10/dist-packages (4.33.0)\n",
            "Requirement already satisfied: filelock in /usr/local/lib/python3.10/dist-packages (from transformers==4.33) (3.15.1)\n",
            "Requirement already satisfied: huggingface-hub<1.0,>=0.15.1 in /usr/local/lib/python3.10/dist-packages (from transformers==4.33) (0.23.4)\n",
            "Requirement already satisfied: numpy>=1.17 in /usr/local/lib/python3.10/dist-packages (from transformers==4.33) (1.25.2)\n",
            "Requirement already satisfied: packaging>=20.0 in /usr/local/lib/python3.10/dist-packages (from transformers==4.33) (24.1)\n",
            "Requirement already satisfied: pyyaml>=5.1 in /usr/local/lib/python3.10/dist-packages (from transformers==4.33) (6.0.1)\n",
            "Requirement already satisfied: regex!=2019.12.17 in /usr/local/lib/python3.10/dist-packages (from transformers==4.33) (2024.5.15)\n",
            "Requirement already satisfied: requests in /usr/local/lib/python3.10/dist-packages (from transformers==4.33) (2.31.0)\n",
            "Requirement already satisfied: tokenizers!=0.11.3,<0.14,>=0.11.1 in /usr/local/lib/python3.10/dist-packages (from transformers==4.33) (0.13.3)\n",
            "Requirement already satisfied: safetensors>=0.3.1 in /usr/local/lib/python3.10/dist-packages (from transformers==4.33) (0.4.3)\n",
            "Requirement already satisfied: tqdm>=4.27 in /usr/local/lib/python3.10/dist-packages (from transformers==4.33) (4.66.4)\n",
            "Requirement already satisfied: fsspec>=2023.5.0 in /usr/local/lib/python3.10/dist-packages (from huggingface-hub<1.0,>=0.15.1->transformers==4.33) (2023.6.0)\n",
            "Requirement already satisfied: typing-extensions>=3.7.4.3 in /usr/local/lib/python3.10/dist-packages (from huggingface-hub<1.0,>=0.15.1->transformers==4.33) (4.12.2)\n",
            "Requirement already satisfied: charset-normalizer<4,>=2 in /usr/local/lib/python3.10/dist-packages (from requests->transformers==4.33) (3.3.2)\n",
            "Requirement already satisfied: idna<4,>=2.5 in /usr/local/lib/python3.10/dist-packages (from requests->transformers==4.33) (3.7)\n",
            "Requirement already satisfied: urllib3<3,>=1.21.1 in /usr/local/lib/python3.10/dist-packages (from requests->transformers==4.33) (2.0.7)\n",
            "Requirement already satisfied: certifi>=2017.4.17 in /usr/local/lib/python3.10/dist-packages (from requests->transformers==4.33) (2024.6.2)\n"
          ]
        }
      ]
    },
    {
      "cell_type": "code",
      "source": [
        "!pip install --upgrade datasets torch pandas keras_preprocessing"
      ],
      "metadata": {
        "colab": {
          "base_uri": "https://localhost:8080/"
        },
        "id": "XMi5SBa1KPnm",
        "outputId": "63e56bc6-c9ec-414b-f7e4-3b809d1d1cba"
      },
      "execution_count": null,
      "outputs": [
        {
          "output_type": "stream",
          "name": "stdout",
          "text": [
            "Collecting datasets\n",
            "  Using cached datasets-2.20.0-py3-none-any.whl (547 kB)\n",
            "Requirement already satisfied: torch in /usr/local/lib/python3.10/dist-packages (2.3.0+cu121)\n",
            "Collecting torch\n",
            "  Downloading torch-2.3.1-cp310-cp310-manylinux1_x86_64.whl (779.1 MB)\n",
            "\u001b[2K     \u001b[90m━━━━━━━━━━━━━━━━━━━━━━━━━━━━━━━━━━━━━━━━\u001b[0m \u001b[32m779.1/779.1 MB\u001b[0m \u001b[31m1.2 MB/s\u001b[0m eta \u001b[36m0:00:00\u001b[0m\n",
            "\u001b[?25hRequirement already satisfied: pandas in /usr/local/lib/python3.10/dist-packages (2.0.3)\n",
            "Collecting pandas\n",
            "  Downloading pandas-2.2.2-cp310-cp310-manylinux_2_17_x86_64.manylinux2014_x86_64.whl (13.0 MB)\n",
            "\u001b[2K     \u001b[90m━━━━━━━━━━━━━━━━━━━━━━━━━━━━━━━━━━━━━━━━\u001b[0m \u001b[32m13.0/13.0 MB\u001b[0m \u001b[31m36.9 MB/s\u001b[0m eta \u001b[36m0:00:00\u001b[0m\n",
            "\u001b[?25hRequirement already satisfied: keras_preprocessing in /usr/local/lib/python3.10/dist-packages (1.1.2)\n",
            "Requirement already satisfied: filelock in /usr/local/lib/python3.10/dist-packages (from datasets) (3.15.1)\n",
            "Requirement already satisfied: numpy>=1.17 in /usr/local/lib/python3.10/dist-packages (from datasets) (1.25.2)\n",
            "Collecting pyarrow>=15.0.0 (from datasets)\n",
            "  Downloading pyarrow-16.1.0-cp310-cp310-manylinux_2_28_x86_64.whl (40.8 MB)\n",
            "\u001b[2K     \u001b[90m━━━━━━━━━━━━━━━━━━━━━━━━━━━━━━━━━━━━━━━━\u001b[0m \u001b[32m40.8/40.8 MB\u001b[0m \u001b[31m10.3 MB/s\u001b[0m eta \u001b[36m0:00:00\u001b[0m\n",
            "\u001b[?25hRequirement already satisfied: pyarrow-hotfix in /usr/local/lib/python3.10/dist-packages (from datasets) (0.6)\n",
            "Collecting dill<0.3.9,>=0.3.0 (from datasets)\n",
            "  Downloading dill-0.3.8-py3-none-any.whl (116 kB)\n",
            "\u001b[2K     \u001b[90m━━━━━━━━━━━━━━━━━━━━━━━━━━━━━━━━━━━━━━━━\u001b[0m \u001b[32m116.3/116.3 kB\u001b[0m \u001b[31m14.1 MB/s\u001b[0m eta \u001b[36m0:00:00\u001b[0m\n",
            "\u001b[?25hCollecting requests>=2.32.2 (from datasets)\n",
            "  Downloading requests-2.32.3-py3-none-any.whl (64 kB)\n",
            "\u001b[2K     \u001b[90m━━━━━━━━━━━━━━━━━━━━━━━━━━━━━━━━━━━━━━━━\u001b[0m \u001b[32m64.9/64.9 kB\u001b[0m \u001b[31m7.5 MB/s\u001b[0m eta \u001b[36m0:00:00\u001b[0m\n",
            "\u001b[?25hRequirement already satisfied: tqdm>=4.66.3 in /usr/local/lib/python3.10/dist-packages (from datasets) (4.66.4)\n",
            "Collecting xxhash (from datasets)\n",
            "  Downloading xxhash-3.4.1-cp310-cp310-manylinux_2_17_x86_64.manylinux2014_x86_64.whl (194 kB)\n",
            "\u001b[2K     \u001b[90m━━━━━━━━━━━━━━━━━━━━━━━━━━━━━━━━━━━━━━━━\u001b[0m \u001b[32m194.1/194.1 kB\u001b[0m \u001b[31m10.7 MB/s\u001b[0m eta \u001b[36m0:00:00\u001b[0m\n",
            "\u001b[?25hCollecting multiprocess (from datasets)\n",
            "  Downloading multiprocess-0.70.16-py310-none-any.whl (134 kB)\n",
            "\u001b[2K     \u001b[90m━━━━━━━━━━━━━━━━━━━━━━━━━━━━━━━━━━━━━━━━\u001b[0m \u001b[32m134.8/134.8 kB\u001b[0m \u001b[31m10.1 MB/s\u001b[0m eta \u001b[36m0:00:00\u001b[0m\n",
            "\u001b[?25hRequirement already satisfied: fsspec[http]<=2024.5.0,>=2023.1.0 in /usr/local/lib/python3.10/dist-packages (from datasets) (2023.6.0)\n",
            "Requirement already satisfied: aiohttp in /usr/local/lib/python3.10/dist-packages (from datasets) (3.9.5)\n",
            "Requirement already satisfied: huggingface-hub>=0.21.2 in /usr/local/lib/python3.10/dist-packages (from datasets) (0.23.4)\n",
            "Requirement already satisfied: packaging in /usr/local/lib/python3.10/dist-packages (from datasets) (24.1)\n",
            "Requirement already satisfied: pyyaml>=5.1 in /usr/local/lib/python3.10/dist-packages (from datasets) (6.0.1)\n",
            "Requirement already satisfied: typing-extensions>=4.8.0 in /usr/local/lib/python3.10/dist-packages (from torch) (4.12.2)\n",
            "Requirement already satisfied: sympy in /usr/local/lib/python3.10/dist-packages (from torch) (1.12.1)\n",
            "Requirement already satisfied: networkx in /usr/local/lib/python3.10/dist-packages (from torch) (3.3)\n",
            "Requirement already satisfied: jinja2 in /usr/local/lib/python3.10/dist-packages (from torch) (3.1.4)\n",
            "Collecting nvidia-cuda-nvrtc-cu12==12.1.105 (from torch)\n",
            "  Using cached nvidia_cuda_nvrtc_cu12-12.1.105-py3-none-manylinux1_x86_64.whl (23.7 MB)\n",
            "Collecting nvidia-cuda-runtime-cu12==12.1.105 (from torch)\n",
            "  Using cached nvidia_cuda_runtime_cu12-12.1.105-py3-none-manylinux1_x86_64.whl (823 kB)\n",
            "Collecting nvidia-cuda-cupti-cu12==12.1.105 (from torch)\n",
            "  Using cached nvidia_cuda_cupti_cu12-12.1.105-py3-none-manylinux1_x86_64.whl (14.1 MB)\n",
            "Collecting nvidia-cudnn-cu12==8.9.2.26 (from torch)\n",
            "  Using cached nvidia_cudnn_cu12-8.9.2.26-py3-none-manylinux1_x86_64.whl (731.7 MB)\n",
            "Collecting nvidia-cublas-cu12==12.1.3.1 (from torch)\n",
            "  Using cached nvidia_cublas_cu12-12.1.3.1-py3-none-manylinux1_x86_64.whl (410.6 MB)\n",
            "Collecting nvidia-cufft-cu12==11.0.2.54 (from torch)\n",
            "  Using cached nvidia_cufft_cu12-11.0.2.54-py3-none-manylinux1_x86_64.whl (121.6 MB)\n",
            "Collecting nvidia-curand-cu12==10.3.2.106 (from torch)\n",
            "  Using cached nvidia_curand_cu12-10.3.2.106-py3-none-manylinux1_x86_64.whl (56.5 MB)\n",
            "Collecting nvidia-cusolver-cu12==11.4.5.107 (from torch)\n",
            "  Using cached nvidia_cusolver_cu12-11.4.5.107-py3-none-manylinux1_x86_64.whl (124.2 MB)\n",
            "Collecting nvidia-cusparse-cu12==12.1.0.106 (from torch)\n",
            "  Using cached nvidia_cusparse_cu12-12.1.0.106-py3-none-manylinux1_x86_64.whl (196.0 MB)\n",
            "Collecting nvidia-nccl-cu12==2.20.5 (from torch)\n",
            "  Using cached nvidia_nccl_cu12-2.20.5-py3-none-manylinux2014_x86_64.whl (176.2 MB)\n",
            "Collecting nvidia-nvtx-cu12==12.1.105 (from torch)\n",
            "  Using cached nvidia_nvtx_cu12-12.1.105-py3-none-manylinux1_x86_64.whl (99 kB)\n",
            "Collecting triton==2.3.1 (from torch)\n",
            "  Downloading triton-2.3.1-cp310-cp310-manylinux_2_17_x86_64.manylinux2014_x86_64.whl (168.1 MB)\n",
            "\u001b[2K     \u001b[90m━━━━━━━━━━━━━━━━━━━━━━━━━━━━━━━━━━━━━━━━\u001b[0m \u001b[32m168.1/168.1 MB\u001b[0m \u001b[31m5.9 MB/s\u001b[0m eta \u001b[36m0:00:00\u001b[0m\n",
            "\u001b[?25hCollecting nvidia-nvjitlink-cu12 (from nvidia-cusolver-cu12==11.4.5.107->torch)\n",
            "  Downloading nvidia_nvjitlink_cu12-12.5.40-py3-none-manylinux2014_x86_64.whl (21.3 MB)\n",
            "\u001b[2K     \u001b[90m━━━━━━━━━━━━━━━━━━━━━━━━━━━━━━━━━━━━━━━━\u001b[0m \u001b[32m21.3/21.3 MB\u001b[0m \u001b[31m30.5 MB/s\u001b[0m eta \u001b[36m0:00:00\u001b[0m\n",
            "\u001b[?25hRequirement already satisfied: python-dateutil>=2.8.2 in /usr/local/lib/python3.10/dist-packages (from pandas) (2.8.2)\n",
            "Requirement already satisfied: pytz>=2020.1 in /usr/local/lib/python3.10/dist-packages (from pandas) (2023.4)\n",
            "Requirement already satisfied: tzdata>=2022.7 in /usr/local/lib/python3.10/dist-packages (from pandas) (2024.1)\n",
            "Requirement already satisfied: six>=1.9.0 in /usr/local/lib/python3.10/dist-packages (from keras_preprocessing) (1.16.0)\n",
            "Requirement already satisfied: aiosignal>=1.1.2 in /usr/local/lib/python3.10/dist-packages (from aiohttp->datasets) (1.3.1)\n",
            "Requirement already satisfied: attrs>=17.3.0 in /usr/local/lib/python3.10/dist-packages (from aiohttp->datasets) (23.2.0)\n",
            "Requirement already satisfied: frozenlist>=1.1.1 in /usr/local/lib/python3.10/dist-packages (from aiohttp->datasets) (1.4.1)\n",
            "Requirement already satisfied: multidict<7.0,>=4.5 in /usr/local/lib/python3.10/dist-packages (from aiohttp->datasets) (6.0.5)\n",
            "Requirement already satisfied: yarl<2.0,>=1.0 in /usr/local/lib/python3.10/dist-packages (from aiohttp->datasets) (1.9.4)\n",
            "Requirement already satisfied: async-timeout<5.0,>=4.0 in /usr/local/lib/python3.10/dist-packages (from aiohttp->datasets) (4.0.3)\n",
            "Requirement already satisfied: charset-normalizer<4,>=2 in /usr/local/lib/python3.10/dist-packages (from requests>=2.32.2->datasets) (3.3.2)\n",
            "Requirement already satisfied: idna<4,>=2.5 in /usr/local/lib/python3.10/dist-packages (from requests>=2.32.2->datasets) (3.7)\n",
            "Requirement already satisfied: urllib3<3,>=1.21.1 in /usr/local/lib/python3.10/dist-packages (from requests>=2.32.2->datasets) (2.0.7)\n",
            "Requirement already satisfied: certifi>=2017.4.17 in /usr/local/lib/python3.10/dist-packages (from requests>=2.32.2->datasets) (2024.6.2)\n",
            "Requirement already satisfied: MarkupSafe>=2.0 in /usr/local/lib/python3.10/dist-packages (from jinja2->torch) (2.1.5)\n",
            "Requirement already satisfied: mpmath<1.4.0,>=1.1.0 in /usr/local/lib/python3.10/dist-packages (from sympy->torch) (1.3.0)\n",
            "Installing collected packages: xxhash, triton, requests, pyarrow, nvidia-nvtx-cu12, nvidia-nvjitlink-cu12, nvidia-nccl-cu12, nvidia-curand-cu12, nvidia-cufft-cu12, nvidia-cuda-runtime-cu12, nvidia-cuda-nvrtc-cu12, nvidia-cuda-cupti-cu12, nvidia-cublas-cu12, dill, pandas, nvidia-cusparse-cu12, nvidia-cudnn-cu12, multiprocess, nvidia-cusolver-cu12, torch, datasets\n",
            "  Attempting uninstall: triton\n",
            "    Found existing installation: triton 2.3.0\n",
            "    Uninstalling triton-2.3.0:\n",
            "      Successfully uninstalled triton-2.3.0\n",
            "  Attempting uninstall: requests\n",
            "    Found existing installation: requests 2.31.0\n",
            "    Uninstalling requests-2.31.0:\n",
            "      Successfully uninstalled requests-2.31.0\n",
            "  Attempting uninstall: pyarrow\n",
            "    Found existing installation: pyarrow 14.0.2\n",
            "    Uninstalling pyarrow-14.0.2:\n",
            "      Successfully uninstalled pyarrow-14.0.2\n",
            "  Attempting uninstall: pandas\n",
            "    Found existing installation: pandas 2.0.3\n",
            "    Uninstalling pandas-2.0.3:\n",
            "      Successfully uninstalled pandas-2.0.3\n",
            "  Attempting uninstall: torch\n",
            "    Found existing installation: torch 2.3.0+cu121\n",
            "    Uninstalling torch-2.3.0+cu121:\n",
            "      Successfully uninstalled torch-2.3.0+cu121\n",
            "\u001b[31mERROR: pip's dependency resolver does not currently take into account all the packages that are installed. This behaviour is the source of the following dependency conflicts.\n",
            "cudf-cu12 24.4.1 requires pandas<2.2.2dev0,>=2.0, but you have pandas 2.2.2 which is incompatible.\n",
            "cudf-cu12 24.4.1 requires pyarrow<15.0.0a0,>=14.0.1, but you have pyarrow 16.1.0 which is incompatible.\n",
            "google-colab 1.0.0 requires pandas==2.0.3, but you have pandas 2.2.2 which is incompatible.\n",
            "google-colab 1.0.0 requires requests==2.31.0, but you have requests 2.32.3 which is incompatible.\n",
            "ibis-framework 8.0.0 requires pyarrow<16,>=2, but you have pyarrow 16.1.0 which is incompatible.\n",
            "torchaudio 2.3.0+cu121 requires torch==2.3.0, but you have torch 2.3.1 which is incompatible.\n",
            "torchvision 0.18.0+cu121 requires torch==2.3.0, but you have torch 2.3.1 which is incompatible.\u001b[0m\u001b[31m\n",
            "\u001b[0mSuccessfully installed datasets-2.20.0 dill-0.3.8 multiprocess-0.70.16 nvidia-cublas-cu12-12.1.3.1 nvidia-cuda-cupti-cu12-12.1.105 nvidia-cuda-nvrtc-cu12-12.1.105 nvidia-cuda-runtime-cu12-12.1.105 nvidia-cudnn-cu12-8.9.2.26 nvidia-cufft-cu12-11.0.2.54 nvidia-curand-cu12-10.3.2.106 nvidia-cusolver-cu12-11.4.5.107 nvidia-cusparse-cu12-12.1.0.106 nvidia-nccl-cu12-2.20.5 nvidia-nvjitlink-cu12-12.5.40 nvidia-nvtx-cu12-12.1.105 pandas-2.2.2 pyarrow-16.1.0 requests-2.32.3 torch-2.3.1 triton-2.3.1 xxhash-3.4.1\n"
          ]
        }
      ]
    },
    {
      "cell_type": "markdown",
      "source": [
        "# Prueba Bert"
      ],
      "metadata": {
        "id": "s4cOiytHGFXV"
      }
    },
    {
      "cell_type": "code",
      "source": [
        "import pandas as pd\n",
        "import torch\n",
        "from transformers import BertTokenizer, BertForMaskedLM, Trainer, TrainingArguments, DataCollatorForLanguageModeling\n",
        "from datasets import Dataset"
      ],
      "metadata": {
        "id": "OQkAUCyB2S_1"
      },
      "execution_count": null,
      "outputs": []
    },
    {
      "cell_type": "code",
      "source": [
        "# Carga el archivo Excel\n",
        "df = pd.read_excel('U20190876_corpus.xlsx')\n",
        "\n",
        "# Supongamos que los cuentos están en una columna llamada 'cuento'\n",
        "textos = df['Body'].tolist()\n",
        "\n",
        "# Crear un dataset de Hugging Face\n",
        "dataset = Dataset.from_dict({'text': textos})"
      ],
      "metadata": {
        "id": "BBedc-l42U4m"
      },
      "execution_count": null,
      "outputs": []
    },
    {
      "cell_type": "code",
      "source": [
        "# Cargar el tokenizador\n",
        "tokenizer = BertTokenizer.from_pretrained('bert-base-multilingual-cased')\n",
        "\n",
        "# Definir la función de tokenización y creación de etiquetas\n",
        "def tokenize_and_mask(examples):\n",
        "    tokenized_inputs = tokenizer(examples['text'], padding='max_length', truncation=True, max_length=128)\n",
        "    with tokenizer.as_target_tokenizer():\n",
        "        labels = tokenizer(examples['text'], padding='max_length', truncation=True, max_length=128)\n",
        "    tokenized_inputs[\"labels\"] = labels[\"input_ids\"]\n",
        "    return tokenized_inputs\n",
        "\n",
        "# Aplicar la función de tokenización y enmascaramiento\n",
        "tokenized_datasets = dataset.map(tokenize_and_mask, batched=True)"
      ],
      "metadata": {
        "colab": {
          "base_uri": "https://localhost:8080/",
          "height": 339,
          "referenced_widgets": [
            "8106c7d5e58b4435bf483a993257aff4",
            "4547b6a337c24c68bb1e31d0be8063e4",
            "9a49248606a24c6c95aa0e0375c15ca3",
            "6090db4f2e034f86888e36ed03b14c03",
            "12d8713f75b84ece91335bdf17d42747",
            "635f4085f41747329b416c2b94629d1f",
            "e845ccdf31b14f1bb599f2301e013d27",
            "5a09db90e3b44140b4ded45643ce2854",
            "b222ee0052f746b8a94c9b59d54fa9ee",
            "c463a7a23c294f53a24aebc106db5c5e",
            "3e8ea0cfd26b44659e416381497d9f68",
            "fc6d501d3ff84d3296197c182f4a7bea",
            "8f292eb4d3a947d79520a6206b5466e5",
            "1beeff16e64d4607954f27e7ef069067",
            "6d6a9195eeb746b49e7fd87bc464bf76",
            "4107cffe97a54be6ac66bb2fbd4b6a98",
            "84399f21aea24c5992bd8ea3a76c50ad",
            "1bf721826bfb4feaac5ae2898feb4c7b",
            "9ff6c8ca095141e398fcc1be708a14ed",
            "75415ce1a7eb47169e29e5f7d8ceee90",
            "f2e3d3beb3a745ae913ec11fb6d3bdf2",
            "043d5d3d2122442ebd18425e847ffb38",
            "319b1f569cf44a2caf636a38e02e3054",
            "f0a52008a6044355a844b895779e0e0a",
            "3814c11c0ba74b7aa73bd747aff1d321",
            "f52baadcba754e59bbf324b026415812",
            "18eb150306944901b608be6adf00c0dd",
            "571685bdca9049b196648005ec717d8b",
            "cca201af7b9840dda25c45a5357a7b55",
            "80763ed0bca341ff96ea5f331173e593",
            "f0a384cf6d4d485e9d70630b03e762d7",
            "f03b959498a74e5cba5537b5d85c155b",
            "bc7aa5b53ca4457d9a54220b7a899a87",
            "d13f11e173b049469025c11219f64a6b",
            "37270aa167544d5ebb03e8d909522370",
            "1f8f04732e514b38b6404436f93e9a59",
            "c99d8308154d432ca030f40f21e28ca9",
            "d8aae1dc53a0485c90add0bd0db7c6dc",
            "77fc314587734da6a985fe0b89f434b1",
            "6e4b65722dbd4ec58eaff3b1a723e3f0",
            "f867aaa1eb664e6e8346115639b5f7d4",
            "c808e0a3b3cf43419a7cc791af2b85fb",
            "79642e50753c4acfa2916631f3713588",
            "94acba0796bd44e983088f6e7fba5a10"
          ]
        },
        "id": "P-cci1BR3Oqn",
        "outputId": "7557fa1c-f4eb-4b51-f819-acc4d60ab378"
      },
      "execution_count": null,
      "outputs": [
        {
          "output_type": "stream",
          "name": "stderr",
          "text": [
            "/usr/local/lib/python3.10/dist-packages/huggingface_hub/file_download.py:1132: FutureWarning: `resume_download` is deprecated and will be removed in version 1.0.0. Downloads always resume when possible. If you want to force a new download, use `force_download=True`.\n",
            "  warnings.warn(\n",
            "/usr/local/lib/python3.10/dist-packages/huggingface_hub/utils/_token.py:89: UserWarning: \n",
            "The secret `HF_TOKEN` does not exist in your Colab secrets.\n",
            "To authenticate with the Hugging Face Hub, create a token in your settings tab (https://huggingface.co/settings/tokens), set it as secret in your Google Colab and restart your session.\n",
            "You will be able to reuse this secret in all of your notebooks.\n",
            "Please note that authentication is recommended but still optional to access public models or datasets.\n",
            "  warnings.warn(\n"
          ]
        },
        {
          "output_type": "display_data",
          "data": {
            "text/plain": [
              "vocab.txt:   0%|          | 0.00/996k [00:00<?, ?B/s]"
            ],
            "application/vnd.jupyter.widget-view+json": {
              "version_major": 2,
              "version_minor": 0,
              "model_id": "8106c7d5e58b4435bf483a993257aff4"
            }
          },
          "metadata": {}
        },
        {
          "output_type": "display_data",
          "data": {
            "text/plain": [
              "tokenizer_config.json:   0%|          | 0.00/49.0 [00:00<?, ?B/s]"
            ],
            "application/vnd.jupyter.widget-view+json": {
              "version_major": 2,
              "version_minor": 0,
              "model_id": "fc6d501d3ff84d3296197c182f4a7bea"
            }
          },
          "metadata": {}
        },
        {
          "output_type": "display_data",
          "data": {
            "text/plain": [
              "config.json:   0%|          | 0.00/625 [00:00<?, ?B/s]"
            ],
            "application/vnd.jupyter.widget-view+json": {
              "version_major": 2,
              "version_minor": 0,
              "model_id": "319b1f569cf44a2caf636a38e02e3054"
            }
          },
          "metadata": {}
        },
        {
          "output_type": "display_data",
          "data": {
            "text/plain": [
              "  0%|          | 0/1 [00:00<?, ?ba/s]"
            ],
            "application/vnd.jupyter.widget-view+json": {
              "version_major": 2,
              "version_minor": 0,
              "model_id": "d13f11e173b049469025c11219f64a6b"
            }
          },
          "metadata": {}
        },
        {
          "output_type": "stream",
          "name": "stderr",
          "text": [
            "/usr/local/lib/python3.10/dist-packages/transformers/tokenization_utils_base.py:3578: UserWarning: `as_target_tokenizer` is deprecated and will be removed in v5 of Transformers. You can tokenize your labels by using the argument `text_target` of the regular `__call__` method (either in the same call as your input texts if you use the same keyword arguments, or in a separate call.\n",
            "  warnings.warn(\n"
          ]
        }
      ]
    },
    {
      "cell_type": "code",
      "source": [
        "# Usar DataCollator para MLM\n",
        "data_collator = DataCollatorForLanguageModeling(\n",
        "    tokenizer=tokenizer,\n",
        "    mlm=True,\n",
        "    mlm_probability=0.15\n",
        ")"
      ],
      "metadata": {
        "id": "aq232-gu3QkH"
      },
      "execution_count": null,
      "outputs": []
    },
    {
      "cell_type": "code",
      "source": [
        "# Cargar el modelo preentrenado\n",
        "model = BertForMaskedLM.from_pretrained('bert-base-multilingual-cased')\n",
        "model ="
      ],
      "metadata": {
        "colab": {
          "base_uri": "https://localhost:8080/"
        },
        "id": "4NJb0WXg8SX6",
        "outputId": "d2420db2-94f3-4f1c-a225-cbb643c106fb"
      },
      "execution_count": null,
      "outputs": [
        {
          "output_type": "stream",
          "name": "stderr",
          "text": [
            "loading configuration file config.json from cache at /root/.cache/huggingface/hub/models--bert-base-multilingual-cased/snapshots/3f076fdb1ab68d5b2880cb87a0886f315b8146f8/config.json\n",
            "Model config BertConfig {\n",
            "  \"architectures\": [\n",
            "    \"BertForMaskedLM\"\n",
            "  ],\n",
            "  \"attention_probs_dropout_prob\": 0.1,\n",
            "  \"classifier_dropout\": null,\n",
            "  \"directionality\": \"bidi\",\n",
            "  \"hidden_act\": \"gelu\",\n",
            "  \"hidden_dropout_prob\": 0.1,\n",
            "  \"hidden_size\": 768,\n",
            "  \"initializer_range\": 0.02,\n",
            "  \"intermediate_size\": 3072,\n",
            "  \"layer_norm_eps\": 1e-12,\n",
            "  \"max_position_embeddings\": 512,\n",
            "  \"model_type\": \"bert\",\n",
            "  \"num_attention_heads\": 12,\n",
            "  \"num_hidden_layers\": 12,\n",
            "  \"pad_token_id\": 0,\n",
            "  \"pooler_fc_size\": 768,\n",
            "  \"pooler_num_attention_heads\": 12,\n",
            "  \"pooler_num_fc_layers\": 3,\n",
            "  \"pooler_size_per_head\": 128,\n",
            "  \"pooler_type\": \"first_token_transform\",\n",
            "  \"position_embedding_type\": \"absolute\",\n",
            "  \"transformers_version\": \"4.25.1\",\n",
            "  \"type_vocab_size\": 2,\n",
            "  \"use_cache\": true,\n",
            "  \"vocab_size\": 119547\n",
            "}\n",
            "\n",
            "loading weights file model.safetensors from cache at /root/.cache/huggingface/hub/models--bert-base-multilingual-cased/snapshots/3f076fdb1ab68d5b2880cb87a0886f315b8146f8/model.safetensors\n",
            "Some weights of the model checkpoint at bert-base-multilingual-cased were not used when initializing BertForMaskedLM: ['cls.seq_relationship.bias', 'cls.seq_relationship.weight']\n",
            "- This IS expected if you are initializing BertForMaskedLM from the checkpoint of a model trained on another task or with another architecture (e.g. initializing a BertForSequenceClassification model from a BertForPreTraining model).\n",
            "- This IS NOT expected if you are initializing BertForMaskedLM from the checkpoint of a model that you expect to be exactly identical (initializing a BertForSequenceClassification model from a BertForSequenceClassification model).\n",
            "All the weights of BertForMaskedLM were initialized from the model checkpoint at bert-base-multilingual-cased.\n",
            "If your task is similar to the task the model of the checkpoint was trained on, you can already use BertForMaskedLM for predictions without further training.\n"
          ]
        }
      ]
    },
    {
      "cell_type": "code",
      "source": [
        "# Configurar los argumentos de entrenamiento\n",
        "training_args = TrainingArguments(\n",
        "    output_dir='./results',\n",
        "    learning_rate=2e-5,\n",
        "    per_device_train_batch_size=8,\n",
        "    per_device_eval_batch_size=8,\n",
        "    num_train_epochs=3,\n",
        "    weight_decay=0.01,\n",
        "    evaluation_strategy=\"no\",\n",
        ")"
      ],
      "metadata": {
        "colab": {
          "base_uri": "https://localhost:8080/"
        },
        "id": "enKHWnA63UPv",
        "outputId": "c389cd54-f567-4aba-a57c-880f6af69795"
      },
      "execution_count": null,
      "outputs": [
        {
          "output_type": "stream",
          "name": "stderr",
          "text": [
            "PyTorch: setting up devices\n",
            "The default value for the training argument `--report_to` will change in v5 (from all installed integrations to none). In v5, you will need to use `--report_to all` to get the same behavior as now. You should start updating your code and make this info disappear :-).\n"
          ]
        }
      ]
    },
    {
      "cell_type": "code",
      "source": [
        "# Configurar el Trainer\n",
        "trainer = Trainer(\n",
        "    model=model,\n",
        "    args=training_args,\n",
        "    train_dataset=tokenized_datasets,\n",
        "    data_collator=data_collator,\n",
        "    tokenizer=tokenizer,\n",
        ")"
      ],
      "metadata": {
        "id": "iUpkxq-m5IOv"
      },
      "execution_count": null,
      "outputs": []
    },
    {
      "cell_type": "code",
      "source": [
        "# Entrenar el modelo\n",
        "trainer.train()"
      ],
      "metadata": {
        "colab": {
          "base_uri": "https://localhost:8080/",
          "height": 425
        },
        "id": "N0-QFgq-7Nj0",
        "outputId": "fdd94c0b-a76b-4a6d-940f-12967865b8ac"
      },
      "execution_count": null,
      "outputs": [
        {
          "output_type": "stream",
          "name": "stderr",
          "text": [
            "The following columns in the training set don't have a corresponding argument in `BertForMaskedLM.forward` and have been ignored: text. If text are not expected by `BertForMaskedLM.forward`,  you can safely ignore this message.\n",
            "/usr/local/lib/python3.10/dist-packages/transformers/optimization.py:306: FutureWarning: This implementation of AdamW is deprecated and will be removed in a future version. Use the PyTorch implementation torch.optim.AdamW instead, or set `no_deprecation_warning=True` to disable this warning\n",
            "  warnings.warn(\n",
            "***** Running training *****\n",
            "  Num examples = 17\n",
            "  Num Epochs = 3\n",
            "  Instantaneous batch size per device = 8\n",
            "  Total train batch size (w. parallel, distributed & accumulation) = 8\n",
            "  Gradient Accumulation steps = 1\n",
            "  Total optimization steps = 9\n",
            "  Number of trainable parameters = 177974523\n"
          ]
        },
        {
          "output_type": "display_data",
          "data": {
            "text/plain": [
              "<IPython.core.display.HTML object>"
            ],
            "text/html": [
              "\n",
              "    <div>\n",
              "      \n",
              "      <progress value='9' max='9' style='width:300px; height:20px; vertical-align: middle;'></progress>\n",
              "      [9/9 02:10, Epoch 3/3]\n",
              "    </div>\n",
              "    <table border=\"1\" class=\"dataframe\">\n",
              "  <thead>\n",
              " <tr style=\"text-align: left;\">\n",
              "      <th>Step</th>\n",
              "      <th>Training Loss</th>\n",
              "    </tr>\n",
              "  </thead>\n",
              "  <tbody>\n",
              "  </tbody>\n",
              "</table><p>"
            ]
          },
          "metadata": {}
        },
        {
          "output_type": "stream",
          "name": "stderr",
          "text": [
            "\n",
            "\n",
            "Training completed. Do not forget to share your model on huggingface.co/models =)\n",
            "\n",
            "\n"
          ]
        },
        {
          "output_type": "execute_result",
          "data": {
            "text/plain": [
              "TrainOutput(global_step=9, training_loss=4.355426364474827, metrics={'train_runtime': 156.8258, 'train_samples_per_second': 0.325, 'train_steps_per_second': 0.057, 'total_flos': 3359348294400.0, 'train_loss': 4.355426364474827, 'epoch': 3.0})"
            ]
          },
          "metadata": {},
          "execution_count": 25
        }
      ]
    },
    {
      "cell_type": "code",
      "source": [
        "model.save_pretrained('./shipibo_bert')\n",
        "tokenizer.save_pretrained('./shipibo_bert')"
      ],
      "metadata": {
        "colab": {
          "base_uri": "https://localhost:8080/"
        },
        "id": "avEtQEQ_7Oo5",
        "outputId": "8d9e0057-7c8c-4018-a243-112bc5394265"
      },
      "execution_count": null,
      "outputs": [
        {
          "output_type": "stream",
          "name": "stderr",
          "text": [
            "Configuration saved in ./shipibo_bert/config.json\n",
            "Model weights saved in ./shipibo_bert/pytorch_model.bin\n",
            "tokenizer config file saved in ./shipibo_bert/tokenizer_config.json\n",
            "Special tokens file saved in ./shipibo_bert/special_tokens_map.json\n"
          ]
        },
        {
          "output_type": "execute_result",
          "data": {
            "text/plain": [
              "('./shipibo_bert/tokenizer_config.json',\n",
              " './shipibo_bert/special_tokens_map.json',\n",
              " './shipibo_bert/vocab.txt',\n",
              " './shipibo_bert/added_tokens.json')"
            ]
          },
          "metadata": {},
          "execution_count": 26
        }
      ]
    },
    {
      "cell_type": "code",
      "source": [
        "from transformers import pipeline\n",
        "\n",
        "# Cargar el modelo ajustado\n",
        "model_path = './shipibo_bert'\n",
        "generator = pipeline('text-generation', model=model, tokenizer=tokenizer)\n",
        "\n",
        "# Generar un cuento\n",
        "output = generator(\"Wetsa neteronki\", max_length=100, num_return_sequences=1)\n",
        "print(output[0]['generated_text'])"
      ],
      "metadata": {
        "colab": {
          "base_uri": "https://localhost:8080/"
        },
        "id": "irxlyIq48oB_",
        "outputId": "2ee6a602-f605-405d-98cd-02048b0de93b"
      },
      "execution_count": null,
      "outputs": [
        {
          "output_type": "stream",
          "name": "stderr",
          "text": [
            "The model 'BertForMaskedLM' is not supported for text-generation. Supported models are ['BartForCausalLM', 'BertLMHeadModel', 'BertGenerationDecoder', 'BigBirdForCausalLM', 'BigBirdPegasusForCausalLM', 'BlenderbotForCausalLM', 'BlenderbotSmallForCausalLM', 'BloomForCausalLM', 'CamembertForCausalLM', 'CodeGenForCausalLM', 'CTRLLMHeadModel', 'Data2VecTextForCausalLM', 'ElectraForCausalLM', 'ErnieForCausalLM', 'GPT2LMHeadModel', 'GPTNeoForCausalLM', 'GPTNeoXForCausalLM', 'GPTNeoXJapaneseForCausalLM', 'GPTJForCausalLM', 'MarianForCausalLM', 'MBartForCausalLM', 'MegatronBertForCausalLM', 'MvpForCausalLM', 'OpenAIGPTLMHeadModel', 'OPTForCausalLM', 'PegasusForCausalLM', 'PLBartForCausalLM', 'ProphetNetForCausalLM', 'QDQBertLMHeadModel', 'ReformerModelWithLMHead', 'RemBertForCausalLM', 'RobertaForCausalLM', 'RoCBertForCausalLM', 'RoFormerForCausalLM', 'Speech2Text2ForCausalLM', 'TransfoXLLMHeadModel', 'TrOCRForCausalLM', 'XGLMForCausalLM', 'XLMWithLMHeadModel', 'XLMProphetNetForCausalLM', 'XLMRobertaForCausalLM', 'XLMRobertaXLForCausalLM', 'XLNetLMHeadModel'].\n"
          ]
        },
        {
          "output_type": "stream",
          "name": "stdout",
          "text": [
            "Wetsa neteronki netronsa ja kat kat kat kat kat kat kat kat kat kat kat kat kat kat kat kat kat kat kat kat kat kat kat kat kat kat kat kat kat kat kat kat kat kat kat kat kat kat kat kat kat kat kat kat kat kat kat kat kat kat kat kat kat kat kat kat kat kat kat kat kat kat kat kat kat kat kat kat kat kat kat kat kat kat kat kat kat kat kat kat kat kat kat kat kat kat kat kat kat kat kat\n"
          ]
        }
      ]
    },
    {
      "cell_type": "markdown",
      "source": [
        "# BertForMaskedLM"
      ],
      "metadata": {
        "id": "2wFjZ_5B9wOH"
      }
    },
    {
      "cell_type": "code",
      "source": [
        "import pandas as pd\n",
        "import torch\n",
        "from transformers import BertTokenizer, BertForMaskedLM, Trainer, TrainingArguments, DataCollatorForLanguageModeling\n",
        "from datasets import Dataset\n",
        "\n",
        "# Carga el archivo Excel\n",
        "df = pd.read_excel('U20190876_corpus.xlsx')\n",
        "\n",
        "# Supongamos que los cuentos están en una columna llamada 'cuento'\n",
        "textos = df['Body'].tolist()\n",
        "\n",
        "# Crear un dataset de Hugging Face\n",
        "dataset = Dataset.from_dict({'text': textos})\n",
        "\n",
        "# Cargar el tokenizador\n",
        "tokenizer = BertTokenizer.from_pretrained('bert-base-multilingual-cased')\n",
        "\n",
        "# Definir la función de tokenización y creación de etiquetas\n",
        "def tokenize_and_mask(examples):\n",
        "    tokenized_inputs = tokenizer(examples['text'], padding='max_length', truncation=True, max_length=128)\n",
        "    with tokenizer.as_target_tokenizer():\n",
        "        labels = tokenizer(examples['text'], padding='max_length', truncation=True, max_length=128)\n",
        "    tokenized_inputs[\"labels\"] = labels[\"input_ids\"]\n",
        "    return tokenized_inputs\n",
        "\n",
        "# Aplicar la función de tokenización y enmascaramiento\n",
        "tokenized_datasets = dataset.map(tokenize_and_mask, batched=True)\n",
        "\n",
        "# Usar DataCollator para MLM\n",
        "data_collator = DataCollatorForLanguageModeling(\n",
        "    tokenizer=tokenizer,\n",
        "    mlm=True,\n",
        "    mlm_probability=0.15\n",
        ")\n",
        "\n",
        "# Cargar el modelo preentrenado\n",
        "model = BertForMaskedLM.from_pretrained('bert-base-multilingual-cased')\n",
        "\n",
        "# Configurar los argumentos de entrenamiento\n",
        "training_args = TrainingArguments(\n",
        "    output_dir='./results',\n",
        "    learning_rate=2e-5,\n",
        "    per_device_train_batch_size=8,\n",
        "    per_device_eval_batch_size=8,\n",
        "    num_train_epochs=3,\n",
        "    weight_decay=0.01,\n",
        "    evaluation_strategy=\"no\",\n",
        ")\n",
        "\n",
        "# Configurar el Trainer\n",
        "trainer = Trainer(\n",
        "    model=model,\n",
        "    args=training_args,\n",
        "    train_dataset=tokenized_datasets,\n",
        "    data_collator=data_collator,\n",
        "    tokenizer=tokenizer,\n",
        ")\n",
        "\n",
        "# Entrenar el modelo\n",
        "trainer.train()\n",
        "\n",
        "# Guardar el modelo ajustado\n",
        "model.save_pretrained('./shipibo_bert')\n",
        "tokenizer.save_pretrained('./shipibo_bert')\n"
      ],
      "metadata": {
        "colab": {
          "base_uri": "https://localhost:8080/",
          "height": 1000,
          "referenced_widgets": [
            "35ea22ff408247bfb46357e5772849a1",
            "5d29f601177e44579ba976b03bc73a6b",
            "59151e7250c04f50bd15f91c28ff2d71",
            "fe061ad191dc422ba1c73b3494533008",
            "2f0ff348a23742f6ac08520daf29699d",
            "a032a3cae7094c66bdf41e4945e69450",
            "195dd9efb64a4df2868a013c681e429f",
            "11012900620245c889dda7e340f3a1b2",
            "a988b27bb7c84042ad195d8f3490c623",
            "b898ceace02d4619a3d69c0644b3a3f1",
            "9379e3335a0c4bfbb0c6ba3d48be4e1c"
          ]
        },
        "id": "ooGHrR18_vbd",
        "outputId": "e144cde3-e63e-4626-a9f6-9c14ac6e0525"
      },
      "execution_count": null,
      "outputs": [
        {
          "output_type": "stream",
          "name": "stderr",
          "text": [
            "/usr/local/lib/python3.10/dist-packages/huggingface_hub/file_download.py:1132: FutureWarning: `resume_download` is deprecated and will be removed in version 1.0.0. Downloads always resume when possible. If you want to force a new download, use `force_download=True`.\n",
            "  warnings.warn(\n",
            "loading file vocab.txt from cache at /root/.cache/huggingface/hub/models--bert-base-multilingual-cased/snapshots/3f076fdb1ab68d5b2880cb87a0886f315b8146f8/vocab.txt\n",
            "loading file added_tokens.json from cache at None\n",
            "loading file special_tokens_map.json from cache at None\n",
            "loading file tokenizer_config.json from cache at /root/.cache/huggingface/hub/models--bert-base-multilingual-cased/snapshots/3f076fdb1ab68d5b2880cb87a0886f315b8146f8/tokenizer_config.json\n",
            "loading configuration file config.json from cache at /root/.cache/huggingface/hub/models--bert-base-multilingual-cased/snapshots/3f076fdb1ab68d5b2880cb87a0886f315b8146f8/config.json\n",
            "Model config BertConfig {\n",
            "  \"_name_or_path\": \"bert-base-multilingual-cased\",\n",
            "  \"architectures\": [\n",
            "    \"BertForMaskedLM\"\n",
            "  ],\n",
            "  \"attention_probs_dropout_prob\": 0.1,\n",
            "  \"classifier_dropout\": null,\n",
            "  \"directionality\": \"bidi\",\n",
            "  \"hidden_act\": \"gelu\",\n",
            "  \"hidden_dropout_prob\": 0.1,\n",
            "  \"hidden_size\": 768,\n",
            "  \"initializer_range\": 0.02,\n",
            "  \"intermediate_size\": 3072,\n",
            "  \"layer_norm_eps\": 1e-12,\n",
            "  \"max_position_embeddings\": 512,\n",
            "  \"model_type\": \"bert\",\n",
            "  \"num_attention_heads\": 12,\n",
            "  \"num_hidden_layers\": 12,\n",
            "  \"pad_token_id\": 0,\n",
            "  \"pooler_fc_size\": 768,\n",
            "  \"pooler_num_attention_heads\": 12,\n",
            "  \"pooler_num_fc_layers\": 3,\n",
            "  \"pooler_size_per_head\": 128,\n",
            "  \"pooler_type\": \"first_token_transform\",\n",
            "  \"position_embedding_type\": \"absolute\",\n",
            "  \"transformers_version\": \"4.25.1\",\n",
            "  \"type_vocab_size\": 2,\n",
            "  \"use_cache\": true,\n",
            "  \"vocab_size\": 119547\n",
            "}\n",
            "\n"
          ]
        },
        {
          "output_type": "display_data",
          "data": {
            "text/plain": [
              "  0%|          | 0/1 [00:00<?, ?ba/s]"
            ],
            "application/vnd.jupyter.widget-view+json": {
              "version_major": 2,
              "version_minor": 0,
              "model_id": "35ea22ff408247bfb46357e5772849a1"
            }
          },
          "metadata": {}
        },
        {
          "output_type": "stream",
          "name": "stderr",
          "text": [
            "/usr/local/lib/python3.10/dist-packages/transformers/tokenization_utils_base.py:3578: UserWarning: `as_target_tokenizer` is deprecated and will be removed in v5 of Transformers. You can tokenize your labels by using the argument `text_target` of the regular `__call__` method (either in the same call as your input texts if you use the same keyword arguments, or in a separate call.\n",
            "  warnings.warn(\n",
            "loading configuration file config.json from cache at /root/.cache/huggingface/hub/models--bert-base-multilingual-cased/snapshots/3f076fdb1ab68d5b2880cb87a0886f315b8146f8/config.json\n",
            "Model config BertConfig {\n",
            "  \"architectures\": [\n",
            "    \"BertForMaskedLM\"\n",
            "  ],\n",
            "  \"attention_probs_dropout_prob\": 0.1,\n",
            "  \"classifier_dropout\": null,\n",
            "  \"directionality\": \"bidi\",\n",
            "  \"hidden_act\": \"gelu\",\n",
            "  \"hidden_dropout_prob\": 0.1,\n",
            "  \"hidden_size\": 768,\n",
            "  \"initializer_range\": 0.02,\n",
            "  \"intermediate_size\": 3072,\n",
            "  \"layer_norm_eps\": 1e-12,\n",
            "  \"max_position_embeddings\": 512,\n",
            "  \"model_type\": \"bert\",\n",
            "  \"num_attention_heads\": 12,\n",
            "  \"num_hidden_layers\": 12,\n",
            "  \"pad_token_id\": 0,\n",
            "  \"pooler_fc_size\": 768,\n",
            "  \"pooler_num_attention_heads\": 12,\n",
            "  \"pooler_num_fc_layers\": 3,\n",
            "  \"pooler_size_per_head\": 128,\n",
            "  \"pooler_type\": \"first_token_transform\",\n",
            "  \"position_embedding_type\": \"absolute\",\n",
            "  \"transformers_version\": \"4.25.1\",\n",
            "  \"type_vocab_size\": 2,\n",
            "  \"use_cache\": true,\n",
            "  \"vocab_size\": 119547\n",
            "}\n",
            "\n",
            "loading weights file model.safetensors from cache at /root/.cache/huggingface/hub/models--bert-base-multilingual-cased/snapshots/3f076fdb1ab68d5b2880cb87a0886f315b8146f8/model.safetensors\n",
            "Some weights of the model checkpoint at bert-base-multilingual-cased were not used when initializing BertForMaskedLM: ['cls.seq_relationship.bias', 'cls.seq_relationship.weight']\n",
            "- This IS expected if you are initializing BertForMaskedLM from the checkpoint of a model trained on another task or with another architecture (e.g. initializing a BertForSequenceClassification model from a BertForPreTraining model).\n",
            "- This IS NOT expected if you are initializing BertForMaskedLM from the checkpoint of a model that you expect to be exactly identical (initializing a BertForSequenceClassification model from a BertForSequenceClassification model).\n",
            "All the weights of BertForMaskedLM were initialized from the model checkpoint at bert-base-multilingual-cased.\n",
            "If your task is similar to the task the model of the checkpoint was trained on, you can already use BertForMaskedLM for predictions without further training.\n",
            "PyTorch: setting up devices\n",
            "The default value for the training argument `--report_to` will change in v5 (from all installed integrations to none). In v5, you will need to use `--report_to all` to get the same behavior as now. You should start updating your code and make this info disappear :-).\n",
            "The following columns in the training set don't have a corresponding argument in `BertForMaskedLM.forward` and have been ignored: text. If text are not expected by `BertForMaskedLM.forward`,  you can safely ignore this message.\n",
            "/usr/local/lib/python3.10/dist-packages/transformers/optimization.py:306: FutureWarning: This implementation of AdamW is deprecated and will be removed in a future version. Use the PyTorch implementation torch.optim.AdamW instead, or set `no_deprecation_warning=True` to disable this warning\n",
            "  warnings.warn(\n",
            "***** Running training *****\n",
            "  Num examples = 17\n",
            "  Num Epochs = 3\n",
            "  Instantaneous batch size per device = 8\n",
            "  Total train batch size (w. parallel, distributed & accumulation) = 8\n",
            "  Gradient Accumulation steps = 1\n",
            "  Total optimization steps = 9\n",
            "  Number of trainable parameters = 177974523\n"
          ]
        },
        {
          "output_type": "display_data",
          "data": {
            "text/plain": [
              "<IPython.core.display.HTML object>"
            ],
            "text/html": [
              "\n",
              "    <div>\n",
              "      \n",
              "      <progress value='9' max='9' style='width:300px; height:20px; vertical-align: middle;'></progress>\n",
              "      [9/9 02:07, Epoch 3/3]\n",
              "    </div>\n",
              "    <table border=\"1\" class=\"dataframe\">\n",
              "  <thead>\n",
              " <tr style=\"text-align: left;\">\n",
              "      <th>Step</th>\n",
              "      <th>Training Loss</th>\n",
              "    </tr>\n",
              "  </thead>\n",
              "  <tbody>\n",
              "  </tbody>\n",
              "</table><p>"
            ]
          },
          "metadata": {}
        },
        {
          "output_type": "stream",
          "name": "stderr",
          "text": [
            "\n",
            "\n",
            "Training completed. Do not forget to share your model on huggingface.co/models =)\n",
            "\n",
            "\n",
            "Configuration saved in ./shipibo_bert/config.json\n",
            "Model weights saved in ./shipibo_bert/pytorch_model.bin\n",
            "tokenizer config file saved in ./shipibo_bert/tokenizer_config.json\n",
            "Special tokens file saved in ./shipibo_bert/special_tokens_map.json\n"
          ]
        },
        {
          "output_type": "execute_result",
          "data": {
            "text/plain": [
              "('./shipibo_bert/tokenizer_config.json',\n",
              " './shipibo_bert/special_tokens_map.json',\n",
              " './shipibo_bert/vocab.txt',\n",
              " './shipibo_bert/added_tokens.json')"
            ]
          },
          "metadata": {},
          "execution_count": 31
        }
      ]
    },
    {
      "cell_type": "code",
      "source": [
        "from transformers import pipeline\n",
        "\n",
        "# Cargar el modelo ajustado\n",
        "generator = pipeline('text-generation', model=model, tokenizer=tokenizer)\n",
        "\n",
        "# Generar un cuento\n",
        "output = generator(\"Wetsa neteronki\", max_length=100, num_return_sequences=1)\n",
        "print(output[0]['generated_text'])"
      ],
      "metadata": {
        "colab": {
          "base_uri": "https://localhost:8080/"
        },
        "id": "3kpIW83MEF28",
        "outputId": "61fc5d7d-6197-4c01-9163-557a30a94cc8"
      },
      "execution_count": null,
      "outputs": [
        {
          "output_type": "stream",
          "name": "stderr",
          "text": [
            "The model 'BertForMaskedLM' is not supported for text-generation. Supported models are ['BartForCausalLM', 'BertLMHeadModel', 'BertGenerationDecoder', 'BigBirdForCausalLM', 'BigBirdPegasusForCausalLM', 'BlenderbotForCausalLM', 'BlenderbotSmallForCausalLM', 'BloomForCausalLM', 'CamembertForCausalLM', 'CodeGenForCausalLM', 'CTRLLMHeadModel', 'Data2VecTextForCausalLM', 'ElectraForCausalLM', 'ErnieForCausalLM', 'GPT2LMHeadModel', 'GPTNeoForCausalLM', 'GPTNeoXForCausalLM', 'GPTNeoXJapaneseForCausalLM', 'GPTJForCausalLM', 'MarianForCausalLM', 'MBartForCausalLM', 'MegatronBertForCausalLM', 'MvpForCausalLM', 'OpenAIGPTLMHeadModel', 'OPTForCausalLM', 'PegasusForCausalLM', 'PLBartForCausalLM', 'ProphetNetForCausalLM', 'QDQBertLMHeadModel', 'ReformerModelWithLMHead', 'RemBertForCausalLM', 'RobertaForCausalLM', 'RoCBertForCausalLM', 'RoFormerForCausalLM', 'Speech2Text2ForCausalLM', 'TransfoXLLMHeadModel', 'TrOCRForCausalLM', 'XGLMForCausalLM', 'XLMWithLMHeadModel', 'XLMProphetNetForCausalLM', 'XLMRobertaForCausalLM', 'XLMRobertaXLForCausalLM', 'XLNetLMHeadModel'].\n"
          ]
        },
        {
          "output_type": "stream",
          "name": "stdout",
          "text": [
            "Wetsa neteronki netronsa ja kat kat kat kat kat kat kat kat kat kat kat kat kat kat kat kat kat kat kat kat kat kat kat kat kat kat kat kat kat kat kat kat kat kat kat kat kat kat kat kat kat kat kat kat kat kat kat kat kat kat kat kat kat kat kat kat kat kat kat kat kat kat kat kat kat kat kat kat kat kat kat kat kat kat kat kat kat kat kat kat kat kat kat kat kat kat kat kat kat kat kat\n"
          ]
        }
      ]
    },
    {
      "cell_type": "markdown",
      "source": [
        "# GPT-2"
      ],
      "metadata": {
        "id": "FFVbAxvJAmSf"
      }
    },
    {
      "cell_type": "code",
      "source": [
        "import pandas as pd\n",
        "import torch\n",
        "from transformers import GPT2Tokenizer, GPT2LMHeadModel, Trainer, TrainingArguments, TextDataset, DataCollatorForLanguageModeling\n",
        "from datasets import Dataset\n",
        "\n",
        "# Carga el archivo Excel\n",
        "df = pd.read_csv('corpus.csv')\n",
        "\n",
        "# Supongamos que los cuentos están en una columna llamada 'Body'\n",
        "textos = df['Body'].tolist()\n",
        "\n",
        "# Guardar los textos en un archivo para usar con TextDataset\n",
        "with open('cuentos_shipibo.txt', 'w', encoding='utf-8') as f:\n",
        "    for cuento in textos:\n",
        "        f.write(cuento + '\\n')\n"
      ],
      "metadata": {
        "collapsed": true,
        "id": "H52_npwPArLZ",
        "colab": {
          "base_uri": "https://localhost:8080/",
          "height": 383
        },
        "outputId": "674e2b21-9ce8-4998-fc2e-7e92ebfc9cd2"
      },
      "execution_count": null,
      "outputs": [
        {
          "output_type": "error",
          "ename": "ModuleNotFoundError",
          "evalue": "No module named 'datasets'",
          "traceback": [
            "\u001b[0;31m---------------------------------------------------------------------------\u001b[0m",
            "\u001b[0;31mModuleNotFoundError\u001b[0m                       Traceback (most recent call last)",
            "\u001b[0;32m<ipython-input-16-7df6a87eea88>\u001b[0m in \u001b[0;36m<cell line: 4>\u001b[0;34m()\u001b[0m\n\u001b[1;32m      2\u001b[0m \u001b[0;32mimport\u001b[0m \u001b[0mtorch\u001b[0m\u001b[0;34m\u001b[0m\u001b[0;34m\u001b[0m\u001b[0m\n\u001b[1;32m      3\u001b[0m \u001b[0;32mfrom\u001b[0m \u001b[0mtransformers\u001b[0m \u001b[0;32mimport\u001b[0m \u001b[0mGPT2Tokenizer\u001b[0m\u001b[0;34m,\u001b[0m \u001b[0mGPT2LMHeadModel\u001b[0m\u001b[0;34m,\u001b[0m \u001b[0mTrainer\u001b[0m\u001b[0;34m,\u001b[0m \u001b[0mTrainingArguments\u001b[0m\u001b[0;34m,\u001b[0m \u001b[0mTextDataset\u001b[0m\u001b[0;34m,\u001b[0m \u001b[0mDataCollatorForLanguageModeling\u001b[0m\u001b[0;34m\u001b[0m\u001b[0;34m\u001b[0m\u001b[0m\n\u001b[0;32m----> 4\u001b[0;31m \u001b[0;32mfrom\u001b[0m \u001b[0mdatasets\u001b[0m \u001b[0;32mimport\u001b[0m \u001b[0mDataset\u001b[0m\u001b[0;34m\u001b[0m\u001b[0;34m\u001b[0m\u001b[0m\n\u001b[0m\u001b[1;32m      5\u001b[0m \u001b[0;34m\u001b[0m\u001b[0m\n\u001b[1;32m      6\u001b[0m \u001b[0;31m# Carga el archivo Excel\u001b[0m\u001b[0;34m\u001b[0m\u001b[0;34m\u001b[0m\u001b[0m\n",
            "\u001b[0;31mModuleNotFoundError\u001b[0m: No module named 'datasets'",
            "",
            "\u001b[0;31m---------------------------------------------------------------------------\u001b[0;32m\nNOTE: If your import is failing due to a missing package, you can\nmanually install dependencies using either !pip or !apt.\n\nTo view examples of installing some common dependencies, click the\n\"Open Examples\" button below.\n\u001b[0;31m---------------------------------------------------------------------------\u001b[0m\n"
          ],
          "errorDetails": {
            "actions": [
              {
                "action": "open_url",
                "actionText": "Open Examples",
                "url": "/notebooks/snippets/importing_libraries.ipynb"
              }
            ]
          }
        }
      ]
    },
    {
      "cell_type": "code",
      "source": [
        "# Cargar el tokenizador y el modelo preentrenado GPT-2\n",
        "tokenizer_GPT2 = GPT2Tokenizer.from_pretrained('gpt2')\n",
        "model_GPT2 = GPT2LMHeadModel.from_pretrained('gpt2')"
      ],
      "metadata": {
        "colab": {
          "base_uri": "https://localhost:8080/"
        },
        "id": "b5bMkOZol87g",
        "outputId": "d42f3164-3b4a-417e-946d-263015c8e955"
      },
      "execution_count": null,
      "outputs": [
        {
          "output_type": "stream",
          "name": "stderr",
          "text": [
            "/usr/local/lib/python3.10/dist-packages/huggingface_hub/file_download.py:1132: FutureWarning: `resume_download` is deprecated and will be removed in version 1.0.0. Downloads always resume when possible. If you want to force a new download, use `force_download=True`.\n",
            "  warnings.warn(\n",
            "/usr/local/lib/python3.10/dist-packages/huggingface_hub/utils/_token.py:89: UserWarning: \n",
            "The secret `HF_TOKEN` does not exist in your Colab secrets.\n",
            "To authenticate with the Hugging Face Hub, create a token in your settings tab (https://huggingface.co/settings/tokens), set it as secret in your Google Colab and restart your session.\n",
            "You will be able to reuse this secret in all of your notebooks.\n",
            "Please note that authentication is recommended but still optional to access public models or datasets.\n",
            "  warnings.warn(\n"
          ]
        }
      ]
    },
    {
      "cell_type": "code",
      "source": [
        "# Crear el dataset de entrenamiento\n",
        "train_dataset = TextDataset(\n",
        "    tokenizer=tokenizer_GPT2,\n",
        "    file_path='cuentos_shipibo.txt',\n",
        "    block_size=128,\n",
        ")\n",
        "\n",
        "# Crear el data collator\n",
        "data_collator = DataCollatorForLanguageModeling(\n",
        "    tokenizer=tokenizer_GPT2,\n",
        "    mlm=False,\n",
        ")\n",
        "\n",
        "# Configurar los argumentos de entrenamiento\n",
        "training_args = TrainingArguments(\n",
        "    output_dir='./results',\n",
        "    overwrite_output_dir=True,\n",
        "    num_train_epochs=3,\n",
        "    per_device_train_batch_size=8,\n",
        "    save_steps=10_000,\n",
        "    save_total_limit=2,\n",
        "    logging_dir='./logs',\n",
        "    evaluation_strategy=\"no\",\n",
        ")\n",
        "\n",
        "# Crear el Trainer\n",
        "trainer = Trainer(\n",
        "    model=model_GPT2,\n",
        "    args=training_args,\n",
        "    data_collator=data_collator,\n",
        "    train_dataset=train_dataset,\n",
        ")"
      ],
      "metadata": {
        "colab": {
          "base_uri": "https://localhost:8080/"
        },
        "id": "nkxGXsYcmAA2",
        "outputId": "eaccbe6e-fe8c-4aa5-e379-44277825dfb6"
      },
      "execution_count": null,
      "outputs": [
        {
          "output_type": "stream",
          "name": "stderr",
          "text": [
            "/usr/local/lib/python3.10/dist-packages/transformers/data/datasets/language_modeling.py:54: FutureWarning: This dataset will be removed from the library soon, preprocessing should be handled with the 🤗 Datasets library. You can have a look at this example script for pointers: https://github.com/huggingface/transformers/blob/main/examples/pytorch/language-modeling/run_mlm.py\n",
            "  warnings.warn(\n"
          ]
        }
      ]
    },
    {
      "cell_type": "code",
      "source": [
        "# Entrenar el modelo\n",
        "trainer.train()\n",
        "\n",
        "# Guardar el modelo ajustado\n",
        "model_GPT2.save_pretrained('./shipibo_gpt2')\n",
        "tokenizer_GPT2.save_pretrained('./shipibo_gpt2')"
      ],
      "metadata": {
        "colab": {
          "base_uri": "https://localhost:8080/",
          "height": 512
        },
        "id": "LKutS2OgmDhD",
        "outputId": "3ecd877a-ced2-4e32-808f-82f8b323b3c5"
      },
      "execution_count": null,
      "outputs": [
        {
          "output_type": "stream",
          "name": "stderr",
          "text": [
            "/usr/local/lib/python3.10/dist-packages/transformers/optimization.py:306: FutureWarning: This implementation of AdamW is deprecated and will be removed in a future version. Use the PyTorch implementation torch.optim.AdamW instead, or set `no_deprecation_warning=True` to disable this warning\n",
            "  warnings.warn(\n",
            "***** Running training *****\n",
            "  Num examples = 295\n",
            "  Num Epochs = 3\n",
            "  Instantaneous batch size per device = 8\n",
            "  Total train batch size (w. parallel, distributed & accumulation) = 8\n",
            "  Gradient Accumulation steps = 1\n",
            "  Total optimization steps = 111\n",
            "  Number of trainable parameters = 124439808\n"
          ]
        },
        {
          "output_type": "display_data",
          "data": {
            "text/plain": [
              "<IPython.core.display.HTML object>"
            ],
            "text/html": [
              "\n",
              "    <div>\n",
              "      \n",
              "      <progress value='111' max='111' style='width:300px; height:20px; vertical-align: middle;'></progress>\n",
              "      [111/111 00:32, Epoch 3/3]\n",
              "    </div>\n",
              "    <table border=\"1\" class=\"dataframe\">\n",
              "  <thead>\n",
              " <tr style=\"text-align: left;\">\n",
              "      <th>Step</th>\n",
              "      <th>Training Loss</th>\n",
              "    </tr>\n",
              "  </thead>\n",
              "  <tbody>\n",
              "  </tbody>\n",
              "</table><p>"
            ]
          },
          "metadata": {}
        },
        {
          "output_type": "stream",
          "name": "stderr",
          "text": [
            "\n",
            "\n",
            "Training completed. Do not forget to share your model on huggingface.co/models =)\n",
            "\n",
            "\n",
            "Configuration saved in ./shipibo_gpt2/config.json\n",
            "Model weights saved in ./shipibo_gpt2/pytorch_model.bin\n",
            "tokenizer config file saved in ./shipibo_gpt2/tokenizer_config.json\n",
            "Special tokens file saved in ./shipibo_gpt2/special_tokens_map.json\n"
          ]
        },
        {
          "output_type": "execute_result",
          "data": {
            "text/plain": [
              "('./shipibo_gpt2/tokenizer_config.json',\n",
              " './shipibo_gpt2/special_tokens_map.json',\n",
              " './shipibo_gpt2/vocab.json',\n",
              " './shipibo_gpt2/merges.txt',\n",
              " './shipibo_gpt2/added_tokens.json')"
            ]
          },
          "metadata": {},
          "execution_count": 4
        }
      ]
    },
    {
      "cell_type": "code",
      "source": [
        "device = torch.device(\"cuda:0\" if torch.cuda.is_available() else \"cpu\")\n",
        "# Generar un cuento\n",
        "from transformers import pipeline\n",
        "\n",
        "# Cargar el modelo ajustado\n",
        "generator = pipeline('text-generation', model=model_GPT2, tokenizer=tokenizer_GPT2, device=device)\n",
        "\n",
        "# Generar un cuento\n",
        "output = generator(\"Wetsa neteronki\", max_length=100, num_return_sequences=1)\n",
        "print(output[0]['generated_text'])"
      ],
      "metadata": {
        "colab": {
          "base_uri": "https://localhost:8080/"
        },
        "id": "DtfsZtkaDRjP",
        "outputId": "03c4d91f-385b-4002-e6c8-69b966694a26"
      },
      "execution_count": null,
      "outputs": [
        {
          "output_type": "stream",
          "name": "stderr",
          "text": [
            "Setting `pad_token_id` to `eos_token_id`:50256 for open-end generation.\n"
          ]
        },
        {
          "output_type": "stream",
          "name": "stdout",
          "text": [
            "Wetsa neteronki ronki, joni iketian, ma ronki jakin mokó iká iki. Jatian jawen matia iki, piká iki namaká iki, makenobonki wetsa iki. Jaskatax ja namanakin iká iki. Ja  kana ichí benki, ea imi, moa bai.\n"
          ]
        }
      ]
    },
    {
      "cell_type": "markdown",
      "source": [
        "# GPT2 - Test2"
      ],
      "metadata": {
        "id": "TLuQ11ngm7gX"
      }
    },
    {
      "cell_type": "code",
      "source": [
        "import pandas as pd\n",
        "from sklearn.model_selection import train_test_split\n",
        "import torch\n",
        "from transformers import GPT2Tokenizer, GPT2LMHeadModel, Trainer, TrainingArguments, TextDataset, DataCollatorForLanguageModeling, AutoTokenizer\n",
        "\n",
        "# Carga el archivo Excel\n",
        "df = pd.read_csv('corpus.csv')\n",
        "\n",
        "# Supongamos que los cuentos están en una columna llamada 'Body'\n",
        "textos = df['Body'].tolist()"
      ],
      "metadata": {
        "id": "Dj_COh3Im9-Z",
        "colab": {
          "base_uri": "https://localhost:8080/"
        },
        "outputId": "a7d5cd28-0235-4277-96c9-ef6014562ea3"
      },
      "execution_count": null,
      "outputs": [
        {
          "output_type": "stream",
          "name": "stderr",
          "text": [
            "/usr/local/lib/python3.10/dist-packages/transformers/utils/generic.py:311: UserWarning: torch.utils._pytree._register_pytree_node is deprecated. Please use torch.utils._pytree.register_pytree_node instead.\n",
            "  torch.utils._pytree._register_pytree_node(\n",
            "/usr/local/lib/python3.10/dist-packages/transformers/utils/generic.py:311: UserWarning: torch.utils._pytree._register_pytree_node is deprecated. Please use torch.utils._pytree.register_pytree_node instead.\n",
            "  torch.utils._pytree._register_pytree_node(\n"
          ]
        }
      ]
    },
    {
      "cell_type": "code",
      "source": [
        "# Dividir el corpus en entrenamiento y prueba (80% entrenamiento, 20% prueba)\n",
        "train_texts, test_texts = train_test_split(textos, test_size=0.2, random_state=42)"
      ],
      "metadata": {
        "id": "Bn24Xdh5o_b8"
      },
      "execution_count": null,
      "outputs": []
    },
    {
      "cell_type": "code",
      "source": [
        "# Guardar los textos en archivos para usar con TextDataset\n",
        "with open('train_cuentos_shipibo.txt', 'w', encoding='utf-8') as f:\n",
        "    for cuento in train_texts:\n",
        "        f.write(cuento + '\\n')\n",
        "\n",
        "with open('test_cuentos_shipibo.txt', 'w', encoding='utf-8') as f:\n",
        "    for cuento in test_texts:\n",
        "        f.write(cuento + '\\n')"
      ],
      "metadata": {
        "id": "UIQv4gpXpBAA"
      },
      "execution_count": null,
      "outputs": []
    },
    {
      "cell_type": "code",
      "source": [
        "# Cargar el tokenizador y el modelo preentrenado GPT-2\n",
        "tokenizer_t2 = AutoTokenizer.from_pretrained(\"facebook/mms-tts-shp\")\n",
        "model_t2 = GPT2LMHeadModel.from_pretrained('gpt2')"
      ],
      "metadata": {
        "colab": {
          "base_uri": "https://localhost:8080/"
        },
        "id": "JInU1fzLpMru",
        "outputId": "d52ae67a-75a3-49a6-f1ca-c4bac05d2f6c"
      },
      "execution_count": null,
      "outputs": [
        {
          "output_type": "stream",
          "name": "stderr",
          "text": [
            "/usr/local/lib/python3.10/dist-packages/huggingface_hub/file_download.py:1132: FutureWarning: `resume_download` is deprecated and will be removed in version 1.0.0. Downloads always resume when possible. If you want to force a new download, use `force_download=True`.\n",
            "  warnings.warn(\n",
            "/usr/local/lib/python3.10/dist-packages/huggingface_hub/utils/_token.py:89: UserWarning: \n",
            "The secret `HF_TOKEN` does not exist in your Colab secrets.\n",
            "To authenticate with the Hugging Face Hub, create a token in your settings tab (https://huggingface.co/settings/tokens), set it as secret in your Google Colab and restart your session.\n",
            "You will be able to reuse this secret in all of your notebooks.\n",
            "Please note that authentication is recommended but still optional to access public models or datasets.\n",
            "  warnings.warn(\n"
          ]
        }
      ]
    },
    {
      "cell_type": "code",
      "source": [
        "# Crear el dataset de entrenamiento\n",
        "train_dataset = TextDataset(\n",
        "    tokenizer=tokenizer_t2,\n",
        "    file_path='train_cuentos_shipibo.txt',\n",
        "    block_size=128,\n",
        ")\n",
        "\n",
        "# Crear el dataset de prueba\n",
        "test_dataset = TextDataset(\n",
        "    tokenizer=tokenizer_t2,\n",
        "    file_path='test_cuentos_shipibo.txt',\n",
        "    block_size=128,\n",
        ")\n",
        "\n",
        "# Crear el data collator\n",
        "data_collator = DataCollatorForLanguageModeling(\n",
        "    tokenizer=tokenizer_t2,\n",
        "    mlm=False,\n",
        ")\n",
        "\n",
        "# Configurar los argumentos de entrenamiento\n",
        "training_args = TrainingArguments(\n",
        "    output_dir='./results',\n",
        "    overwrite_output_dir=True,\n",
        "    num_train_epochs=16,\n",
        "    per_device_train_batch_size=8,\n",
        "    per_device_eval_batch_size=8,\n",
        "    save_steps=10_000,\n",
        "    save_total_limit=2,\n",
        "    logging_dir='./logs',\n",
        "    evaluation_strategy=\"epoch\",  # Evaluar al final de cada época\n",
        ")\n",
        "\n",
        "# Crear el Trainer\n",
        "trainer = Trainer(\n",
        "    model=model_t2,\n",
        "    args=training_args,\n",
        "    data_collator=data_collator,\n",
        "    train_dataset=train_dataset,\n",
        "    eval_dataset=test_dataset,\n",
        ")"
      ],
      "metadata": {
        "id": "QboO8vCEpPNq",
        "colab": {
          "base_uri": "https://localhost:8080/"
        },
        "outputId": "253072fc-4adb-486f-96c2-6547f8e8ded8"
      },
      "execution_count": null,
      "outputs": [
        {
          "output_type": "stream",
          "name": "stderr",
          "text": [
            "/usr/local/lib/python3.10/dist-packages/transformers/data/datasets/language_modeling.py:53: FutureWarning: This dataset will be removed from the library soon, preprocessing should be handled with the 🤗 Datasets library. You can have a look at this example script for pointers: https://github.com/huggingface/transformers/blob/main/examples/pytorch/language-modeling/run_mlm.py\n",
            "  warnings.warn(\n"
          ]
        }
      ]
    },
    {
      "cell_type": "code",
      "source": [
        "# Entrenar el modelo\n",
        "trainer.train()\n",
        "\n",
        "# Guardar el modelo ajustado\n",
        "model_t2.save_pretrained('./shipibo_gpt2v2')\n",
        "tokenizer_t2.save_pretrained('./shipibo_gpt2v2')"
      ],
      "metadata": {
        "colab": {
          "base_uri": "https://localhost:8080/",
          "height": 772
        },
        "id": "s9MCNZpSpUyH",
        "outputId": "e24201f6-70c8-4ffd-e6fa-09cf71b99ac5"
      },
      "execution_count": null,
      "outputs": [
        {
          "output_type": "display_data",
          "data": {
            "text/plain": [
              "<IPython.core.display.HTML object>"
            ],
            "text/html": [
              "\n",
              "    <div>\n",
              "      \n",
              "      <progress value='2440' max='2440' style='width:300px; height:20px; vertical-align: middle;'></progress>\n",
              "      [2440/2440 13:37, Epoch 20/20]\n",
              "    </div>\n",
              "    <table border=\"1\" class=\"dataframe\">\n",
              "  <thead>\n",
              " <tr style=\"text-align: left;\">\n",
              "      <th>Epoch</th>\n",
              "      <th>Training Loss</th>\n",
              "      <th>Validation Loss</th>\n",
              "    </tr>\n",
              "  </thead>\n",
              "  <tbody>\n",
              "    <tr>\n",
              "      <td>1</td>\n",
              "      <td>No log</td>\n",
              "      <td>1.774351</td>\n",
              "    </tr>\n",
              "    <tr>\n",
              "      <td>2</td>\n",
              "      <td>No log</td>\n",
              "      <td>1.601550</td>\n",
              "    </tr>\n",
              "    <tr>\n",
              "      <td>3</td>\n",
              "      <td>No log</td>\n",
              "      <td>1.547320</td>\n",
              "    </tr>\n",
              "    <tr>\n",
              "      <td>4</td>\n",
              "      <td>No log</td>\n",
              "      <td>1.492881</td>\n",
              "    </tr>\n",
              "    <tr>\n",
              "      <td>5</td>\n",
              "      <td>1.731900</td>\n",
              "      <td>1.453004</td>\n",
              "    </tr>\n",
              "    <tr>\n",
              "      <td>6</td>\n",
              "      <td>1.731900</td>\n",
              "      <td>1.437947</td>\n",
              "    </tr>\n",
              "    <tr>\n",
              "      <td>7</td>\n",
              "      <td>1.731900</td>\n",
              "      <td>1.428836</td>\n",
              "    </tr>\n",
              "    <tr>\n",
              "      <td>8</td>\n",
              "      <td>1.731900</td>\n",
              "      <td>1.423695</td>\n",
              "    </tr>\n",
              "    <tr>\n",
              "      <td>9</td>\n",
              "      <td>1.377100</td>\n",
              "      <td>1.420161</td>\n",
              "    </tr>\n",
              "    <tr>\n",
              "      <td>10</td>\n",
              "      <td>1.377100</td>\n",
              "      <td>1.412389</td>\n",
              "    </tr>\n",
              "    <tr>\n",
              "      <td>11</td>\n",
              "      <td>1.377100</td>\n",
              "      <td>1.400022</td>\n",
              "    </tr>\n",
              "    <tr>\n",
              "      <td>12</td>\n",
              "      <td>1.377100</td>\n",
              "      <td>1.406181</td>\n",
              "    </tr>\n",
              "    <tr>\n",
              "      <td>13</td>\n",
              "      <td>1.248400</td>\n",
              "      <td>1.405322</td>\n",
              "    </tr>\n",
              "    <tr>\n",
              "      <td>14</td>\n",
              "      <td>1.248400</td>\n",
              "      <td>1.422693</td>\n",
              "    </tr>\n",
              "    <tr>\n",
              "      <td>15</td>\n",
              "      <td>1.248400</td>\n",
              "      <td>1.402470</td>\n",
              "    </tr>\n",
              "    <tr>\n",
              "      <td>16</td>\n",
              "      <td>1.248400</td>\n",
              "      <td>1.406477</td>\n",
              "    </tr>\n",
              "    <tr>\n",
              "      <td>17</td>\n",
              "      <td>1.161100</td>\n",
              "      <td>1.420123</td>\n",
              "    </tr>\n",
              "    <tr>\n",
              "      <td>18</td>\n",
              "      <td>1.161100</td>\n",
              "      <td>1.422170</td>\n",
              "    </tr>\n",
              "    <tr>\n",
              "      <td>19</td>\n",
              "      <td>1.161100</td>\n",
              "      <td>1.424883</td>\n",
              "    </tr>\n",
              "    <tr>\n",
              "      <td>20</td>\n",
              "      <td>1.161100</td>\n",
              "      <td>1.424066</td>\n",
              "    </tr>\n",
              "  </tbody>\n",
              "</table><p>"
            ]
          },
          "metadata": {}
        },
        {
          "output_type": "execute_result",
          "data": {
            "text/plain": [
              "('./shipibo_gpt2v2/tokenizer_config.json',\n",
              " './shipibo_gpt2v2/special_tokens_map.json',\n",
              " './shipibo_gpt2v2/vocab.json',\n",
              " './shipibo_gpt2v2/added_tokens.json')"
            ]
          },
          "metadata": {},
          "execution_count": 8
        }
      ]
    },
    {
      "cell_type": "code",
      "source": [
        "device = torch.device(\"cuda:0\" if torch.cuda.is_available() else \"cpu\")\n",
        "# Generar un cuento\n",
        "from transformers import pipeline\n",
        "\n",
        "# Cargar el modelo ajustado\n",
        "generator = pipeline('text-generation', model=model_t2, tokenizer=tokenizer_t2, device=device)\n",
        "\n",
        "# Generar un cuento\n",
        "output = generator(\"Wetsa neteronki\", max_length=200, num_return_sequences=1)\n",
        "print(output[0]['generated_text'])"
      ],
      "metadata": {
        "colab": {
          "base_uri": "https://localhost:8080/"
        },
        "id": "Vo_gWRuxpc9K",
        "outputId": "6ee4dcc2-9f1b-4a84-dcc3-f35e589ea743"
      },
      "execution_count": null,
      "outputs": [
        {
          "output_type": "stream",
          "name": "stderr",
          "text": [
            "Setting `pad_token_id` to `eos_token_id`:50256 for open-end generation.\n"
          ]
        },
        {
          "output_type": "stream",
          "name": "stdout",
          "text": [
            "Wetsa neteronki oxokárpeinreeeioiko eiimibpinmiboxoo iikiitipokotieteneeii enmiboo enmiisoxoiwestoiox\n"
          ]
        }
      ]
    },
    {
      "cell_type": "markdown",
      "source": [
        "# LSTM"
      ],
      "metadata": {
        "id": "Ri4rnDkEGsJ_"
      }
    },
    {
      "cell_type": "code",
      "source": [
        "import numpy as np\n",
        "import pandas as pd\n",
        "from keras.utils import to_categorical\n",
        "from keras_preprocessing.sequence import pad_sequences\n",
        "from keras.models import Sequential\n",
        "from keras.layers import LSTM, Dense\n",
        "from sklearn.model_selection import train_test_split\n",
        "import re"
      ],
      "metadata": {
        "id": "pkRwJE_XGnJq"
      },
      "execution_count": null,
      "outputs": []
    },
    {
      "cell_type": "code",
      "source": [
        "# Carga el archivo Excel\n",
        "df = pd.read_csv('corpus.csv')\n",
        "\n",
        "# Supongamos que los cuentos están en una columna llamada 'Body'\n",
        "textos = df['Body'].tolist()\n",
        "\n",
        "# Guardar los textos en un archivo para usar con TextDataset\n",
        "with open('cuentos_shipibo.txt', 'w', encoding='utf-8') as f:\n",
        "    for cuento in textos:\n",
        "        f.write(cuento + '\\n')"
      ],
      "metadata": {
        "id": "PIMm-pgqG06O"
      },
      "execution_count": null,
      "outputs": []
    },
    {
      "cell_type": "code",
      "source": [
        "file = open(\"cuentos_shipibo.txt\", \"r\", encoding=\"utf-8\")\n",
        "text = file.read()\n",
        "file.close()"
      ],
      "metadata": {
        "id": "ScNrGl5vIGim"
      },
      "execution_count": null,
      "outputs": []
    },
    {
      "cell_type": "code",
      "source": [
        "def text_cleaner(text):\n",
        "    # Convertimos a minúsculas\n",
        "    new_text = text.lower()\n",
        "    # Reemplazamos las 's por espacio cadena vacía\n",
        "    new_text = re.sub(r\"'s\\b\",\"\", new_text)\n",
        "    # Reemplazamos todos los caracteres diferentes a [a-z] o [A-Z] por espacio en blanco\n",
        "    new_text = re.sub(\"[^a-zA-Z]\", \" \", new_text)\n",
        "    # Reemplazamos 2 o más espacios en blanco por uno solo\n",
        "    new_text = re.sub(\"\\s+\", \" \", new_text)\n",
        "    # Removemos caracter vacios al inicio o final\n",
        "    new_text = new_text.strip()\n",
        "    return new_text\n",
        "\n",
        "# Preprocesamos\n",
        "text_cleaned = text_cleaner(text)\n",
        "text_cleaned"
      ],
      "metadata": {
        "colab": {
          "base_uri": "https://localhost:8080/",
          "height": 122
        },
        "id": "kclAy0Q8HAcg",
        "outputId": "485c7ec2-a803-4378-f350-5a6371688438"
      },
      "execution_count": null,
      "outputs": [
        {
          "output_type": "execute_result",
          "data": {
            "text/plain": [
              "'ja rekena inkan jane ronki ipaonike yo shiko inka ja ronki ipaonike ikonbires yoashi jaw ki yok kana ronki ipaonike ikonbiressiki jatoki yoashii jaskara iken ronki apaokanike yo shiko inka akin ja yo shiko inkan ronki jato ikina ipaoni ke xetebo jonibo ja inka ronki ipaonike wain teetai joni jat bi jaw ki ban ya ato xeki atsa paranta xawi kari poa kankan jat bi jaw ki banai joni jaskarabiribi ronki ipaonike jawen tee jainoaxki ipaonike jat bi yobin banayaribi nato kaimito naranxa xenan bimpish rima rimon tap riba xawen meyari isonxoma tansharina ja jaw kibo banai ronki ipaonike jainxonribiki jat bi yoinnabo in ya inka ronki ik tiai nato waka kab yo karaniro chibo kochi och ti atapa nonon korokoro ja jaw kibo in ya ronki ik tiai ja yo shiko inka jatianki jat bi jaw kiati jaw qkiboki ik tiai jaibabicho jatian ronki apaokan ke jawen xetebo jonibaonki jaw kiati yok kin ja jaw kiati yok na ronki ipaonike jatokiki ikonbiressi yoashii wetsatianki menikinbi jato ich tamashoko menii ichaxon jaw kiati senenma ikaxbi ronki ipaonike nato paranta atsabo jato menia ixton key yamai basiboki pik tikanai iiti ronki ikana iki jaw kiati yok yokabichoi moa jatsani jaskataxki yoyo ikana iki rama nonbiribi bananohon atsa taxo yok ti riki ik ikana iki jask xon yok kana iki atsa taxo paranta tako poa bxeke kankan jaaboki yok kana iki yok kanaki jato menia iki atsa taxo raras axon ja xoxoti yama paranta takoki yok kana jato menia iki boxteanan jatian xekibiribi jato menia iki tobanhanan jainxon poaribi kaxkepakexon jato menia iki ikonbiressiki jatoki yoashia iki jatian moa jonibo yoyo ikana iki jakonma riki non inka yoashi riki rama reteti riki ik ikana iki jaskataxki jat biain yoyo iki senenkana iki ja yoyo iki senenxon moa tsink xon retekana iki ja yo shiko inka ja retekanketian jat bi yoina noyai jaw kibo be iki jaskara ninkatax qawen jimin tawin takan poko jabaon keeni bekana iki jat bi yoinabo rekempari jo iki jori ja pek o jo iki xane betan xawan joxon ja kimisha yoinanin potea iki ja inka maw rakata jask axon jorin jawen tawi tsekaa iki tsekaxon mokoa iki jatoki yoashikin jatian xanen oinna iki ja jorin tokona mokoketian kanwanxon xanen jori tantash aka iki ja tantash aka jorin michoketian kaxon biax jat obi yora raskita iki ja tawin jatian xane raski taitian jori ishokoa iki ja tawin raskiti ik bi ja maxk yonressa iki moa xanen keyoa iketian jainoax xawan jor baa iki joax jawen jiminbiribi jatiobi rask shokoa iki jatian moa senenkanketianki nawashian jo iki joash yoyo itoshia iki chini bakebaon nawashian aanompari nawashianbanon ik ik iki jaskatax ja inkan xenin sikita iki jainoax poinkosko jor baa iki joax yoyo ishokoa iki chin bakebaon poinkosko aanntipari nawan poin kosk banon ik ik iki jaskataanan ik iki ja chinitainbi xete joshokoa iki joax yoyo ishokoa iki chin bakebaon xete aanompari xete ib non ikaxki ik iki jawen wianreski raskiti jaskataxki ja xete baneta iki jaskatax ja jonibo janbiskana iki jaskarainxon jaton inka och akana iki moa yo shiko inka retekana pek oki baneta iki jawen awin jawen bake ainbo betan jawen bake benbo jainoax jaton in ainbo jat bichoreski ban kana iki ikonbires jakonma ronki ipaonike yo shiko inka jat bi jato jakonma jakonmai jaa jawen yobin akanaitian jaton bakebo yoinaai ronki ipaonike yobin akanaankana jato shinoai henan kaimito bimpish jabo bakebaon akaitian ronki jato ak tia nesk akin xinoyaxonbi wasanra nokon xenan betan kaimito keyoai akin ronki jato sai apaonike jaskia ronki ipaonike bakeboki wasabaini bo raxki raxki ibaini moa wasaax jask xon ronki jaton bakeboki ja yoashiko inkanki jato yoina akampaonike jakonma shinanya ixon jato betan iketianki akitikanai jawen jonibaonki atsa yok kin min atsa akasira noa joke pap akinki yok paokanike jatian jato yoikatitai atankanwen bakeb icha riki atsa akin jatian boxon oinkanaki atsa ban tiibi bona icha jatibi tekamis jaw kibo atsa atikoma jatian bor bakana iki boxon paranta yok ribikana iki parantaninra noa keenai pap nonra atsa ayamake bona ichayora iketian akin akana iki jatian jato yoia iki jakon ikenbira maton ayamake akin jato ak iki jatian jato yoia iki bitankanwen paranta bakeb icha riki wainko paranta akinki jato ak iki jask a boxon oinkanaki ik iki paranta peitiibi bina icha pani panitinressa jatian wetsa nia binaoma oinxon joninki reraa iki caax pox ketian kawanxon textekasaitian joni binan keyoa iki keyoa paranta bitikoma ik iki jaskara iketianki jakiribi bor ba kana iki boxon kankan yok ribikana iki cankan bichoressa noa keenai pap akin akana iki jatian jato yoia iki bitankanwen bake b icha riki kankan akin jato ak iki jato jask a bokana iki kankan bi boxon oinkana ki ik iki kankantiibi shan teyakaabo jat bi mesk ronobo kankan bitikoma jatian jonibo bor bakana iki jawebioma jaton xobon jat bi jaw ki yok kanabi meniamakin jato jask areska titai kikinbires yoashi ixon jatianribi ronki ipaonike jonibo chiioma jaw ki retexon ronki ak tikanai barin rakan xonres pikin jatian ronki ja inkabichoreski chi a ipaonike ja chiikankaya ronki ikonbi ressiki keenkatikanai jat bi jaw ki waaxon pikasi jask axonki jakiribi yok kanike jabiki jato meniamapaonike jato meniamaa jonibaon shinana iki jawekesk axonmein non chi bitiki ixon jask axon beskon kenaxon yoikana iki inkaibakea noa chi bixontan wen beskonm akin akana iki jask akanaki beskon kaa iki jawen iboiba caxon jis ki ik iki jawen ibo yama moa jawen wainko kaa jatian kanwanxon beskonman chi natexihaa iki ja nat xkenbiki jawen ibo jo iki joaitian oinnax jay noyakaina iki noyakainaitian bikaskin jawen ibon chibampatanboabi jay noyakainkin potabaina iki jatian ronki besko man xetaki nenk ik tiai jatian ja chiikanki jawen xeta nenk ikenbi keyonaana iki menokin moa jawen xeta keyotainbiki koman tanon ja chi rakana iki jaskataxki ja koman tano keteta iki ketetaxki menotax maan ketianki jat bi jonin bi iki jatian jat bi joni moa chi a ik iki ja chiikan menoa key ni ikaxxonkiki beskoman xeta nenk mashoko xem nooni ikax ja yo xiko inka ronki rayossha ipaonike ja jawen rayos ronki apaonike jakonmakinbo wetsa netenki ak iki jawen rayoski wai menoti raankin wai menotanwen rayos menokin naponshamanxon peotanwen akinki ak iki jawen rayos jask a kaa iki jawen rayos cakin bo iki rab xopan ja kaaitianribi oinaxki ja yo shiko inka kaa iki jawen rayos pek obi caxonki ja yo shiko inkanki ja wai topoki chiikan menoaketana iki jawen rayos chii chitemanoxon jask ai oinaxki jawen rayos jabata iki caax joneta iki jabati kakin rab xopanbi wai napo potabaina iki ja xopanki menoti ik iki chen t h iki jaskatai ninkataxki ik iki ja yo shiko inkaki jis jawen pokobo tosh ke iki jainoaxki wetsa xopan ir baa iki chen t h iki jaskataitianki inka yoyo ir baa iki jis jawen mapo ike iki ik iki jawen rayossa ibirai ikax jaskatai ninkatahki jawen rayos moa kaa iki japari xobon nokoti ja kaa pekaoki ja inka chin nokota iki caxon jawen rayos yokata iki moaki min ak wai menokin rayos akin ak iki jatian yoia iki enra moa ake akinki ak iki jatian ja yo shiko inka yoyo ik iki jawekeskataxki jo ik ik iki jawen rayos yoii jask axon ronki ja yo shiko inkanki jawen rayos menokeannike paranxon raanxon askara jakonma shinanya ixon ronki ak iki jawen rayoski jakiribi axanti raankin non jay xon tee anompari axantanwen rayos nokon sont robora en mia raanxonai jatoyaxon min axanxon yapa biti akinki ak iki jawen rayos jainxon jato yoiribia iki bokanwen ea chin kab non empari piaabanon jay kati akinki ak iki jawen rayos betan jawen sont robo jask a bokana iki boxonki akana iki axankin jatian yo shiko inkaki chin kaa iki jato benaboi cakin ninkataki ik iki jawen rayoski axani san pe ro san pe ro san pe ro iiti joshin payon teoya jawen sont robo napo nenitax jatian jato ointaanan ki ja yo shiko inka chit kaina iki chit kainxon jawen piabo naman potaa chori irita iki jainxonki jato sa ak iki aboyaxon bira manxanteon yapa keyoa akinki jato sa ak iki jato jask aki jatianbi ja sont robo iwanaxbi abobaini bo niii ionbaina iki jatian jawen rayosbiribiki ik iki manxanteo baneti jaskataxki ik iki ka keantan kakeantanaxki noyakaini jato napo nenita iwanaxbi jato jask abainiki ja yo shiko inkaki moa jawen xobon kaa iki jatianki jawen bake xontakoki ja man xanteoaton awin ik iki jema napoki rak rakati jain rak xonki ja xontakonin oina iki abobo mayatai napo manxanteo may mayatai jatian ja bake ainbaonki onana iki onanxon jawen papa yokata iki minka nokon bene jawekeskaaribaatain pap akinki ak iki jask abi jawen papan jawebi yoiamaa iki jatian ainbaon moa onana iki jaskara onanaxki ikonbiressiki ja xontako winia iki jawen benen moa potaa jask axon ronki yo shiko inkanki jawen rayos axanti raanxon manxanteoanike jatian jawen sont roboki aboaa iki jaskatax in ronkiki nato maxanteo betan abobo moa yo shiko inka reteax iiti chonka baritia pek o wetsa joni kaa iki axani caxon jonin axanabi paenyamaa iki jatian moa iamaitian jakiribi jo iki jawen xobon iiwanax jakiribi kar baa iki ja axanwana oinni caxon oinnaki ik iki maxkoshoko joni montaria an tamashokotoninki ja axana paenaitian tsaka tsakabei joi jatian jonin yokata iki tsonki mia yoia ja axan biti akin ak iki jask a ja baken yoia iki nokon papanra ea raanke akin ak iki ja baken jatian jonin ikonhayamakin kawaanan yatanxon mano meran niaa iki ja bake jatian jawen montaria manish meran niaa iki jawen piabo jainribi akanaana iki jask abaini jakiribi joni kaa iki jawen xobon ja bake ik iki wetsa inkan bake yo shiko inkanama ja kaa pek o wetsa joni jo iki ja axana oinni caxon ninkataki ik iki ja bake wini winii maxkoshoko bake keskaki ean ean ean iiti jain nixonqki jonin ninkataki ik iki mano meranoax jatian jonin kawanxon ja mano chichokea tsekaa iki ja bake ja bake ik iki inka bake jatian ja baken joni yoia iki ramara nokon papan jato kast kanai nenoax kimisha nete senenketianra oi kikin kext paketai jatianra jenen ewa beai ja beaitianra yamekan ewaribiai jaskatai oinnax nane nenk shaman itan bimia oinnax jain neenonxiwe min bake min awin jat jain mato kishpinnon akin ja joni ak iki jask abaini moa kaa iki jawen papaiba cakin joni piti menibaina iki jatian moa joni kaa iki jawen xobonko moa kimisha nete senenketianki oi kexto paketa iki rab chonka nete rab chonka yam ribi oi maana iki jatian jonin jato yoia iki ramara jenen ewai moara oi kexto pak ke akin jato ak iki jato jask abi joni janson yoinkana iki janson yoinxon ani xeati akana iki ja xeatiaax paeni iikanai tian jenen ewa be iki ja beaitianribi yame kan ewaa iki jaskataitian ja jonibiribi jawen bake jawen awin jat nane nenk sha mantonin neeta iki jaskataxki ja mash iki torotabo moa jenen jato keyoa nena ban kana iki ja paennax maitaibo nepaxtakinike ja nanen neeta kimisha jonibiribiki jainbi kana iki jene tsosinai kaman jatianki moa yam ribi ik iki iitiki ja kimisha jonibi pikassa iki pikaskin nane joshin bixon kokokana iki jakiribi nane bimi bir baa iki ja jonin bixon kokokana iki jatian xeakasa iki ja kimisha jonibi jatian yam meranbi nane joshin meekinki chomoshokotonin xeati yatana iki jatian ja xeakana iki jatian pikaskin nane meeribia iki meekinki piti kawabo yonan kobin jaaboki jonin yatana iki jatian ja p kana iki ja jaw kibo ronki ik iki inkanbi jato axonabo iikaaxki moa oi nesea iki jatian yam ribi moa oxn tani ik iki jainxonki jonin nane bimi bi iki bitxonki naman potaa iki potaaki manon tash irita iki moa jene tsosina ikabx jatianribi moa nete xabata iki jatian moa nete xab ketian jonin jawen awin betan jawen bake yoia iki moa pak non bokanwen akin jato ak iki jatian jawen bake ik iki caw pap iti shinani caw pap kaw pap kaw kaw kaw kaw kaw kaw ik biki ja bake ishton pak yamaa iki jaskatax ja bake moa maekawata iki jatian moa jato rab bicho baneta iki jainxon moa japari pak xon jonin jawen awin kenaa iki pak non ixon jatianki ja ainbo ik iki tooyaribi jaskara ikaxki pak tikoma iketian mestii jainbi senbotaxki ja ainbo jainbi nak xnike jaskatax in ronki iki ja nakax ainbo tooya in jatian jonibichoshoko baneta iki jatian joni paketax kaa iki jat biain jato benai jatibiain benakinbi jato merayamaa iki moa jenen jato keyoa mashibichores ik iki west ora ni bi yama moa jenen keyoa ikax jask axon jonibo jenen jato keyoa iki jatian joniki jat biain kawan kawana iki jato benai jabi nin west ora jonitanibi nokoyamaa iki jaskataxki moa jakiribi jor baa iki joxon oinnaki ik iki chomo max koshoko bocho xeati yakati jaaki bixon joninki xeaa iki ja abaini jakiribi kar baa iki jato benaribii caxonbi jato nokoyamari bia iki jatian jor baa iki jainribi joxon oinnaki ik iki jainribi xeati yakati jatian ja jonin xearibia iki jask xon shinana iki ramara en sotanai iki ik iki jask axon jonin mai chinia iki ja meran sontameeti ja mai chiniax chich sotameeta iki ja joni jain sotameexon ninkataki ik iki rebokiri toron iibeirani be jatian jonin pik xon oinnaki ik iki rab ainbo wetsa reyakaa wetsa chiakaa joaxki taxn bekona iki moa taxn xonki ja chiakaatonin reyakaa yoia iki miimpari map xon ointanwen akin ak iki jask a ja rewina ainbo kaa iki mapeti ja mapetai oinax jakiribi joni kini meran jikiribia iki jatian moa map ketian oinnax pik ribia iki pik xon jonin ja ainbo yatana iki ja yatana yoia iki ea yatanyamawe oakaya riki inkan bake ja min biti jawen papan raana eara jaton in res iki akin ainbaon ak iki jask abi jonin jeneyamaa iki jenenon ixon bonaboya ninbobo tekamaabiki jonin jeneyamaa iki jainxon koitatas tekamaabiki jeneyamaaribia iki jeneyamaitian oinxon ja inkan bakenki ainbo yoia iki moara mionbiribi keenkin mia bike eara moa kaai akin ak iki jawen papan in jask ataanan moa kaa iki jakaya biti ikenbi jonin biamaa ikonbiressi notsikainax inkan bake jawen papaiba kar baa iki ja kaa pekaoki rab yantanki joni jab oxaa iki jaskatax iiti ainbo moa toota iki jatian ja toota kimisha nete senenketianki moa baken chexaa iki ja chexaa ainbaon jawen bene yoia iki ea bakenbanon onopari kantanwen eapari oinyamawe akin ak iki jawen bene jatian jawen bene kaa iki ja k a pek o ainbo bakena iki benbo bakeshoko ja bakeki ishton ania iki moa aniketian jakiribi ja ainbo toota iki jatian moa kimisha nete senenribiketian moa baken chexaribia iki jask a ainbaon jawen bene yoiribia iki ea bakenbanon onopari katanwen akin ak jawen bene k a iki ja kaa pekao baqkena ik iki ainbo bakeshoko ja bake basimaribi ania iki ja moa aniketian jakiribi ainbo tooribia iki moa kimisha nete senenketian jawen bene yoiribia iki car batanwen onopari ea bakenbanon akin ak iki jatian jawen bene kar baa iki cakinbi ja jonin shinana iki jawekeskataxmein bakenai ramara en jon xon oinnai ik ik iki jask axon ja jonin jon sxon oinna iki jawen awin bakenai ja bakenai oinnaki pikotaxbi ja bake mawata iki jatian benaaketankin ja ainbaon jawen bene meraa ki jon xon oinnai meraxon notsinhananbi yoia iki jaweatinka min jon xon ea oinnai ramara min bake baon bakebo min chin bakebo jask jask bii janonxiki maw mawati min yoitima kop akin ak iki jawen bene jaskarainoaxki maw ti pikota iki ramakamanbi bake pikotax itan noa jonibo maw ti jake jaskarainoax jaskataxki ja in ainbomeax xetebo jonibo kaita iki moatian ronki santa rosankoki chexe inka ipaonike ja inka ronki ipaonike wisotanishoko joni jaskara iketian ronki apaokanike chexe inka akin ja inkan ronki ikina ipaonike shipibo jonibo ja ronki ipaonike jat bi jaw ki ati onan nato xoboati onan jask axon wit nichintibo onan jask axon map tiaxon xobo mapotibo onan ja jaw kibo onan ronki ipaonike ja chexe inka jaribi ronki ipaonike kan tiati onan piaati onan yamixetaati onan wishkontiati onan tsatsitaxoati onan nontiati onan wintiati onan jaribi ronki ipaonike yomerati onan jat bi jaw ki reteai nato xawe kab ri sapen wame jabo yomerai ronki ipaonike jaskarabiribi ronki ipaonike jawen tee jaskara jaw kibo ronki jato onanmapaonike jawen shipibo jonibo ja keskaribi chin bakebo jaw ki ati onan inon ixon jat bi jaw kibo jato onanmapaonike ja chexe inkan ronki icha shipibo jonibo ikina ipaonike moatianribi ronki jonibo ipaokanike xeati paeati onanmabo jaskara ikenbi ronki ja inkan jato anike xeati paeati yonokin non pokobintishaman xeanon xeatiakanwen kinki jato ak iki jawen jonibo jatian ak nike xeatiakin jaton inkan yonoa moa axon inka yoikanike moara non ake xeatakin pap akinkin ak nike jatian jato yoia iki paeakanwen non xeanon akin jato ak iki jatian onanyama kana iki jask axon xeati paeati jatian onanyamakanketian inkan jato axeanike jas k akin axon paeati jatian akannike paeakin moa xeati paeaxon yoikana iki moara ike xeati paei pap akin akana iki jatian jat biain inkan jato chania iki jato chanikin ronki anike tamp ra timakin tintin tintin tintin tintin tintin akin jato chanikin jatian bari ipakeaitian jonibo bekana iki tiiati aabeirani ja inkan xeati xeai be ja beaxki ikannike mash iki bewai mets metsashamanni ja inkan xeati rabiananbi bewai ja xeati xeakin senenhaxonki jato tanti kiinnike kimisha nete ja kimisha nete tantiaxki jonibo pikasnike pikaskin jaton inka piti yok kana iki pap noara pikasai akin akana iki jatian jato yoia iki icha riki piti bakeb neno ea ik pekaora ian iki jainra piti icha iki akin jato ak iki jain yomeratankanwen maton pinon jainra nokon nonti iki nokon pia iki nokon tsatsitaxo iki nokon yamixeta iki akin jato ak iki jatian jonibaon shinana iki bononbokan wen yomerai ik ikana iki jaskatax ja jonibo bokana iki boxon oinkana ik iki jat bi piti jaw kibo nato wame xawe kab ri sapen amakiri jatibi jaw kiki jene bexnanma jishtibires ik iki jain jon ti yama ikax jatian jonibaon retea iki rab jaw kires xawe betan kab rires akinbiki kikinbires icha akana iki retekin ononma iketian jatian boxon yoikana iki jaton inka moara non ake pap yomerakin akin akana iki jatian jato yoia iki akanwen map makin maton pinon akin jato ak iki jatian jato yoia moa akana iki map makin peokin rebonkoniapari map makana iki moa ichaakin map maxonbi ishton k yoyamakana iki nontin ichabires ik iki jatian jonibo yoyo ik iki jawekeskatika non map maabi key yamai ik ikana iki jatian west ora joni kaa iki inka keshani caxon yoia iki moara non ake pap map makin akin jonin ak iki jatian inkan yoia iki caw bak en oinni kab non iki ika iki jatian jo iki inka joxon oinna ik iki oatio tor bires map makana jabi nontin ichabirespari ik iki jatian jato inkan yoia iki ichaira maton ak riki xawe retekin bakeb akin jato ak iki jatian inka yok kana iki nonka jawekeskaatiki pap akin akana iki jatian jato yoia iki botanon ranbekan wen akin jato ak iki jato jask a jat bi xawe ranbekana iki moa ranbekanketian joxon mai parash ixona jat bi xawe jakiribi bo iki jenenko jatian jato yoia iki ja kimisha xawe res nontin ik map makanwen ja yoaaxon maton pinon akin jato ak iki jatian boxon oin kana ik iki kimisha xawereski nontin natipia ja icha iwanahbi yama jatian akana iki map makin keyoshon choshaxon yoaaxon pikin ja kimisha xawebi ja pi pek o bariapan senen tantikana iki ja tantikanketian inkan jato yoia iki botan kanwen maton xobon moara non ake xeakin akin jato ak iki jainxon jato yoiribia iki ramara ea neno yamanonxiki moara ea kati iki nokon mai onantiainko nato paro reboki jask akin jato yoikin senenhaa moa bokana iki jaton xobonkobo ja bokana pek o jawen jonibobicho ban kana iki iiti moa basichaa baritia winota pek o inkan jawen jonibo yoia iki moara ea katiki nokon mai onantiainko jay kanoxon en xean n xeatiakanwen aki jato ak iki jato jask a jonibaon akonbireskin mas shinani oniskana iki ja oniskanaitian oinxon jato yoia iki mas shinanyamakanwen jar ke rao en mato jan ikinkatitai kesk ribii jan mato iti akin jato ak iki jatian mas shinankin jenexon xea tiakana iki moa xeatiakana pichika nete senenketian inkan jato yoia iki eapari manakanwen xeayamaparikanwen empari rao bib tanon makanarinkonia jan mato nashimati pichika netera ea jakiribi jo kaai akin jato ak iki jato jask abani inka kaa iki rao bi ja kaa pek o xeati xeakana iki ja xeati xeaax paenxon jaton titashoko bachinkin retekana iki moa pichika nete senenketian inka jo iki joxon jato notsina iki enra mato yoiibake xeayamaparikanwen akin jaabi maton xeaa iki xeaatih paenxon maton titashokobi bachinkin maton reteke akin jato ak iki jainxon jato yoia iki jask ati riki jaw ki reteshon rama pikanwen akin jato inkan ak iki jato jask a jonibo yoyo ik iki moara non inkan noa yoike pinon akanwen ik ikana iki jask axon jaxkapakexon pikana iki jaton titashokobi rekempari jawen taka xoianan pikana iki ja akin senenhakanketian inkan jato yoia iki ramara maton chin bakebaon joni piai akin mato aanon pach tian botankanwen jat ribibo aweitianin botankanwen akin jato ak iki jatian bokana iki pach tian jat ribibo aweitianin bokana iki ja bokana pek o jat ribibo ja paenamabores jato raon nashimaa iki jato nashimakin senenhaxon jato yoiribia iki rama matobiribi ja chin bakebaon jishtimabo akin mato aanon makanari pek o botankanwen akin jato ak iki jat ribibo comankayan botankanwen akin jato ak iki jato jask a bokanketian inka aiiki paro reboki cakin jaton bake bo ki ja boaitian kimisha jonin chibana iki non bakera inkan boai chib non bokanwen ixon chibankana iki chibani boax oxakana iki makanari mashin jainoax boax oxakana iki reken sinaya mashin jainoash boax oxa ribikana iki chexeyain jainoax bor bakana iki boax oxaribikana iki com riniain jaabi inka chibankinbi nokoyamakana iki jainoax boax bari ipakeaitian taxn kana iki xawen mapeta icha iketian oinnax xawe ranbekasi jain oxaxon xawe ranbekana iki kimisha jainoax nete xab ketian bor bakana iki bokin oinkana ik iki kimisha xawe peota naman jain inkan potabaina jatian jonibo yoyo ik iki moara non inka och maai chib non bokanwen ik ikana iki jaskatax boax nok kana iki jene maanainko jain ik iki bochikiax jene maanai nontin katikoma ani makaman chitea jainres jonibo baneta iki ja ban kin oinkana ik iki kex nonti repia jan inka kaa ramabi mano jam patanboia k a jatian jonibo yoyo ik iki bokanwen ramabira non inka kake chib non bokanwen ik ikana iki jaskatax bokana iki boax nok kana iki ani manaman jain ik iki manan key tsonbi map tima jaskaratonbi inka k a ik iki ja ani mananbi map baini jainki jonibo baneta iki manan key ikax map tikoma iketian banetax beax nok kana iki jain xawe ranbeibakanainko jain oxaxon mas shinanakana iki ja mas shinani oxakaskimai mashin tipiax inkaki bewakannike neskati ronki ik nnike bewai inka kan bainb boi bononbokanwen non kaibobo xawan kaibobo non kaibobo xawan kaibobo inka chib non kaw iikainxonbi non chibanyamani inka chibanyamani non chibanyamani inka chibanyamani xawan kori manaman noa chiteakeken non chibanyamani inka chibanyamani non chibanyamani inka chibanyamani jask a ronkiakannike inka chibankinbi nokoyamaax mashin tsamatax jaki bewai jain oxashini beax nok kana iki santa rosanko nok xon oinkanabi ik iki tsoabi yama jonibo jain ik tiaibicho inkan xobobobi yama ik iki jainoax ianman bor bakana iki caxon oinkana west ora yapabi yama ik iki jaskatax ja kimisha joni west ora ainboyabicho jain jakana iki jainoax moa icha baritia pek o shipibo jonibo moa kairibikana iki ja kimisha joninkoniax jat ressiki nato joi jaskatash inka kan moatian ronki com riniainki xane inka ipaonike ja inkan ronki jato ikina ipaonike konibo jonibo jainxon ronki jato teekiinpaonike mesk teekanbo jainoax mesk jaw ki atibaonribi ja xane inka ronki ipaonike jat bi jaw ki onan nato kent ati map chomoati map kenchaati map onan jainxon nato maox manshinti itanwana jabo onanribi ronki ik tiai ja xane inka jainxonribiki onana ik iki jask abxon chopa manon wisoati jainxonribi onana iki yomoxo jan chomo rash ati kempo rash ati jaskara map bo bikin ronki och jato iopaonike jawen konibo jonibo kikinbires och onanribi ronki ipaonike ja xane inka jat biain onan jatian jawen awininbiribi ronki jab ainboboki jato axeakatiai jat bi jaw kinin nato kent ati chomoati kench ati kempoati jainxon kent anoxon map ya mei meskoti jainxon maoxen sikati jainxon renketi kene ti jainxon jask axon oiti jabo ronki axeapaonike jainxonki jato amhearibaa iki nato toroati toroaka mabanti toroaka timati axon ken atibo ja ronki ipaonike ja inka ainboan teebiribi jatian ja inkaribiki ipaonike oro onan jonikesk akinki oro chomoakatiai jaw ki yoina kesk akinbo ja oro bixon ronki jaskara jaw kibo apaonike ja inkan ikaxbi jawen konibo jonibo jato onanmaya maa iki jato ati ronki ik iki jat bi jaw ki onanmayonxompari ikaxbi nato paron ochokea jonibo beti iketianki jabati kakin jato onanmayamaa iki jaskati ronki iki ja konibo jonibo oro onanma jaskara kop jask abxon ronki jawen konibo jonibo ja inkan jato potabainike ja inka ronki kanike ja com rinia pek obi ja kakin jato potabaina jawen jonibobicho baneta iki jaskarainoax konibo jonibobiribi kaita iki nato paromeaxbi aw ronki ik iki nane pipibaini ompax xeai ka caax ronki ik iki weanman paketi pak xon ompasx xeakasabiki atikoma iketian ronki nenixon ak iki akaitian t atoshiai kesk iketian ronki taeki wakea iki jatian ronki west ora taebichoki ronon ewan neaa iki ja neaa ronki awakanki map inabainkinki ten arita iki jainoaxki koshi meaanana iki ja aw koshichaayora ik iki jask xonki awakan ronon ewa bakeranon tesaa iki jonin ronki ak iki mashi paboronin rikan rikankin ja rikan rikankin ronki ak iki jonin amen mapokin ixonbi ja jonin onanyamaa iki onanyamaxonbi jonin ninia iki niniabi ronki mashi kexares bo iki boax pikotai oina ronki amenman map baina iki map bainaitian ja rika ibon ninia iki ninia ronki ak iki jawen rikaki ras akanaanbainkin ja ras abaina ronki ak iki rika kesh atiboki boonkin ja bokin ronki ak iki jabi chish atiabainkin boaitian chibankinbi ronki jawen ibon nokoyamaa iki nishbin joni ronki ipaonike non kaibo ainbo betan wanoa ja joni ronki ipaonike yomerakana benai och ka piti benabatanon ikainiki kak tiai piti ani retekanketianki noyakaini kaxon ronki apaonike piti pakexshoko bekin ja be ronki ipaonike moa xobon nokoa piti ani baneti wame pakesh be ronki ipaonike ani wame jimpan baneti jono nami ikax ronki ipaonike moa xobon nokoa jono kishi baneti jask axon ronki jonin ainbo pimapaonike iso ak ronki kachio bokannike west ora ainboya ja nokota nete xab ketian ronki kachio bokana iki iso retenoxon benai jatianki ja ainbo jabichoshoko potakana baneta iki ja bokana pek oki wiso ino is keota iki wiso ino keotai kesk ribiki ik iki riki riki riki riki ik jatian ja keotaitianki ainbaon mawa mawaa iki ja mawa mawaitianki ja wiso ino is jo iki joaxki ja is bi inoa iki inoxonki ja ainbo pi iki jatian bexon oinkana ronki ja ainbo moa wiso inon pi ik iki jaskaraton ratetax moa jakiribi bekana iki joni ronki ik iki kachio ka cakin jis ronki ik iki pama joshini ja oinaxxonki ik iki joniki neeti mach toyashoko ja neetihon akinki weresh ikai oina ronki ik iki ino neeinati jo jatian ronki ik iki joni jaweakimein ikai nato ino jaskati jatian ronki joninki jakonshamani teyakaxon manaa iki ino joaxki jay choronox jakonshamani jawen tae naman yakata iki jainoaki jonin mextea iki mextea kaaxxonki ik iki naman paketi paketax kaaxki ik iki sion iki aon aon aon aon ik ja tarameetai kaman ronki ik iki joni ipakekirani pak xon oina ronki ik iki ishtoi meken biakebaini ainbo ronki ik iki moa yantan iketian oxai rakati ja rak xon ninkataki ik iki west ora popo keoti nekera rak ke nekera rak ke ik jatian ja ainbaonki mawaa iki nekera rak ke nekera rak ke popo bero an akinki ak iki ich kin ja akax oxaa nete xab ketianki ik iki jawen bene nosha mishkii ka ja kau pek oki ik iki west ora ainbo bero anitanishamanki jo joxonki ak iki en mia jopox benaxonon tsab akin ak iki beronkopari benakin ronki ak iki oken bekonbi bero tsekanaankin jatian jawen benen jokin oinna ronki ik iki ja ainbo bexpeax yakati jatian ronki ja joni ishtoa iki raketi wetsa netebaon ronki ik iki chaxo betan mananxawe nokoanani ja nokoananaxonki ik iki yoyo ibekoni jatian ronki chaxonki ak iki ja mananxawen jawen ishto tanakaskin ishto ninkatai ixonki jatian ronki chaxon ak iki ikonki mia ishto yoikanai chaikon min ishto ea tanamata akin ak iki jatian ronki mananxawenki ak iki ikonrake chaikon akin ak iki jask xonki ak iki mananxawenki jawen kaibobo tsinkikin tsinkixon jato esea iki non chaxo paranxon pin retemanon bai kexa joy kanwe och chaashamanbo mato sa ak kewinonxikanwen akin jato yoikin senenhaaxki mananxawe kaa iki caxon ronki ak iki tan non at chaikon akin ak iki jaskatax honki ik iki chaxo ishtoi peokooti moa och kaxon ronki ak iki chaxonki chaikoni akin sa akin ak ronki ak iki kewinkin ninkata ronki ik iki jaa och mashoko ja nink taanan karibaa iki ishtoi moa och kaxon sai aribaa iki ak ronki jaa och mashoko ja nink taanan chaxo yoyo ik iki potatimabiresin chaikoni mananxawe iki jaskatax kaaxki ian kexa nokota iki nok xon pin axonbi ompax xeaax chaxo mawata iki jask axon paranxon mananxawen chaxo pin retemaa iki jon benatian ronki ik iki ino betan wasa yoyo ibekoni wasa ronki ik iki inon noxa jatian ronki ak iki inon jawen noxa piti yok kin eara pikasbiresai nox ea pimawe min ea pimayamaitianra en miabi piai akin ak iki jask akin jawen epan ak wasashoko rat ratebiresa iki rat bxon ishton ishtonbires piti yo axona iki moara kobinai ishtompari tantiwe ep akin ak iki jatian ino ishtonshoko tantiti shinanax rakata iki rakataxbi oxakainna iki jatian wasan jawen epa oxaketian piti keyoa iki piti keyoxon kentikan makan bochoatihon bochiki panina iki jask axon bochiki peyakaxon jawen epa jistenai mana manaa iki iiti ino jistena iki jistenxon jawen noha kenaa iki jaweranoki mia jabata nox akin ak iki jask a bochikixon jawen noxan kenwina iki min pitira mia jistenamapari iketian bochiki en mia paninxonke westa ino epan joxon mia keyonnaketian jomenwen namanxon kent bii chik ranake namira ichaira iki jatian jask a inon ikon shinana iki ishto joxon bochikiax kent paketaitian yatankin kenea iki kenea joshon inon xeta keyonaana iqki jask a inon piti shinanyamaa iki pikasi iwanxonbi west ora max bakeranonman ronki ak iki jawen tita yoikin tit eara moa ani iki enra moa atapa benati atipanke akin jatian jawen titan yoia iki ikonira mia yoyo ikai bak rama katanwen peokin ja atapa beaxxa mia ani joni ban ti iki jatianra west ora xawan pei min maponko en mia axonti iki mia kikin joni iti onanti akin ak iki jawen bake jaskatax ja max bakeranon kaa iki chonka pichika jonia moa kawanketian jawen titan mana manaa iki yantampaketaitian jainoax jat bi bekana iki ja chonka pichika jonibi jatian ja bakeranon nok yamaitian winia iki jawen tita ja mana manaibi jawen tita kaa iki winiananbi ompax bi caxon oinaki ik iki jawen jabicho bakeki jenenko tohbata moa retekana jaskara oinax jawen tita ikonbiressi winii sion sion ik iki jaskatax ja max bakeranon mawata iki west ora joni ronki ik iki shirinkanin teeti ka jawen awin betan jatian ronki ak iki jawen awinqki ja jonin yoikin atsa xeatiawe non paeshaman xeanon akin ak iki jask a ronki ak iki jawen awinin xeati akin jaskataxki xeati paea iki chosko nete pek o jatian ja xeabaini ronki kab kona iki jawen awin betan shirinka bepon tsekai jainbi jaton xeati mapobainni jatian moa yantanaitian jokin nink kana ronki ik iki ja jonin xobonko saa iki korati jatian jawemeinqki ixon ishto joxon oinna ronki ik iki roo tsamati jawer xeatinin paennabo jatian jawen ibo joaitian meraaxxonki ik iki ja roo icha ishtokasi ikaxbi ronki ik iki ja roo icha bokasibi meinmeeressi moa paenyoraabo ikax jaskataxxonki moa boti atipanyamakana iki jat ribi roo ronki ik iki jawen xeati kent meran napokotax map kasibi rainshki rainshki ik jaskataitian ronki ak iki ja joninki jiwi bixon marishkipakekin keyokin jask axonki ja joni icha pitia ban nike jat bi roo retekin keyoax west ora joni ronki ik tiai xawe ainbo awinhaa ja ainbo ronki ik tiai mets shoko ainbo itan kikinbires teeyaribiki wai oroi kakintiibiki jawen bene yoikatitai miapari piti benatanax nok xon ea joo abononxiwe akinki ak tiai ja ainboki ik tiai jawen bene piti benai kaa pek oki wai oroi ka jatian jawen benebiribiki kak tiai piti benai wetsatianki moa jaapari joxonki ak tiai jawen awin jonin benakin joo abokin caxon oinnaki moa anichaa wai oroa mach tooma ixonbiki wetsa netenki joni kar baa iki piti benai caketianki jawen awin kar baa iki wai oroi moa kaxonki jonin shinana iki jawekeskaaxonmain akai nokon awinin wai orokin mach tooma ixonbi ramara en jon xon oini kaai ixonqki shinana iki jaskatax jo iki joxon oinnabi ik iki jawen awin jo mapari jatian kake benai caxon jon xon oinnaki ike west ora xawe jawen pexkanmanbi wai oroi iiti jatian jonin shinana iki nokon awin ikaxbimainki ixon shinana iki rat tanishamanxon jask kenbiki ja xawen joni meraa iki merataananki xawe ikonbiressiki ishtoa iki koin poto chank kaini caaitianki jonin chibana iki chibankinbi nokoyamaa iki caaxki ja xawe jeneki paketax soo irita iki jask xonki joni jawen awinin potanike jatiressiki nato joi wetsa neten ronki ik iki joniki kachio kai jaw ki retenoxon benai cakin oina ronki ik iki jawen wai kexaki shishi bonko meran wisoi ja merataana ronki kaa iki net shamanax caashki ja bonkon nokota iki nok xon ronki ak iki too akin too ak ronki ik iki ja shishibo raaxki raaxki iki naman maani jask ketian ronki ak iki jonin jawen awin kenakin mari neri tas bew non shishi topinon akin ronki ak iki sa akin jaskatai ninkataxxonki jo iki jawen awin tas pap a beneshaman jobxon ronki ak iki jawen bene nokoki nokoketian ronki ak iki neri tas bew non shishi topinon en too akara neno maanke akin ronki ak iki jaskatax kabxon benabekona ronki ik iki west ora shishibi yama moa main maanax bo jaskataxxonki kab kona iki jaweoma tas yabicho moatian ronki ik tiai yoinabo yoyo ikai jatian ronki ak iki joxo shinonki mananxawe bake bikin bixon ronki ak iki kains teshkain bokin jainxon pinoxon boaxbiki mepakeeta iki ja mepakeeta joaxki kains techapaninki teostameta iki jainoaxki ja mananxawe bakeki ania iki kains bimiai senenribi ja bimi pipitaitianki jo iki ino jaa naman joxonki ak iki yok kin jaweakiki mia iitai chaikoni mananxaw akin ak iki jatianki yoia iki nato bimi kokoi joaxxa ea iitai akin jask aki inon yokata iki wetsa bimi pakexonon ixon jatianki ja mananhawen pakexona iki jaskatax ino neexokokasabi itikoma ik iki ja jiwi sib ikax jatianki mananxawen yoia iki janhb we mia wetsa pakexonon akin ak iki jask a ja ino bochiki kotsatax janxbata iki jask ketian mananxawe janbix ranb akeqkirani joax jawen janaki paketa iki inon janaki jask axon ronki mananiihawen ino retea iki moatian ronki nawaboya noa jonikonboki bokannike konxaman teeti tsoabi jain kayosma ianman boaxki jawetio och bira bob anaki nok shon jainoax teeti peota akannike jaskataxki jain basibires teekana iki wetsa netenki bor bakana iki jaton teetiain jaton patoronin awinbichoki peotainko potabaini bokana iki jaabichoshoko iikinki ninkata ronki ik iki wiso inoki ke keokirani joi kachiokeax ja keotai ninkataxxon ki ja ainboki jaton tapo bochiki yakata iki jainxon manai basikiranyama ronkiaa iki ja ainbaon ninkataki jaskatai nink yosma ikashxonki ikonbiressi rateta iki jatian nii meranoax pik kiranai oina ronki ik iki jawetianbi jaskara jan oinyosma yoina jawen yoraki kikinbires wisoshaman xoki joxoshamanribiki ik iki joaxki ik iki jaton peota taponanmanki tan toshiti ja tanitoshiketian ronki ak iki ja ainbaonki aros xanaki besh akin jask axonki ainbaonki wiso ino retea iki jaskataxki moa yantana iki ja teetaibaon bebxon oinkana ronki ik iki jaton tapo namanki rakati jaton jishosma yoina moa ainbaon retea jaskataxki ja ainbo nokokanaki winipaketa iki ja awana shinanax abo ronki ik tiai nete benatianki inka ja inkan ronki ak tiai jat bitian jawen rayos tana tanakin ikaxbi jawen baken beneki ik iki kikinbires shinan koshia jaskara ikaxki jawebi iamakatiai moa jat bitian jabicho aata ronki sinata iki sin bxon kopikin tanakin aboki yoina iki jatian jawen rayos tanaaki teetanima aboa iki shinan koshima ikax ja jawen rayos inkaki kaa iki axani jawen awin betan ja inka ronki ik iki joshin payon teoya jainoaxki ik iki pia aniosia ja piaki ik iki jawen xeta ja payonbiribi ik iki jawen texo iti ja jawen rayos kanwana pek o chin jawen baken bene kaa iki piaakin senenhaax cakin ninkata ikana iki axani saa iki jato ninkatax moa neteshokoax kaa iki caxon bochiki pia potai koshin sa ik iki neskati chin bakebo aboyabi manxanteonra yapa keyoai iki ikantira kaai iki sai ik iki ja inka bakeranon jaskataxxonki abo peokota iki rama kamanbi piti keyoai abon ian tsosinketianbo joni ronki ik iki konxan bema toweiki iiti xoboanoxon ja konxan towei to iitaitianki inon ninkata iki ninkatax ja shinan ino kaa iki benaboi benabokin oina ik iki to ikibi jishtima bema meran ikax jatian inon ja konxan ratankin benakin joni meraa iki meraxon inon joni ak iki yoikin chaikon ramara en mia piai akin ak iki jatian jonin ino yoia iki jaweatiki min ati iki ea pikin minki ea oinyamaa nato konxan en kaxkeai ea pinoxomparira min ati iki en ak kesk akinribi konxan towekin jatiamparira min ati iki ea pikin akin ak iki ja konxan chopeta ik iki jask jonin ak ma ja chopeta ik iki konya akin akanaitonin matasbokin chopea jask axon jonin ino kenaa iki jawen mekemanbi ja konxan kaxketi jatian inon ja joni ikonhaxon jawen rab mekenbi ja chopeta meran niaa iki moa niaketian jonin ja konyabo tsekaa iki ja tsekaa xep kainxon ino mebitaxxaa iki ja at nan joni ishtoa iki ja aibatax rab nete pek o joni kaa iki oini caxon oina ik iki moa ino pisia moa poinkoskobo tsamata ja pinox jatian jaankaya joni piti shinankenbi poinkoskobaon ino pi iki ja rash ko joni ronki ik iki xawi waia ja joniki ik iki kikinbires yoashi tsonbi xawi xatenaantima netetiibiki kak tiai oini iitibiki west ora nete kayamaa iki cayamaketianki shinon kokonaana iki ixonbi onanyama iki tsonki akai ixon ja joni ik iki too atioma jaskara ixonki shinana iki tarampa ati jask axon boi joniaa iki ja xawi wai kex ati jatian wetsa nete xab ketian shino jo iki xawi kokokasi joxon jis ki ja wai kexa joni chankata ik iki chank ketian sal dantoshia iki jabi kewinyamaa iki kewinyamaabi sal dankin jeneyamaa iki jabi kewinyamaa iki jatian shinon yoia iki miaki sinatai ak iki jabi jawe iamaa iki jawe iamaitian shinon timaa iki timaax boikibi metaxnamekaina iki jatian shinon ak iki ea jenewe jon akin ak iki ea min jeneyamaitianra en mia benkex ar bai ak iki jabi jeneyamaa iki jeneyamaitian benkex ar baa iki timakin jatian jainbi taxn ribia iki jatian shinon yoiribia iki ea min jeneyamaitianra en mia jamatai ak iki jabi jeneyamaa iki jainxon jamata iki jamata jainbi taxn kaina iki jatian yoiribia iki ea jenewe akin ja jeneyamaitian benkex jam ribia iki jatian taxn ribia iki jainbi baneta iki jatian jawen ibon joxon nokoa iki nokoxon retea iki moatian ronki ipaonike west ora joni kikinbires koshi jat biain kawan kawannai iiti ronki nokota iki xetebo joniboiba jain nok ketianki koshi meekana iki coshi meekanabiki jonin jatoaressa iki titainbiki west ora bakeranon jaki jo iki joketianki ja jonin yokata iki jaweki mia keenai akin yokata iki jatian ja bakeranonman yoia iki eara mia keskaribi koshi itin keenai akin ak iki jask abi jawebi yoiamaa iki iitiki ja bakeranon chonka posaka baritia moa senena iki jatian jawen papa jo iki joxon ja koshi joni yoia iki nokon bakera moa chonka posaka baritia seneke akin jainxon jonin yoia iki ramara non raanti iki tet reteti akin ak iki jask axonki ja bakeranon raankin yoikana iki ja tet beyamaaxxa mia joyamai aqkin akana iki caxonki ja bakeranonman tet meranxonbi kenea iki kenea kaaxki pia och paketa iki jatian jainki westiora joni ik iki jakonma shinanyatan yob janki ja bakeranonman pia boonana iki caxon ja bakeranonman jawen pia benakinbi merayamaa iki jask ketianki wetsa joninki ja yob joni koshi meeta iki coshi meexon ja bakeranonman pia bichinxona iki jask axon ja bake jawen pia menia iki jatian jakiribi ja bakeranonman tet meraxon tsakaa iki ja tsakabeiraniki ja bakeranon jakiribi jo iki joketian ja tet pei tsekaxon maimakana iki maiti axon jask axon ja bakeranon kor ka jikimakana iki moatian ronki yawishen piaiki inon nonkonike ja nokoa ronki ak iki kenakin jomenwen pii kok ikaxbi keyoyamawe en xobon botira yamanake ak iki jainxon inon pi iki pikin west orabi texeaxonyamaa iki jawen pi jainxon yok ribia iki piak eara pikasai ea jakiribi icha meniwe moara icha nete iki en piama ja kopira ea pikasai akin ak iki jainxon jawen piakan yoia iki cok moara jat bi en botibo min keyoke mia riki ani joni ea iki maxkoshoko jaskara ixonbi yapa paenaibo akai en bikin bishokoiwe min pinon ak iki jatian inon yoia iki enra biti atipanyamake eara chich jikiti on ma iki akin ak iki ikaxbira mia jikiti atipanke kok akin yoia iki yawishen jawekeskataxki ea itiki piak ik iki inon jatian yoia iki iw itibiresiki west ora makan benatanwen ak iki ino jatian ino pikashora ikax kaa iki ishton makan benai jatian yawishbiribi kaa iki nishi benai caxon be iki inon west ora makan yawishanribi be iki nishi nato riki piak enra moa beke makan akin yoia iki jatian yawishan makan nexaa iki nishin jask axon neri jow kok ak iki joketian tenexa iki axon yoia iki bitanwen ramara mia chich jikiti jakon iki akin jatian kaa iki ino jenenko caxon nemin ron a iki jainoax jor bakasabi jotikoma ik iki meereskin nishi tesaax pikota iki moa joinman reteibishoko pik xon jawen pi benaabi yama ik iki moa jabata pinaketian jatian ino sinata iki sin xon chibana iki ja kaa bainbi jawen itsa xetexon caxon nokoa iki west ora kini meranoa caxon jinakishoko yatana iki moa jabati kaainbi minra ea paranxon maw makeanke ramara en mia piai akin yoia iki inon ea piamawe en mia yoibanon ekira kirika nok ke neskara riki en mia yoyo axonban n nink we ak iki jask axon jawen pishamea kirika tsekaxon yoyo ak iki se or carachupa jatibi jaw ki main niaibo yoiwe jene anira beai jato keyoi bochiki neekanon cok nink we ixon yoia iki ja ino jatian ino ikon shinanax ik iki eaki jawekeskatiki ik iki jatian yawishan yoia iki nato jiwi tanon neetanwen ak iki jatianbi ino raketi ishton neeta iki ja neetai kamar yawishan meshishokobo tsinkia iki jask axon ja jiwi naman ak iki tsamankin tsamankirbi yoia iki carestanwen kok moara jene ani beai ja moa kaketian jawen pishamea josporo tsekaa iki jask axon menoa iki jan neeta jiwi moa meshotax pak ketian yawishan pi iki jonin jane ronki ik iki juan jawen awin ronki ik iki maria ja rab ronki ik iki bakeya ja bake ronki ik iki jawen papan janenbi ak juan jatian ja bake betan jawen papa ronki ik tiai rikan yomerai west ora yam ki kab kona iki rikani caxonki ak iki rikankin ja rikanxon ninipatanbexon oina ronki ik iki ani jaw kiki ikaxbi jimpanya mapokiri oinaki ik iki rekinya jakonshoko ainbo boo nenk jatian ronki ik iki ja ainboki yoyo iki jon miara noibati iitai enra mia akinkasai mia akinkasira ea ike min rikan naneti enra mia meniti atipanke yapa icha min jato maromaxon kor ki binon ixon akin ak iki jatianki jonin yoia iki jakon riki min ea akinti ak iki jask axonbiki ja ainboan yokata iki jakiribi natoqki min bake iki jatian yoia iki jen jen jaa riki nokon bake akin yoia iki jainxon yok boa iki jawetii baritiayarin akinki yokata iki jatian yoia iki chonka rab baritiaya riki akin jatianki ja ainbaon yoiribia iki ea riki chonka sokota baritiaya enra mawinke min bake ikaxbira ea keenai min baken akinki ak iki jatian min bake bixonra en mia jat bi jaw kinin akinti iki akinki ak iki jatianki ja joninki yoia iki jaskara ikenra en mia bimati iki akin jask taananki ainbaon yoiribia iki wetsa yam joxon ja tor ikain min rika nep nonxiwe akinki ak iki jaskatax ja joni kaa iki jawen xobon caax iitiki wetsa yam jor baa iki joxonki ja yapa ainbaon yoiibatainko rika nepota iki nep xonki bi iki icha yapa jakiribi axonki bi iki ani tora ja toraki ik iki non oinyosma orobires yorayaki ik iki jatianki ja ainbo pik ribia iki joxonki yoia iki nato tora min awin betanbicho pitanwe keyokin pitanwe jawebi yoy yamakin jatianki ja joni kar baa iki caxonki ja ainbaon yoiwana kesk akinki ja jonin jawen awin betanbicho pi iki keyokin piaxki karibaa iki rikani caketianki jakiribi yapa ainbaon yoia iki nenoax rab oxera min awin bakenai akin ak iki jatian joni kar baa iki jatianki manakana iki rab oxe rab oxe senenketianki ikon ik iki jatian ainbo bakena iki ikaxbi bake jis ma ik iki rab wiso och ti bakeres west ora awin west ora bene jatian iikinki ja yapa ainbaonki jato nokoribia iki rikani bokanketian nokoxonki yoia iki moara baritia senenke min bake eara moa keenai min baken akinki ak iki jatian joni kaa iki jakiribi jawen xobon caxonki jawen awinki yoia iki non bakera yapa ainbo moa keenai jara moa en jen ak iki jaskara ixonra non meniti iki ak iki jatianki ja baken ninkata iki ja ninkataxki ja bake jabata iki jask axonki ja baken jato potaa iki jatian yapa ainbaon jato nokowetsayamaa iki moatian ronki west ora ian kexa jak tiai west ora mananxawe betan rab nonon ja iamanki basi jakana ik iki ja nonon rabekanki mananxawe noia ik iki jato betan raenanai iketian jainoax onan joni iketian jan ronki jato mesk joibo yoikatitai ja moatian ik tiai joibo jainoax mesk tsinitiboribi jato onanmakatiai jaskara iketianki ja mananxawe kikinhakin noikanaki ik tiai ja nonon rabekan jaskatax jain jakonbires jak tikanai wetsa netenki ja nonon rabekan oinna iki jaton ian tsosinai moa ompax xeati jakonma jaskara oinxon nononbaonki jato betan raenanai mananxawe yoia iki chaikon ak iki noara nato ianshokotonin moa jati atipanyamake akin akana iki jatian mananxawen jato yoia iki jawe keskatiki mato jatima iki akin jatian wetsan yoia iki noa neno ii iiti ikaxbira noa nomin reteti iki ja kopira noa rama wetsa iaman kaai akin yoia iki jask akin yoiakana mananxawe kikinbiressibi rateta iki nomin reteti shinanax jatian jato yoia iki jaweatinki maton ea potakasai eara rama mato betan kaai akin jato ak iki jaskataitian wetsa nonoman yoia iki mia nob kati ikaxbira mia noyayosma iki akin jaskataibi wetsan yoia iki teema riki ja nob kati akin ak iki jask a wetsan yokata iki jawekestax ki kati iki noyayosma ikax akin ak iki jatian yoia iki jiwi benawe meraxonra min beai min beketianra noa oken bekon natex bekonai jatianra mananxawe naponbekonshaman natexax kaai akin ak iki jaskatai ninka tax mananxawe kikinbiressi benea iki jakonhiraakin wetsa nonoman shinanketian ikonrake ea jask axon bokanwe jatian ra earibi nomin retetima iki akin jato yoia iki jato betan noyakaskin kikinbiressi mananxawe keena iki noyatinin jawetianbi noyayosma ikax jawekeskarin noa noyaa ixon onankasi jatian wetsa nonoman yoia iki non bo ra mia yoyo itima iki jainxon min osantima iki ja mia non yoia jaw kibo senenhayamaaxxa mia paketax nok tima iki noa kaainko akin yoia iki jatian mananxawen jato yoiribia iki eara itima iki enra maton yoiabo mato senenaxonti iki akin jato ak iki jask axon jiwi meraxon tan kiinkana iki tanataki jakon ik iki jawekeskamabi jaskatax bokana iki noyai jatian mananxawen jawetianbi noyayosma ixon oinna jakonyora ik iki jato jaw kibo yoibokasabi itan benekin osankaskinbi onsan tenea iki pak naketian jaskatax moa och noyakana ik iki moa jain bokanai ianman nok ti och ma jatian ja ian och ma ik iki west ora xobo ja xobo bebon bakebo tsinii ikana iki tsini tsinikinbi wetsa baken meraa iki nononbo winotai winotaitian oina ik iki west ora mananxawe jato betan jatian ja baken jab bakebo yoia iki oinkanwe west ora mananxawe nononbo betan noyai akin jato ak iki jatian oinkana ik iki ikon bakebo jaskataitian mananxawen ninkata iki nink xon jato kewinkasi jiwi natexa kepishiita iki jaskata h paketa iki paketiki makanki jaras ikaina iki jatian bakebo rat kana iki jato patax pak ketian mananxawen shinana ik iki nesk akin bakebo notsinti matora jawemabi iki oinreskanwen ea noyaitian ati ixonbi jato atipanyamanike jaskatax jainres mananxawe key nike jawen yoyo ikas kop paketax xinon ronki anike mananxawe bake mainmea meraxonki bikin biaxxonki inike bochikixonxamampari pib tanon iki jask xon ronki anike kantsin bochiki mananxawe bakeki joxo shinon bokin jain peyakaxonki ak iki chosha choshakin chosha choshaabi ronki inike mananxawe bakeki shino mepakeeti mepakeeta ronki inike kantsin texkan meran mananxawe bake ka jainki ipaonike mananehawe bake josho shino mepakeeta titi kantsin texkan pay ketian ronki mananxawe bake pak nike paketaxxonki inike ramara en joxo shino kopii kaai enra onanke joxo shino ea kantsin texkan meran kamani shino riki beis beisyosi ironkianike mananxawe moa ani ronki inike ja mananxawe rab chonka baritiabira jaskataxki shino benai kanike cakinki joni nokoxon anike yok kin mank jawetianki joxo shino bon ak iki joninki mananxawe yoinike moa chonka posaka baritia riki shino bon akin ak iki jainoax kaax wetsa joniki nokota iki nokoxonki yokata iki mank jawetianki shino bon akin moara chonka chosko baritia iki shino bon akin jabiki mananxawe karessa iki caax wetsanko nok ribia iki mank jawetianki shino bon akin moara chonka rab baritia iki bon jabiki mananxawe karessa iki caaxki wetsanko nok xon yok ribia iki mank nenoki jawetian shino bon akin moara posaka oxe iki bon jabiki mananxawe karessa iki caxonki yok ribinike mank jawetianki neno shino bon akin moara sokota oxe iki bon akin jabiki mananxawe kak ressa iki caxonki yok ribinike mank jawetianki shino bon akin yokataki yoinike moara rab oxe iki boyantana akin och bires kaxonki yok ribinike mank nenoki jawetian shino boyantana akin ak iki moara kimisha sim na iki ja boibata akin anike mananxawe caxonki wetsa meraxonki yok ribinike mank nenoki shinobo jawetian boibata akin ak iki nenora bakish bo bake akin jabiki mananxawe karessa iki caxonki wetsa yok ribinike mank jawetianki neno shino bo bata akin ramabira win bainke ramabishokora min nokoi kaai akianike joninki mananxawe jatianki jonin jask a kakinbi ronki shino boaiki mananxawen nokonike xa ibotanai jatianki sotameexonki mananxawen oinike oinabiki shinobo jamabores inike orishoko kaxon oinaki jan an shino inike ja onanxon ki mananxawe anike shino ishtompari jow shin noa yoyo inon akin ak iki kenaxon ronki mananxawen ishtonribi kaocho benanike benakinki mananxawen ishtonribi kaocho merani ke jatianki joxo shinoki pak nike pak xonki anike jawerin mananxaw akin ak iki jask xonki anike joxo shinoki mananxa wen keenakin caocho timanon aw joxo shin akianike mananxawen jask xonki mananxawenki anike empari ab non akianike jask axonki mananxawen kaocho timanike timaaki bepon tsiwibeiranaitianki mananxawen shino yoia iki ashokowe shin akianike jask xonki shinon timanike timaaxbiki jainbi shino senbonike jainxonki benkeshribi timanike timaaxbiki jainbi senbonike jatian taenribiki jam nike jamataxbi senbonike benkex taenribiki jam nike jamataxbiki shino senbonike kaocho bepoman yatana jaskatax shino sion inike sion ikaitianki mananxawen yoinike onanwe shin jask bira min ea kantsin texkan meran ea potanike akin ki anike mananxawen joxo shino moatianra ik iki ani ian itan nenk ja ianmanaonra ik tiai jonibo icha jain jakana ani jema jain jakana iki basi jawetii baritiabira ikana iki jaton inkaya ik tikanai jainxon jaton inkan shinanman noya rao merakana iki west ora jonin ronki meranike meraxon oina iki jat bi jaw kinin piai rekenhakin pi iki sipaman ja bimi piax sipan jene meranoax noyai jaskataiki jonin oin oinnike jainoash jat bi yapabo noyanike ja bimi maana piash jatian ronki joninki shinannike ramara en neexon jawen pei bi kai iki inike jaskatax joni neenike caxon jawen pei binike jawen pei biax paketa iki naman pak xon shinanribia iki jonin ramara en nato rao motsabxon nokon jema jatiobi itan mai ak kaai nato raon kash akin ixon shinana iki jask ashon ja rao motsashon bo iki boxon ak iki jawen mai kash akin aketian ichabires joni tsink nike jaskatax jatikaxbi man kana iki jainoax west ora bake ik iki kikinbires yoitima ja bake kaa iki masp sotani ja bake kaa pekao bari keyataitian peokoota iki chichokeax mai tes iki jatibiain tes iki peokoota iki mai teseti jaskataitian bake manabireskana iki jabi joyamaa iki jainxon oina ik iki moa mai keyatai moa key chaa ja mai keyatai ointxon sinko xonhakin peokana iki jat bi jaw ki akannike sxonhakin ja ka benekin jaskatax moa mai key inike jainxon oinkana inike bakeshoko moa jo jabi bitikonma ik iki ja bake sai ika iki ea biwe kok ik iki ea potayamawe ea biwe kok ik iki jask ketian risb potaxonkanabi senenyamaa iki jaskatax joti atipanyamaa iki jainoax moa bake winia iki ichabires winiax jatian is baneta iki ja bake cok ikai is ban nike ja bake jaskatax bokannike cakin tamp ra aa aabainkannike canch waya ik iki jema ani ja jema ani bitaxxi comankaya mai paketa iki jaskatax ja jonibo jain ban nike ani manan pek o mananxawe ronki moatian ipaonike peiya kikinbires ishto joni tsonbi ishtokin kanantima joni ronki ik tiai tsonbiki piamapaonike ishto ikax atikoma iketian iitibiki inka mananxawe pitin keena iki jaskaaxonqki jawen shinanman mananxawen pechiki s kenana iki jatianbiki ishtoyamai peokoonike jaskatax in ronkiki ramakamabi mananxawe yosma ishtomashoko niai jonironqki kaa iki paron yomerai cakinki bo iki west ora texkan paranta joshin caax nokota iki paro nawekinin taxanko jainxon jawen nonti tekeyana iki jaskaaxon jonin mishkia iki jawen nonti och chaa kaxon taxan pen anan ja mishkii iitainbi west ora tonb wasa be iki bexon nontimea paranta joshin merakana iki nats maata ja oinax kokoi napokookana iki jainoaki jonin meraa iki wasabaon jawen joshin keyoaitian ja ointaanan net shamannax kaxon jonin jawen nonti napon xotonbaina iki wasabo napokoyabi jainxonki jonin jawen wintinbi wasabo retekin keyoa iki ja jaskaabainiki moa joni kaa iki jakiribi jawen xobon jat ressiki wetsa neten ronki joni kaa iki kachio cashonki west ora tonb ki iso meraa iki bimi kokoi tsinkita iki moa pak ketian jainoaki jonin too ak joni kaa iki benai caxon oinnaki jiriabi jain rakata ik iki bimi tokonyabi paketa jainoaki ja jonin jawen metoti iso jania jawen metoti xatenaana jaskatax joni metotioma jaskaatananki iso bimi jants ti shinankin iki jaskaa ison iki natexkin baneta iki ishton wen tanna jiwi bochiki neeta iki bonko meran jikii jaskataxki iso jabata iki jonin reteamabi jainoaxki joni moa jo ikaxbi metotiomares moatian ronki inike bo betan ipoki nokoanani jainoaxki join iananabekona iki nami noemanin yoinanabekonni jainxon ipon yoia iki miara keraskinbi pikanai toshb iananbi eakayara pikanai keenshamankin bex bexeshamankin miara jaskaayamakanai mikira keraskanai akin ipon ak iki jaskaa boen mas shinana iki jaskatash moa kab kona iki jatiressiki moatian ronki ik tikanai non rekenbo onanmabires och bokinki winti ispinres winakatikanai rama non akai keskaayamakin iresbiresi niaibo ik tikanai och boiki ik tikanai bob baitibi jainshokobi oxai jaton repinti reboorishoko jainoax boash wetsa nete xab ketian ja reboorishokoribi oxaribii moa yantan aibata karo bixonki jakiribi kechonkatikanai jaton piti kobinhati moa yam ketian jainoaxki shit paokanike bai och bomai jatian moa taxnatax jakiribi beb baitiki ja ishinai bekeibari oxai ja jaskatash bob kanainbironki inike jato noibaaxki xot keoti sapan axon aw sapan axon aw iki ja keootaiki chiakaatonin ninkata iki jatian jato yoia iki sapan axon aw irai akin jaskataitian nik xonki akana iki jat xonbi sapan axon winakin peokin non akai keskaaxon jaskatax ishto bokana iki jat ressiki wetsa neten ronki ik iki poinkoskoki jiwi tanon yakati ja yakatainkoribi joaxki xete yakata iki ja patax ja xete ik iki poinkoskon kompa jask kenbi poinkoskompari peokin yokata iki xete comp jawekeskatiki mia mankoya iki akin jaskaakin yok ketian xeten yoia iki ea sont ro inontian kip mai maibichoi ea mankoa riki akin ak iki xete n jawen kompa jainxor xeten yok shokoa iki jawen kompa poinkosko ja poinkoskon jane ik iki sioka compa siok jawekeskatiki mia ni rank tan rank tan ikai akin ak iki jaskaakin yokata poinkoskon jawen kompa yoishokoa iki ea sont ro inontian marachan marachanbichoi ea ashea riki jaskati ni akin jaskaakin yoikin senenhataanan xeten jawen kompa sioka noyakin potabaina iki wetsanko taxk qkin jatiressiki ironkiaa iki wetsa netebaonki ino betan chaxoki nokoanani nokoananax yoyo ibekona iki noa jainbicho janon xoboanon aw akabi chaxo raketa iki inoki wetsa nete win ketian xoboakin peokana iki teeteekinbi piti benati chaxon ino yoia iki jaskaa kabxon inon be iki jawen kaibo chaxoribi jatian beketian pik shorakinbi chaxon jawen kaibo iketian piamaa iki jaskatash wetsa nete xab ketian inonbiribi chaxo raanshokoa iki min piti beyamaketianra en miabi piai akin ak iki jatian chaxo mas shinan shinanbaini kaa iki piti benai jab senenres kakin meraa iki ino xaen retea jainoaki ja maw rakatabi papiakebeirani jo iki beneshaman ja beketian oinnax ino rateta iki jatianbiki ino jabata iki jaaribi reteti shinanabx jaskatax chasho xobo ibo baneta iki jat ressiki moatian ronki jak tiai west ora map ainboki jaronki ik tiai mets shoko ikaxbi josho ainboki ikaxbironki och taxk tinin rak katitai oin anaketian iitainbi ronki west ora joninki bi iki awinhakin bixonki wetsa netenki och ioa iki rak raketainbi ja kaainbiki oi kexto be iki jatian ja ainbaon jawen bene yoia iki ea pei xatexonwen oira beai ea map non akin jaskaa jawen bene taxnata iki kex pei xatenoxon benai moa joni pei benai kakenbi moa oi keshto beyoraa iki jainoax ainbo joo ik iki jawen bene kenai eara moa ayorai jomentaniwe iki jaabikan jawen bene pei benai oken ishtobekona iki jainbi ainbo joo iresa iki moa basi joo ikax moa kest nmashoko ik iki iikaax moa iwetsayamaa iki jatian moa joni jo iki pei xatebeirani rat ratekirani joxon jis bi moa yama ik iki nonti napoki map pachi tsamati moa oin keyoa jainoaxki moa joni baneta iki jakiribi banetax kaiki joni wini winikainna iki jawen xobon moa nokoti is baon ronki ak iki west ora ani pishtaki jainki tsink kana iki jat bi jainoax mesk is bo ja bebon jakoni keotai is ki ik iki kina akai jatiribiboki ransai jat ribibo xearesai ik iki ja iikanainbi ronki max ki jo iki kachiorikeax pikbkirani joshonki jato yokata iki e tsoarin ja kina xoon akai eakaya amakanwen akin jato ak iki jatian yoikana iki minkaya apananra mia kex aniora iki non mia kexeaparira jakon itiki akana iki jatian ma x ik iki oinnon ea akanta iki jask ketian is baon max jawen kex keshenaankana iki ja moa akin senenhashon yoikana iki moara mia non ake rama osanyamawe akin akana iki jatian mash ik iki enra osanyamai iki ik iki ja max jask kenbi west ora is osantishaman ransaa iki jaskatai oinxon maxokan osana iki jatianbiki jawen kex waxata iki pab ki namanbi senenkainni jaskatax in ronkiki ramakamabi max kesh ani jainoaxki moa max jakiribi kar baa iki eara kaa iki nokon papa betan nii meran yoina retenoshon benai yam kirishoko jaw kiaamabi cakin non retea iki west ora yawish rab jono jaabi kakatakh moa bariapan senenketian noa jor bake baneti moa joibi noa nomia iki ikaxbi non ja xeati yama ik iki jokin non west ora mananxawe bi iki jatian joj kinbi non bai onantimamaa iki jain moa noa benota iki bai pochinikon moa jotikoma iketian non mananxawe potaa iki jatian moa yam yoraitian nokon papan jiwi bochiki tapo ak iki jain noa yak shinti jainkax moa yameta iki jain noa yam yak shina iki matsi meeti non ox tenea iki jainxon mesk yoinabo keotai non nink shina iki moa nete xab ketian noa paketa iki ikaxbi noa yosmares ik iki piama ikax jatian ea jiwin neeta iki bochiki jainxon paro oinni benai jainxon en meraa iki bari joai naman jainxon en papa yoia iki onora paro itinke akin jainxon non bai pontea iki jainoax ea paketa iki jaskatash noa kaa iki caax noa nokota iki yantampake moa xeakashoraibi jainoash moa pikasibi moa xobon nok xon non pi iki jainxon non xeaa iki ikaxbi non yora yosmares ik iki jaw kiaama ikax wetsa joni ronki ik tiai xawi waia ikaxbiki wasa betan shinobaonki kokonaanreskatiai moa akan akanyoraa jaska xon reteti jonin benaa iki wetsa netenqki shinanke ramara nokon kab yo en xawi wai napo nexai kaai jatianra jaki rak kinbira akantima iki kokokin iki jaska shon boxon wai napo jawen kab yo nexaa iki moa basi niash kab yo paxkinax rakatash oxakainna iki ja oxaa pek o wasaboya shinobo ber bakana iki xa wi kokoi bexonki kab yo oxaa merakana iki jainoash yoyo ikana iki jaweaki neno joax kab yo mawatarin ramara pisi poatai neno jakonhashon non xawi kokoti ikenbi non potanon nishin nexanon akanwe ixon nishin neshakana iki jatikaxbi shinoyabi wasabo nishin chinexeeta iki jaskaaxon ichaxon ninikin kab yo ox ratekana iki jatian ninainakainxon kab yonin jatokaya bo iki jawen ibokiriakin ishto bokinki kab yonin ja shinoya wasabo jiwiki ret mapatanboa iki jeman pik kainnaitianki jawen ibon meraa iki wasa betan shinobo keonya kab yo jaki ishtoaitian jaskaaxon jawen ibon bichinshon retekin keyoa iki ja jaskaa pek o jawenbi meeyamaa iki jawen xawi wai jat ressiki wetsa neten ronki inoki kaa iki kachio bainko ja kakinbironki ak iki mananxaweki bechikin jatian bechixonki yoia iki chaikoni ikonrin mia koshi yoikanai oinnon rama tan non aw ak iki inon jainxon inon mananshawe yoiribia iki rama west ora nishi nenk pari binon kaw akin ja kawana basichaa job kona iki nishi nenk esia ja beax nex bekona iki jainoax mananxawe jene chicho kaa iki caxon sapenman titaisi oxaa chinesha iki ja chin shtaana wetsaorishoko pik xon mananxawen oinna iki jask axon oinnaki ak iki inompariki nishi bibainkin jan boti keskaakin jainoash sapenman tita ox jistenash koshia iki jaskataxki ib kona iki senen rabe koshii ja inoribi kikinbiresi koshia iki ehok yonon kaman moa jaskatai oin hon kaxon mananxawen ja sapenman tita choroa iki choroash janbix neshetash joash pikota iki joxon ino oinna ik iki xok biresshoko jawen yora xat bires jainxon inon yoia iki ikonra mia koshi yoikanai chaikon akin jaskaabaini moa ino kaa iki jatian mananxaweribi moa kaa iki wetsanko joni ronki mawata iki jawen awin betanbi jaton bake benbo rab bichoki kachiankana iki jatianki jawen titashokon jato bi iki onaankin jaskataxki ja bake rab ki anibekona ik moa anixon jaton titashoko yoikana iki noara naikan kanonxiki akin jask abi titashokon jato ikonhayamaa iki jansoira mato iitai akinres jato ak iki jainxonki bakebaon pia akin peokana iki rab neabo jainxon jaton kan tiribi jaskatax nete xab ketianki boshon jaton pia tanakana iki jatian jaton pia key maax ber bakana iki jainoax wetsa nete xab ketianki ar bakana iki pia akin moa akin senenhash boxonki nai tsakaribikana iki jainoax moa pia poinki jishtibires ik iki ja pianribi wetsa pia poinki tsakaxon nenk axon maiki nokoash bor bakana iki jakiribi jaton xobon nete xab ketian boshon oinkana ik iki tapiti jakonshaman paketa naikameash jo jainoaki kapa kenakana iki nai kintanwen nato tapitinin kashon akin akana iki jatian moa kaaxbi matsiora iketian ban ribia iki jainxon wetsa kapa kenaribikana iki nai ointanwen nok xon jakon iketian tapiti shakontanwen jatian non on non axon raankana iki moa kaa basichaa kapan tapiti shakona iki jaskaaketian jatikaxbi bokana iki neeti jat bi yoinabo bo iki ja tapitinin neeti ainboboki jaton sintan pap aboki bokana iki bochiki neeti moa ichayora bokanaitianki jawen ibobo sinata iki jatian tapiti jato sekenaana iki jaskatax ja neetaibo naman paketi key kana iki ja sintan pap a ainbobo naman paketax yaw shkana iki moatian ronki ak iki inkanki mai poto joniaxon orona meran xoikin jatianqki axon pikoa iki paxachaabi jaabo ronkiki ja non kirinko akaibo jainxonki wetsa joniaribaa iki axon niaribia iki jatian pikoxon oinna ik iki ja mesh yora jaabo ronkiki ja non rashiko akin akaibo jainoaxqki inka yoyo ik iki jakonmatani rab ra en joniake ramara en wetsa ar bai iki jask ashon wetsa ar baa iki moa axon orona meran niaribia iki xoikin jatian ja panshinshaman pikota iki ja ik iki noa inabobiribi jatian inkan ja oinna ik iki jakon jatiressiki yo shiko inka ronki japaonike joni icha xaran jato naponshamanki ik tiai jawen xobo ikaxbiki shinan koshia jawen xobon kaxonki jonin jaw kishoko yokatabiki meniamapaonike wai axon banakaskin atsa taxo yok kanaki jato rar s axon menii jaskara boxon banakanabi xoxoyamai xeki yok kanaki jask ribi chi meran niashon jato menii jaskara banakanaki xoshoyamai jato jask jaskaaitian jawen atsa yometsonoxon shinankana iki caw yo shikon atsa taxon yometsonon iki jaskatax boxon bikanaitian jato bina tekamai ja tekaa ishtoax kaxon jene tsakaax kap katikanai ja yo shiko inkan jato shinanshonatonin jatiressiki moatianronqki chi yamakatitai inka nato main janontian ikaxbi ja inkabichoki jay ik tiai ibxonbi jato meniamakatitai yoashi ibxon tiikinbiki jonibaon chi yokata iki ja yok kanabiki jato meniamakatitai jan jaton piti kobinhatibo yama paranta xoitibo yama iketian jatian ronki bari namanshokoribi ik tiai ja bari xanan rakanxon xoixonki pik tikanai jaskaaxon ronki ak tikanai basi mas tenekin iikinbi ronki beskon yonokana iki ja chi biti ja beskon ik tiai inkan in a min titan chi tsist bitanwen beskon akana kaa iki cakenbi jawen ibon bemayamaa iki jatian jawen iboki jain matsoti ik iki ja chiikan yoashiananbi jatian beskon jain yakata iki jawen ibo och chaa taxk makasi chii binoxon iitibiki jawen ibo shinanbenokainna iki jask ketianki beskonman chii tsist ishton tokonash noyaitian jawen ibon meraa iki jask axon jawen ibon mats tinin rishkipatanboabi noyakin potabainna iki jask axon boshon koman tanon perakana jainoash keteta iki jainoaki yo shiko inkan niweabaya o keshto bemaa iki ja chi nokaati shinankin jainoaki beskonman nato poinkosko xete ishmin jaabo kenaa iki jan chi otaakinti jaskatash bexonki jaabaon chi otaakana iki moa o nesea pek o ja koman tano ketetash chi tinina iki jainoaki ja chi jatishonbi bikana iki jaskatash ramakamabi chi jake awakan ronki bimpish namanshon jawen nonti tatenike ja aataitianki chosko bakeranonki jo iki neexon bimpish kokoi jainoaki bimpish bimin aw tsakakana iki manshonbinaqki jatian sin shon awakan bimpish jamata iki jaskaa bimpish xonoa iki jaskatash jonibo bochiki baneta iki pak ti atipanyamaash jainxon xono pei tsekakana iki jay pak ti jainoax jimakana iki jask xon xono pei natexash jay pak kana iki westiora west orabo maani key kana iki paketax jakiribi jonixon aw chibankana iki retenoxon bosxonki nokoxon retexon pikana iki ja aw retebainni boxonki ian merakana iki jan keiba shit noxonki nexn x nonti yok kana iki min nonti noa bexonwen chai akana iki jatian jato bexona iki west ora kapetan ewa ja ik iki jawen nonti jaskataxki jan shit kana iki moa keiba nok xonki jato yoia iki jawen ibon jakonshamanash pak kanwen akin jaskatax pak kana iki jatian chinitain ik iki west ora joni jakonma shinanya jaanki ake pak kin kap jawen maponko jam beirankin jask ketianki wetsaorikea kishiki kapetan tsekanana iki jawen ibon joi nink xonyamaketian jainxonkin ponsenman noati yok kana iki jato menia bixon ian napon nen chinkana jene tsosini keyota iki jatian kap benakin jiwi namanmea merakana iki jainxonki kap retexon jonin kishi bikana iki jainoaxki moa banetash jakiribi bekana iki jatiressiki wetsa neten ronki ik iki ino betanki xae bechikonani nokoxonki ak iki inon yok kin e miaki jawerano ka iitai cha akin yokata iki jatian yoia iki neno ka ra ea iitai akin xaen yoia iki jainxon inon yoiribia iki min tari ea sawemawe akin jatian xaen jop xon menia iki rama nokonabiribi saweshokowe ixon inon jawen tari menia iki jaskaa xaen sawea iki inon tari onanyamaxonki xaen jop xona iki ja sawetaananki ino jay ishtoa iki ishtoaitian chibankinbi xaen nokoyamanike jatian mas shinana iki ja inon tari ronki ik tiai sop wisobicho jatian xaenabiribi ken yashaman jask axon inon xaen tari bichinnike jatian xaenbiribi inona binike jaskarainoaxonki ino betan xaeki rawikananbekona iki ramakamabiki jaki xae sinatai jat ressiki wetsa joni ronki ik tiai mans na waia ixonbiki jonin jawen bimi kokoyamakatitai moa joshinaitiibi kaxon bikaskin rotokatitai iikin jawen bake rab yoia iki rama non onannon mans na koirankanwen jawenki akai ixon non onannon ak iki jawen bake jatian ja bakebo keena iki jask ketian jawen papan jato yoia iki jakiribi jan akai maton meraketianra en mato nokon jat bi jaw ki meniti iki akin jato ak iki reken bakepari yonoa iki jatian ja bake kaa iki moa yam iketian koirani moa nete xab ti och mataniki ja bake oxaa iki ja oxatanash besoxon jis ik iki ani jo moa ja bimi bibaini ka jainoax moa nete xab ketian joxon jawen papa keshana iki oxaxonra en biamake pap akin jainshon jawen chini bake raanribia iki ja baken bo iki tamp ra xomox kit rra ja oxakaskin atibo caxonqki ja baken koirana iki moa oxakaskin jawen bompo timaa iki jainxon jawen kit rraribi jaskatash moa nete xab ti och maki ani jo jo iki bimi shinan joxonki ja bimi biaitian yatankin jawen jinabichores bichina iki jatian moa nete xab ketian be iki jawen papa oinmati bexon oinmaaki jawen papa keenyoraa iki ja is bikasi jainxon jawen reken bake yoiribia iki ramara mia kai ja is benai bixon betanwe ak iki jatian ja bake kaa iki moa bariapan senenketian pi yakata iki jain ikenbi mash jo iki joshon yoia iki eara pik shorai ea min piti pakesh meniwe akin jainoaki ja baken yoia iki enra mia meniamai akin jatian mashokan yoiribia iki ea meniamaasha mia mawati kai akin jaskatax ja bake kar baa iki ja bain kaaitian ani inon pi iki moa basi manatabi joyamaitian jawen chin bake raanribia iki jawen wetsa benati jainoashki ja bakeshoko kaa iki caaxki jawen wetsa iantanainribi pi yakata iki jain ikenbi max jor baa iki joshon ja bake yoiribia iki eara pikasai min piti ea meniwe akin jatian ja baken menia iki jainxonki maxokan yokata iki jaweranoki mia kai akin jaskaa ja baken yoia iki nokon papan raana kaira ea iitai is jo bires benati akin ja baken ak iki jatian mashokan yoia iki minra merati atipanyamake miabicho ixon en mia bob non ja is onanmakin miara ani inobaon binake moa min wetsa inon bi riki en mia bishoni kab non ja is akin maxokan ak iki jaskatax ja bake max betan kaa iki cakin mesk jiwibo wino winoboa iki nato joshin peia jiwi yankon peia jiwi joxo peia panshin peia jaskarabo wino winoboax nok kana iki ani ian kex jainxon maxokan yoia iki keiba riki ja is ani jiwin peyakaa riki ikaxbira noa jan shit ti yamake en kap kenabanon akin jask axon ani kap kenaa iki jaskatax jan shit kana iki keiba moa nok xon yoiribia iki bariapanra jawen ibo moa oxaa ikai man parinon aw akin ak iki moa bariapan senenketian bokana iki boshon oinkana ik iki moa oxaa jawen bero ik iki joebires jawen xeta nenk oxaa ik iki jiwi tapon naman jainxon oinkana ik iki bochiki ja is yakata meskoti bewai ja patash niwe kab yo jainoax ja jiwi namanbi ik iki key yosma xeati yakata jaaki ja baken bi iki jainoash ja mash neeta iki ja is shinan jatian pakea iki ja niwe kab yoribi pakea iki jaskaax max jor baa iki paketi jatian max niwe kab yonin jo iki ja bakebiribi isakanbi jo iki jainshon kempo maxkoshokon xeati be iki ja baken jatian moa och bekanketian jawen ibo moa besoa iki jainshon jawen jaw kibo rotoa iki jainxon jato chibana iki moa jawen ibon jato nokoyoraa maxokan ja bake yoia iki nenobi jon non aw en nato kab yo ani xobo pikobanon nato is atapa bakeya ab non mia yosishoko kesk iw akin ak iki jatian moa max joneta iki jask kenbi moa jawen ibo nok toshita iki joxon oinna ik iki west ora yosishoko jawen xobo naman oroi iiti jatian ja yoshiman yokata iki minki neno joni winotai oinyamaa akin jatian ja yosishokon yoia iki enra oinama iki nenobiribira ea oroi iitai akin ak iki ikonbiresi jawen ibo sinata ik iki jaskatax moa ban kainribia iki jainoax jakiribi pik xon maxokan joniaa iki saskatax moa jakiribi ber bakana iki moa jawen xoboki nok ti och ma maxokan ja bake potaa iki jatian ja bakebicho kaa iki jawen papaki nokoti jat bi ja kimisha jaw kiabi ja nokoti ka ja is meskoti bewaa iki moa nok xonki jawen papa ja bo jaw kibo oinmaa iki jainxon jawen wetsa moa inon pia jawen papa keshana iki jask ketianki ja bake jawen papan jatibi jaw ki menia iki jaskatax ja bake icha jaw kia baneta iki jat ressiki max zorro max ra jake manishmeran piai atapa nonon jainoax mesk peia jaw kibo neskara riki mash wetsa manamamea ikashbi riki nekea max kesk ma wetsaressibi max ganso ganso iki nonon jis bi ikashbi ik texo nenk ira ja awin iki gansa ganso nami iki ikonbires nowe max awin betan gansa wetsa neten westiora jawen netemea gansa ik iki iaman nonononoi jawen bakeboya jaskata pekao jawen titan main map kina iki jatian gansa jawen bakebo mashin map kinxon pimai itaitian westiora max awin manamaneash ipakea iki ja nokoi jo ja nokoxon ynia iki jakon ira borin min bakebo manamanxonbi jis ra ikai peneti jatian gansan kewina ki min bakevoki nokona kesk ma iki jaskaa max awinin yoia iki jaskarama riki akin jawe keskatiki min bakebo jakon ira bo iki eara keenai min nokonabo jask shamaribi akin axontinin ik iki ja mash awin cask ketian gansan ak iki ania akin chi keteabanon jainra non ket atiki jawetianki moaa kikinbiresi xanaa jatian min bakebo jain anon shiwe ja chii ketemeran jaskaaboresa iki ja gansan ja max awinin bake ik iki kimisha jask axon ja gansan ki chi meran ak ik jaskaatana ja max awin yoia iki ja rekeni chesh ikaitian may akekainoxiwe ja may akekaini westiora inoshiwe ja pekao ikaitian jask ribinoxiwe rab iki ja kimishai itin jakiribi may akekaini kimisha inonxiwe jaskaaxon min chi meranoa m n bakebo min bitiki ja bishon min oina itiki nokona bebonbires jakonshokobo jaskaakin yoitaana ja gansa j kiribi iaman kar ba iki ja max awin jaskaakin yoibaina ikonhax manati baneta iki ja chesh ikaitiibi may akekainkin jakonbires shinana iki ramara nokon bakebo mets shokobo ikai ixon shinana iki jaskaashon chi meranoa jawen bakebo bipakea ik ja bixon oinax ikonbiresi rateta iki kikin biresi meshota oinax jatian ja mash awin ikonbiresi sinatax ianh n ishtoa iki jatian ja mash kenikainax koshin sa ik iki manish meranoa max bo manamamea max bo neri bekanwe nato gansanra nokon bakebo ea menomake jask ketian jatibiainoax max bo ishtoa iki ja akini be jabaon bexon ompash xeakin peokana iki ja ian tsosinti shinanxon jaska axon ja tsosinketian gansan bakebo retekin keyo noshon kikinbiresakin pot non caman xeakana iki ikaxbi ja ian tsosinti atipayama iki jatian ja max awin mas shinani jawen xatikini meran ka iki cak n shinan shinabaina iki moxan ea chachipainoriki moxan ea chachipaino riki ikaini ja kai bai naponki ik iki moxa jan ki ak iki kaaitian pokoki chachikin tosh kaintiakin jaskataxonki ik iki ja max awin mawati xoya betan mash wetsa tianki ik iki westiora xoya wetsa netenki k iki toranpi kokonoxon kaxkei ja maxekan ja k ori win kin nokobainxon ak iki jawe akirin mia xoy jatian xoyan ak iki eara toranpi kaxkei itai jatian maxokan yok boresa ki cawe ati kayari ja toranpi cokoti jakonrin jatian xoyan ak iki kewinn ja tanaaxa mia nowe riki ik iti iki jaskaa pekao maxokan yoia iki ea amawe jaskara iketian xoy jatian xoyan ak iki eara mia icha meniti atipayamake eara mia pakexshokores tanamai jaskaaxon xoyan yoia iki janxb we en mia potaxono jatian max jawen joi ninkaxonash janshbata iki jatian xoyan toranpi kaxketana pakesh jawen kex in potaa iki ja mash ja toranpi kokotaana wau ik iki noweira riki jatian jakiribi yok ribia iki jakonbireshora rikitain en mia yok no ea jakiribi meniribiwe noi bamis xoya ixon rab akin menia iki moa reken akin awana kesk ribiakin ikaxbi maxokan ja kimisha itin yok ribia iki ja yokati ik iki eara kenribiai wetsa ea meniwe pano xoy jaskaaxon xoyan yoia iki rama menikinra en mia ani pakex meniai jaskara ikinra mia kinkinbiresi janxb tiki ja max joi ninkatai ikax janxbata iki ja jask ti yoia kesk shamani jaskara iti xoyan yoia bet we xokoreshokobi ea o ayamawe ja max jaskaatianbi betita iki natotio pakexshokobi xoya oiayamaa iki jask ketian xoyan ani makan maxokan keshiki potaa iki ja makaman maxokan kex mas iki jatian jask atana xoya jabata ik ja kai ik ki onama max ramara ea kaai ea nenobo ban ketianra min ea retetiki keso keso iki ieche ak keso anoxon paema paritiki ja pek o manxam paritiki chorish ak n ja chaw shama iketian ki moa piti jakon keso ikai nowe poati jan keentishama max betan ceknejo ik iki westiora konejo wetsa netebaonki bai nashbamashokonin pasia pasiai ja pasia pasiakin kinaki ik iki keso pak x bai napon jonebain kana rakati ja jonexon bonoxon pari neke oinxon oke oinxon ak iki jaskakenbi ja pekao chaish ikai ninkatax rateta iki ja ninkatax jawe meinki ik iki jask kenbi westiora max pik toshita iki ja max pik toshitai oinax raketa iki xeta jem bires char reskiranai oinax ja jaki rak anashokobi konejon ak iki max minki ea jaweakasai ja maxokan ak iki miaki jawe aki itai nato keso maxkoshoko piira ea itai ak iki ja konejon ja maxokan kewina iki ea meniwe ja keso ikaxbi ja konejon menikashama iki ja yokata jen ayamaa iki jaskaaxon yoia iki enra mia meniti atipayamake ikaxbi mia keenatian en mia ioti atipanke jainoa en be inko jain jake westiora ani jaskaaxon maxokan shinan ik iki jakon shamabires ikaxbi ja konejon max yokata iki neskaakin mia mein kati atipanke miaki kai jatsantima iki och riki keso maxokan yoia iki eara itima iki canon kawe ja ik iki keso keyoxon konejo piti shinanya ja bain kakin maxokan konejo yok yok baina iki neskaakin ochobiresin nok ti moaki noa ochomataniai jatian konejo ak iki ochobires pari riki akin janribi meskoakin shinan shinan baina iki yam ik iki kikinshaman jishtima jatian ja konejo max bebon choron choron kainshamana iki jaskatax ishtonbires konejo manota iki nis meran jikiax jask ketian max ikonbiresi sinata iki jatian ja max mai chinii yoyo ik iki ea nokoxonra ea piaibires ikai ikaxbi ja konejo nokotikoma oinxon jowe aresa iki sin kainxon nesk iki jaweranorin ja keso ani minra ua paranke ani kesora jake akin ja kopira en mia ramabi piai jaskakin ak konejo raketi saki saki ik iki jatian max konejoki och makirana iki ja konejo retekasi jatian konejon max ak iki nesk akin sin yamawe max shinanwe en mia yoiantana jaweki och riki akin en mia ayantana enra mia boai jainoax moa oxe pikotai jaskara iketian noa jawe keskataxbi noa jawe keskayamai jaskaa pekao j kiribi kab konriba iki jaa kakin maxokan konejo masaati shinana iki jatian neskata iki rama jawe keskataxbi nokon mekemameax kishpinyamai ik iki jaskatax mashin nokobekona iki ja paron jatian maxokan konejo jakiribi yok ribia iki moaki noa och ma iki jaskaa ketian konejon yoia iki moara noa nok ke jatian jene metoxonkin yoia iki oa rikui keso ja jensmeranki ik iki kesokeskaki itini ja ik iki oxen jenemeran tenares jaskara ointana max keena iki ja keeni ik iki jaskati pen pen birasin ja keso ik iki ikaxbi jaa naman ointana iribaa iki ikaxbira nemionra iki ik iki ikaxbi konejon rarotiakin yoia iki jikiresxue max jatian ja max jenemeran jikiai oinax konejonin jawen jina wekia iki jaskatax ishtonbires jabata ik max jenen retea m wati sai ik ik bueno konejo ea biwe noemis konejo ea kishpinmawe ikaxbi konejo bitin kenyama iki jaskatax max paro napon jikia iki jaskatai ointaana konejo ka iki jawen keso keyoi jaskatax max mawata iki wetsa yoina jake jakomareskin imaa iki mawamakin'"
            ],
            "application/vnd.google.colaboratory.intrinsic+json": {
              "type": "string"
            }
          },
          "metadata": {},
          "execution_count": 8
        }
      ]
    },
    {
      "cell_type": "code",
      "source": [
        "seq_length = 10\n",
        "def create_seq(text):\n",
        "    sequences = []\n",
        "    for i in range(seq_length, len(text)):\n",
        "        start = i - seq_length\n",
        "        end = i + 1\n",
        "        seq = text[start:end]\n",
        "        sequences.append(seq)\n",
        "\n",
        "    print(\"Total de secuencias: {}\".format(len(sequences)))\n",
        "\n",
        "    return sequences\n",
        "\n",
        "# Creamos las secuencias\n",
        "sequences = create_seq(text_cleaned)"
      ],
      "metadata": {
        "colab": {
          "base_uri": "https://localhost:8080/"
        },
        "id": "-ls4fZVQHHwS",
        "outputId": "4df0a71f-a85c-4dc9-ff2c-c70ca7b3fea7"
      },
      "execution_count": null,
      "outputs": [
        {
          "output_type": "stream",
          "name": "stdout",
          "text": [
            "Total de secuencias: 78252\n"
          ]
        }
      ]
    },
    {
      "cell_type": "code",
      "source": [
        "chars = sorted(list(set(text_cleaned)))\n",
        "print(chars)"
      ],
      "metadata": {
        "colab": {
          "base_uri": "https://localhost:8080/"
        },
        "id": "1qYuq9zmHKoA",
        "outputId": "2ef259b9-1729-42b8-9d8d-abe0b09b86aa"
      },
      "execution_count": null,
      "outputs": [
        {
          "output_type": "stream",
          "name": "stdout",
          "text": [
            "[' ', 'a', 'b', 'c', 'd', 'e', 'g', 'h', 'i', 'j', 'k', 'l', 'm', 'n', 'o', 'p', 'q', 'r', 's', 't', 'u', 'v', 'w', 'x', 'y', 'z']\n"
          ]
        }
      ]
    },
    {
      "cell_type": "code",
      "source": [
        "len(chars)"
      ],
      "metadata": {
        "colab": {
          "base_uri": "https://localhost:8080/"
        },
        "id": "5QhmKOa3HMG6",
        "outputId": "37d336c5-8550-41df-adcb-4a1df082bf87"
      },
      "execution_count": null,
      "outputs": [
        {
          "output_type": "execute_result",
          "data": {
            "text/plain": [
              "26"
            ]
          },
          "metadata": {},
          "execution_count": 11
        }
      ]
    },
    {
      "cell_type": "code",
      "source": [
        "mapping = dict((c, i) for i, c in enumerate(chars))\n",
        "mapping"
      ],
      "metadata": {
        "colab": {
          "base_uri": "https://localhost:8080/"
        },
        "id": "mp_xReI_HP7U",
        "outputId": "fca2b356-7d6e-40ff-d628-1cfef19f9221"
      },
      "execution_count": null,
      "outputs": [
        {
          "output_type": "execute_result",
          "data": {
            "text/plain": [
              "{' ': 0,\n",
              " 'a': 1,\n",
              " 'b': 2,\n",
              " 'c': 3,\n",
              " 'd': 4,\n",
              " 'e': 5,\n",
              " 'g': 6,\n",
              " 'h': 7,\n",
              " 'i': 8,\n",
              " 'j': 9,\n",
              " 'k': 10,\n",
              " 'l': 11,\n",
              " 'm': 12,\n",
              " 'n': 13,\n",
              " 'o': 14,\n",
              " 'p': 15,\n",
              " 'q': 16,\n",
              " 'r': 17,\n",
              " 's': 18,\n",
              " 't': 19,\n",
              " 'u': 20,\n",
              " 'v': 21,\n",
              " 'w': 22,\n",
              " 'x': 23,\n",
              " 'y': 24,\n",
              " 'z': 25}"
            ]
          },
          "metadata": {},
          "execution_count": 12
        }
      ]
    },
    {
      "cell_type": "code",
      "source": [
        "def encode_seq(seq):\n",
        "    sequences = []\n",
        "    for line in seq:\n",
        "        encoded_seq = [mapping[char] for char in line]\n",
        "        sequences.append(encoded_seq)\n",
        "\n",
        "    return sequences\n",
        "\n",
        "sequences = encode_seq(sequences)"
      ],
      "metadata": {
        "id": "fgv6lhLbHRab"
      },
      "execution_count": null,
      "outputs": []
    },
    {
      "cell_type": "code",
      "source": [
        "# Tamaño del vocabulario\n",
        "vocab_size = len(mapping)\n",
        "sequences = np.array(sequences)\n",
        "\n",
        "# Creamos nuestras variables independientes (X) y dependientes (y), donde X estará compuesto por las 10 primeros caracteres y Y por el último caracter.\n",
        "X = sequences[:,:-1]\n",
        "y = sequences[:,-1]\n",
        "\n",
        "# Obtenemos los one-hot enconding\n",
        "sequences = [to_categorical(x, num_classes=vocab_size) for x in X]\n",
        "X = np.array(sequences)\n",
        "y = to_categorical(y, num_classes=vocab_size)\n",
        "\n",
        "# Finalmente separamos el conjunto de datos en dos: entrenamiento y validación\n",
        "X_train, X_val, y_train, y_val = train_test_split(X, y, test_size=0.05, random_state=42)\n",
        "\n",
        "print(\"Dimensiones del conjunto de datos X de entrenamiento: {}\".format(X_train.shape))\n",
        "print(\"Dimensiones del conjunto de datos X de validación: {}\".format(X_val.shape))\n",
        "\n",
        "print(\"Dimensiones del conjunto de datos 'y' de entrenamiento: {}\".format(y_train.shape))\n",
        "print(\"Dimensiones del conjunto de datos 'y' de validación: {}\".format(y_val.shape))"
      ],
      "metadata": {
        "colab": {
          "base_uri": "https://localhost:8080/"
        },
        "id": "AVkjD_DkHTHq",
        "outputId": "1cd6f48c-8dfa-4611-b396-258717bef221"
      },
      "execution_count": null,
      "outputs": [
        {
          "output_type": "stream",
          "name": "stdout",
          "text": [
            "Dimensiones del conjunto de datos X de entrenamiento: (74339, 10, 26)\n",
            "Dimensiones del conjunto de datos X de validación: (3913, 10, 26)\n",
            "Dimensiones del conjunto de datos 'y' de entrenamiento: (74339, 26)\n",
            "Dimensiones del conjunto de datos 'y' de validación: (3913, 26)\n"
          ]
        }
      ]
    },
    {
      "cell_type": "code",
      "source": [
        "model = Sequential()\n",
        "model.add(LSTM(75, input_shape=(X_train.shape[1], X_train.shape[2])))\n",
        "model.add(Dense(vocab_size, activation=\"softmax\"))\n",
        "print(model.summary())\n",
        "\n",
        "# Compilamos el modelo\n",
        "model.compile(loss=\"categorical_crossentropy\", metrics=[\"accuracy\"], optimizer=\"adam\")\n",
        "# Entrenamos el modelo\n",
        "model.fit(X_train, y_train, epochs=20, validation_data=(X_val, y_val))"
      ],
      "metadata": {
        "colab": {
          "base_uri": "https://localhost:8080/"
        },
        "id": "WPbduuSqHg-2",
        "outputId": "8a0e856d-56ad-4321-fb1d-d1a29513781b"
      },
      "execution_count": null,
      "outputs": [
        {
          "output_type": "stream",
          "name": "stdout",
          "text": [
            "Model: \"sequential\"\n",
            "_________________________________________________________________\n",
            " Layer (type)                Output Shape              Param #   \n",
            "=================================================================\n",
            " lstm (LSTM)                 (None, 75)                30600     \n",
            "                                                                 \n",
            " dense (Dense)               (None, 26)                1976      \n",
            "                                                                 \n",
            "=================================================================\n",
            "Total params: 32576 (127.25 KB)\n",
            "Trainable params: 32576 (127.25 KB)\n",
            "Non-trainable params: 0 (0.00 Byte)\n",
            "_________________________________________________________________\n",
            "None\n",
            "Epoch 1/20\n",
            "2324/2324 [==============================] - 25s 8ms/step - loss: 1.9788 - accuracy: 0.3842 - val_loss: 1.7395 - val_accuracy: 0.4429\n",
            "Epoch 2/20\n",
            "2324/2324 [==============================] - 20s 9ms/step - loss: 1.6691 - accuracy: 0.4732 - val_loss: 1.6043 - val_accuracy: 0.4810\n",
            "Epoch 3/20\n",
            "2324/2324 [==============================] - 19s 8ms/step - loss: 1.5519 - accuracy: 0.5136 - val_loss: 1.5138 - val_accuracy: 0.5173\n",
            "Epoch 4/20\n",
            "2324/2324 [==============================] - 20s 9ms/step - loss: 1.4766 - accuracy: 0.5380 - val_loss: 1.4663 - val_accuracy: 0.5308\n",
            "Epoch 5/20\n",
            "2324/2324 [==============================] - 20s 9ms/step - loss: 1.4213 - accuracy: 0.5545 - val_loss: 1.4204 - val_accuracy: 0.5505\n",
            "Epoch 6/20\n",
            "2324/2324 [==============================] - 22s 9ms/step - loss: 1.3779 - accuracy: 0.5684 - val_loss: 1.3998 - val_accuracy: 0.5576\n",
            "Epoch 7/20\n",
            "2324/2324 [==============================] - 29s 13ms/step - loss: 1.3411 - accuracy: 0.5776 - val_loss: 1.3851 - val_accuracy: 0.5579\n",
            "Epoch 8/20\n",
            "2324/2324 [==============================] - 19s 8ms/step - loss: 1.3097 - accuracy: 0.5881 - val_loss: 1.3626 - val_accuracy: 0.5681\n",
            "Epoch 9/20\n",
            "2324/2324 [==============================] - 20s 9ms/step - loss: 1.2822 - accuracy: 0.5969 - val_loss: 1.3502 - val_accuracy: 0.5768\n",
            "Epoch 10/20\n",
            "2324/2324 [==============================] - 19s 8ms/step - loss: 1.2579 - accuracy: 0.6041 - val_loss: 1.3481 - val_accuracy: 0.5783\n",
            "Epoch 11/20\n",
            "2324/2324 [==============================] - 20s 9ms/step - loss: 1.2365 - accuracy: 0.6111 - val_loss: 1.3376 - val_accuracy: 0.5773\n",
            "Epoch 12/20\n",
            "2324/2324 [==============================] - 19s 8ms/step - loss: 1.2160 - accuracy: 0.6159 - val_loss: 1.3266 - val_accuracy: 0.5819\n",
            "Epoch 13/20\n",
            "2324/2324 [==============================] - 19s 8ms/step - loss: 1.1971 - accuracy: 0.6220 - val_loss: 1.3158 - val_accuracy: 0.5926\n",
            "Epoch 14/20\n",
            "2324/2324 [==============================] - 19s 8ms/step - loss: 1.1796 - accuracy: 0.6276 - val_loss: 1.3141 - val_accuracy: 0.5911\n",
            "Epoch 15/20\n",
            "2324/2324 [==============================] - 21s 9ms/step - loss: 1.1640 - accuracy: 0.6330 - val_loss: 1.3083 - val_accuracy: 0.5903\n",
            "Epoch 16/20\n",
            "2324/2324 [==============================] - 20s 8ms/step - loss: 1.1485 - accuracy: 0.6374 - val_loss: 1.3236 - val_accuracy: 0.5827\n",
            "Epoch 17/20\n",
            "2324/2324 [==============================] - 18s 8ms/step - loss: 1.1348 - accuracy: 0.6415 - val_loss: 1.3146 - val_accuracy: 0.5870\n",
            "Epoch 18/20\n",
            "2324/2324 [==============================] - 19s 8ms/step - loss: 1.1210 - accuracy: 0.6454 - val_loss: 1.3124 - val_accuracy: 0.5909\n",
            "Epoch 19/20\n",
            "2324/2324 [==============================] - 19s 8ms/step - loss: 1.1084 - accuracy: 0.6492 - val_loss: 1.3178 - val_accuracy: 0.5926\n",
            "Epoch 20/20\n",
            "2324/2324 [==============================] - 18s 8ms/step - loss: 1.0954 - accuracy: 0.6528 - val_loss: 1.3188 - val_accuracy: 0.5970\n"
          ]
        },
        {
          "output_type": "execute_result",
          "data": {
            "text/plain": [
              "<keras.src.callbacks.History at 0x7fb72f366b00>"
            ]
          },
          "metadata": {},
          "execution_count": 15
        }
      ]
    },
    {
      "cell_type": "code",
      "source": [
        "def generate_seq(model, mapping, seq_length, seed_text, n_chars):\n",
        "    # model: modelo\n",
        "    # mapping: diccionario de codificación de caracteres\n",
        "    # seq_lentgh: tamaño de la secuencia\n",
        "    # seed_text: texto inicial con el cuál generará los siguientes caracteres\n",
        "    # n_chars: número de caracteres a predecir\n",
        "    in_text = seed_text\n",
        "\n",
        "    # Iteramos para cada caracter a predecir\n",
        "    for _ in range(n_chars):\n",
        "\n",
        "        # Codificamos cada caracter de entrada\n",
        "        encoded = [mapping[char] for char in in_text]\n",
        "\n",
        "        # Truncamos la secuencia a un tamaño fijo\n",
        "        encoded = pad_sequences([encoded], maxlen=seq_length, truncating=\"pre\")\n",
        "        encoded = to_categorical(encoded, num_classes=len(mapping))\n",
        "\n",
        "        # Predecimos un caracter\n",
        "        predict_x = model.predict(encoded, verbose=0)\n",
        "\n",
        "        yhat = np.argmax(predict_x, axis=1)\n",
        "        # Decodificamos el caracter predicho\n",
        "        out_char = ''\n",
        "        for char, index in mapping.items():\n",
        "            if index == yhat:\n",
        "                out_char = char\n",
        "                break\n",
        "        # Y lo añadimos al final del texto\n",
        "        in_text += char\n",
        "    return in_text"
      ],
      "metadata": {
        "id": "KObGVoh7Hj56"
      },
      "execution_count": null,
      "outputs": []
    },
    {
      "cell_type": "code",
      "source": [
        "input_text = \"wetsa neteronki\"\n",
        "generate_seq(model, mapping, seq_length, input_text, 30)"
      ],
      "metadata": {
        "colab": {
          "base_uri": "https://localhost:8080/",
          "height": 35
        },
        "id": "uYgqOF5VI9xp",
        "outputId": "8b383b6a-5796-478a-8e07-ac78f75ae3e1"
      },
      "execution_count": null,
      "outputs": [
        {
          "output_type": "execute_result",
          "data": {
            "text/plain": [
              "'wetsa neteronki ika iki ja nete jatian jatian'"
            ],
            "application/vnd.google.colaboratory.intrinsic+json": {
              "type": "string"
            }
          },
          "metadata": {},
          "execution_count": 53
        }
      ]
    }
  ]
}