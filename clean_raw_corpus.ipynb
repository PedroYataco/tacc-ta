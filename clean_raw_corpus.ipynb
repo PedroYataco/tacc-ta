{
 "cells": [
  {
   "cell_type": "code",
   "execution_count": 27,
   "metadata": {},
   "outputs": [],
   "source": [
    "import re"
   ]
  },
  {
   "cell_type": "code",
   "execution_count": 29,
   "metadata": {},
   "outputs": [],
   "source": [
    "# Función para leer el archivo de texto\n",
    "def leer_archivo(ruta):\n",
    "    with open(ruta, 'r', encoding='utf-8') as archivo:\n",
    "        contenido = archivo.read()\n",
    "    return contenido\n",
    "\n",
    "texto_archivo_1 = leer_archivo('txt/U20172563_raw_corpus_Quimisha_incabo_ini_yoia.txt')\n",
    "texto_archivo_2 = leer_archivo('txt/U20172563_raw_corpus_Quirica_9.txt')\n"
   ]
  },
  {
   "cell_type": "code",
   "execution_count": 30,
   "metadata": {},
   "outputs": [],
   "source": [
    "def reemplazar_patron(texto):\n",
    "    # Reemplazar el patrón [letra no alfabética que no sea s̈]h, Bh o th por s̈h\n",
    "    texto_reemplazado = re.sub(r'([^s̈\\w\\s])h|Bh|th|8h', 's̈h', texto)\n",
    "    return texto_reemplazado\n",
    "\n",
    "texto_reemplazado_1 = reemplazar_patron(texto_archivo_1)\n",
    "texto_reemplazado_2 = reemplazar_patron(texto_archivo_2)"
   ]
  },
  {
   "cell_type": "code",
   "execution_count": 32,
   "metadata": {},
   "outputs": [
    {
     "name": "stdout",
     "output_type": "stream",
     "text": [
      "set()\n",
      "0\n"
     ]
    }
   ],
   "source": [
    "# Función para encontrar palabras con caracteres no alfabéticos\n",
    "def encontrar_palabras_no_alfabeticas(texto):\n",
    "    # Buscar palabras que contengan caracteres no alfabéticos\n",
    "    palabras_no_alfabeticas = re.findall(r'\\b\\w*[^s̈\\w\\s]+\\w*\\b', texto)\n",
    "    return set(palabras_no_alfabeticas)  # Usamos set para eliminar duplicados\n",
    "\n",
    "# Encontrar palabras no alfabéticas\n",
    "\n",
    "palabras_no_alfabeticas_1 = encontrar_palabras_no_alfabeticas(texto_reemplazado_1)\n",
    "palabras_no_alfabeticas_2 = encontrar_palabras_no_alfabeticas(texto_reemplazado_2)\n",
    "\n",
    "palabras_no_alfabeticas_combinadas = palabras_no_alfabeticas_1.union(palabras_no_alfabeticas_2)\n",
    "\n",
    "print(palabras_no_alfabeticas_combinadas)\n",
    "print(len(palabras_no_alfabeticas_combinadas))"
   ]
  },
  {
   "cell_type": "code",
   "execution_count": 33,
   "metadata": {},
   "outputs": [],
   "source": [
    "# Save the modified text to a new file\n",
    "with open('txt/U20172563_corpus_Quimisha_incabo_ini_yoia.txt', 'w', encoding='utf-8') as archivo:\n",
    "    archivo.write(texto_reemplazado_1)\n",
    "\n",
    "with open('txt/U20172563_corpus_Quirica_9.txt', 'w', encoding='utf-8') as archivo:\n",
    "    archivo.write(texto_reemplazado_2)"
   ]
  }
 ],
 "metadata": {
  "kernelspec": {
   "display_name": "venv",
   "language": "python",
   "name": "python3"
  },
  "language_info": {
   "codemirror_mode": {
    "name": "ipython",
    "version": 3
   },
   "file_extension": ".py",
   "mimetype": "text/x-python",
   "name": "python",
   "nbconvert_exporter": "python",
   "pygments_lexer": "ipython3",
   "version": "3.12.3"
  }
 },
 "nbformat": 4,
 "nbformat_minor": 2
}
