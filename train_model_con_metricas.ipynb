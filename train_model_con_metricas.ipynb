{
  "nbformat": 4,
  "nbformat_minor": 0,
  "metadata": {
    "colab": {
      "provenance": [],
      "gpuType": "T4"
    },
    "kernelspec": {
      "name": "python3",
      "display_name": "Python 3"
    },
    "language_info": {
      "name": "python"
    },
    "accelerator": "GPU",
    "widgets": {
      "application/vnd.jupyter.widget-state+json": {
        "b03579bebcfb455faf6c72e0ccff4fed": {
          "model_module": "@jupyter-widgets/controls",
          "model_name": "HBoxModel",
          "model_module_version": "1.5.0",
          "state": {
            "_dom_classes": [],
            "_model_module": "@jupyter-widgets/controls",
            "_model_module_version": "1.5.0",
            "_model_name": "HBoxModel",
            "_view_count": null,
            "_view_module": "@jupyter-widgets/controls",
            "_view_module_version": "1.5.0",
            "_view_name": "HBoxView",
            "box_style": "",
            "children": [
              "IPY_MODEL_0a71b95a48014831b76cb2454248d49e",
              "IPY_MODEL_376505c6305d4530ae260cac30f9d076",
              "IPY_MODEL_6fec858d78e6453e8d411ba3dc3a1720"
            ],
            "layout": "IPY_MODEL_0e8aa81529544652ab1d14803314718b"
          }
        },
        "0a71b95a48014831b76cb2454248d49e": {
          "model_module": "@jupyter-widgets/controls",
          "model_name": "HTMLModel",
          "model_module_version": "1.5.0",
          "state": {
            "_dom_classes": [],
            "_model_module": "@jupyter-widgets/controls",
            "_model_module_version": "1.5.0",
            "_model_name": "HTMLModel",
            "_view_count": null,
            "_view_module": "@jupyter-widgets/controls",
            "_view_module_version": "1.5.0",
            "_view_name": "HTMLView",
            "description": "",
            "description_tooltip": null,
            "layout": "IPY_MODEL_32182975940e4cbc96aacac755c3bf33",
            "placeholder": "​",
            "style": "IPY_MODEL_67ec1a80386545ecbba03066e1e7367a",
            "value": "Map: 100%"
          }
        },
        "376505c6305d4530ae260cac30f9d076": {
          "model_module": "@jupyter-widgets/controls",
          "model_name": "FloatProgressModel",
          "model_module_version": "1.5.0",
          "state": {
            "_dom_classes": [],
            "_model_module": "@jupyter-widgets/controls",
            "_model_module_version": "1.5.0",
            "_model_name": "FloatProgressModel",
            "_view_count": null,
            "_view_module": "@jupyter-widgets/controls",
            "_view_module_version": "1.5.0",
            "_view_name": "ProgressView",
            "bar_style": "success",
            "description": "",
            "description_tooltip": null,
            "layout": "IPY_MODEL_18fea1452e354b76aa16dccc2c2ba961",
            "max": 148,
            "min": 0,
            "orientation": "horizontal",
            "style": "IPY_MODEL_9a509a9c94a64d6896f1e7fbf59ad71c",
            "value": 148
          }
        },
        "6fec858d78e6453e8d411ba3dc3a1720": {
          "model_module": "@jupyter-widgets/controls",
          "model_name": "HTMLModel",
          "model_module_version": "1.5.0",
          "state": {
            "_dom_classes": [],
            "_model_module": "@jupyter-widgets/controls",
            "_model_module_version": "1.5.0",
            "_model_name": "HTMLModel",
            "_view_count": null,
            "_view_module": "@jupyter-widgets/controls",
            "_view_module_version": "1.5.0",
            "_view_name": "HTMLView",
            "description": "",
            "description_tooltip": null,
            "layout": "IPY_MODEL_4439fdbd30b645e99609dc9831e13be8",
            "placeholder": "​",
            "style": "IPY_MODEL_7996bb52e3194959b8cea1e3df4d06db",
            "value": " 148/148 [00:00&lt;00:00, 1053.70 examples/s]"
          }
        },
        "0e8aa81529544652ab1d14803314718b": {
          "model_module": "@jupyter-widgets/base",
          "model_name": "LayoutModel",
          "model_module_version": "1.2.0",
          "state": {
            "_model_module": "@jupyter-widgets/base",
            "_model_module_version": "1.2.0",
            "_model_name": "LayoutModel",
            "_view_count": null,
            "_view_module": "@jupyter-widgets/base",
            "_view_module_version": "1.2.0",
            "_view_name": "LayoutView",
            "align_content": null,
            "align_items": null,
            "align_self": null,
            "border": null,
            "bottom": null,
            "display": null,
            "flex": null,
            "flex_flow": null,
            "grid_area": null,
            "grid_auto_columns": null,
            "grid_auto_flow": null,
            "grid_auto_rows": null,
            "grid_column": null,
            "grid_gap": null,
            "grid_row": null,
            "grid_template_areas": null,
            "grid_template_columns": null,
            "grid_template_rows": null,
            "height": null,
            "justify_content": null,
            "justify_items": null,
            "left": null,
            "margin": null,
            "max_height": null,
            "max_width": null,
            "min_height": null,
            "min_width": null,
            "object_fit": null,
            "object_position": null,
            "order": null,
            "overflow": null,
            "overflow_x": null,
            "overflow_y": null,
            "padding": null,
            "right": null,
            "top": null,
            "visibility": null,
            "width": null
          }
        },
        "32182975940e4cbc96aacac755c3bf33": {
          "model_module": "@jupyter-widgets/base",
          "model_name": "LayoutModel",
          "model_module_version": "1.2.0",
          "state": {
            "_model_module": "@jupyter-widgets/base",
            "_model_module_version": "1.2.0",
            "_model_name": "LayoutModel",
            "_view_count": null,
            "_view_module": "@jupyter-widgets/base",
            "_view_module_version": "1.2.0",
            "_view_name": "LayoutView",
            "align_content": null,
            "align_items": null,
            "align_self": null,
            "border": null,
            "bottom": null,
            "display": null,
            "flex": null,
            "flex_flow": null,
            "grid_area": null,
            "grid_auto_columns": null,
            "grid_auto_flow": null,
            "grid_auto_rows": null,
            "grid_column": null,
            "grid_gap": null,
            "grid_row": null,
            "grid_template_areas": null,
            "grid_template_columns": null,
            "grid_template_rows": null,
            "height": null,
            "justify_content": null,
            "justify_items": null,
            "left": null,
            "margin": null,
            "max_height": null,
            "max_width": null,
            "min_height": null,
            "min_width": null,
            "object_fit": null,
            "object_position": null,
            "order": null,
            "overflow": null,
            "overflow_x": null,
            "overflow_y": null,
            "padding": null,
            "right": null,
            "top": null,
            "visibility": null,
            "width": null
          }
        },
        "67ec1a80386545ecbba03066e1e7367a": {
          "model_module": "@jupyter-widgets/controls",
          "model_name": "DescriptionStyleModel",
          "model_module_version": "1.5.0",
          "state": {
            "_model_module": "@jupyter-widgets/controls",
            "_model_module_version": "1.5.0",
            "_model_name": "DescriptionStyleModel",
            "_view_count": null,
            "_view_module": "@jupyter-widgets/base",
            "_view_module_version": "1.2.0",
            "_view_name": "StyleView",
            "description_width": ""
          }
        },
        "18fea1452e354b76aa16dccc2c2ba961": {
          "model_module": "@jupyter-widgets/base",
          "model_name": "LayoutModel",
          "model_module_version": "1.2.0",
          "state": {
            "_model_module": "@jupyter-widgets/base",
            "_model_module_version": "1.2.0",
            "_model_name": "LayoutModel",
            "_view_count": null,
            "_view_module": "@jupyter-widgets/base",
            "_view_module_version": "1.2.0",
            "_view_name": "LayoutView",
            "align_content": null,
            "align_items": null,
            "align_self": null,
            "border": null,
            "bottom": null,
            "display": null,
            "flex": null,
            "flex_flow": null,
            "grid_area": null,
            "grid_auto_columns": null,
            "grid_auto_flow": null,
            "grid_auto_rows": null,
            "grid_column": null,
            "grid_gap": null,
            "grid_row": null,
            "grid_template_areas": null,
            "grid_template_columns": null,
            "grid_template_rows": null,
            "height": null,
            "justify_content": null,
            "justify_items": null,
            "left": null,
            "margin": null,
            "max_height": null,
            "max_width": null,
            "min_height": null,
            "min_width": null,
            "object_fit": null,
            "object_position": null,
            "order": null,
            "overflow": null,
            "overflow_x": null,
            "overflow_y": null,
            "padding": null,
            "right": null,
            "top": null,
            "visibility": null,
            "width": null
          }
        },
        "9a509a9c94a64d6896f1e7fbf59ad71c": {
          "model_module": "@jupyter-widgets/controls",
          "model_name": "ProgressStyleModel",
          "model_module_version": "1.5.0",
          "state": {
            "_model_module": "@jupyter-widgets/controls",
            "_model_module_version": "1.5.0",
            "_model_name": "ProgressStyleModel",
            "_view_count": null,
            "_view_module": "@jupyter-widgets/base",
            "_view_module_version": "1.2.0",
            "_view_name": "StyleView",
            "bar_color": null,
            "description_width": ""
          }
        },
        "4439fdbd30b645e99609dc9831e13be8": {
          "model_module": "@jupyter-widgets/base",
          "model_name": "LayoutModel",
          "model_module_version": "1.2.0",
          "state": {
            "_model_module": "@jupyter-widgets/base",
            "_model_module_version": "1.2.0",
            "_model_name": "LayoutModel",
            "_view_count": null,
            "_view_module": "@jupyter-widgets/base",
            "_view_module_version": "1.2.0",
            "_view_name": "LayoutView",
            "align_content": null,
            "align_items": null,
            "align_self": null,
            "border": null,
            "bottom": null,
            "display": null,
            "flex": null,
            "flex_flow": null,
            "grid_area": null,
            "grid_auto_columns": null,
            "grid_auto_flow": null,
            "grid_auto_rows": null,
            "grid_column": null,
            "grid_gap": null,
            "grid_row": null,
            "grid_template_areas": null,
            "grid_template_columns": null,
            "grid_template_rows": null,
            "height": null,
            "justify_content": null,
            "justify_items": null,
            "left": null,
            "margin": null,
            "max_height": null,
            "max_width": null,
            "min_height": null,
            "min_width": null,
            "object_fit": null,
            "object_position": null,
            "order": null,
            "overflow": null,
            "overflow_x": null,
            "overflow_y": null,
            "padding": null,
            "right": null,
            "top": null,
            "visibility": null,
            "width": null
          }
        },
        "7996bb52e3194959b8cea1e3df4d06db": {
          "model_module": "@jupyter-widgets/controls",
          "model_name": "DescriptionStyleModel",
          "model_module_version": "1.5.0",
          "state": {
            "_model_module": "@jupyter-widgets/controls",
            "_model_module_version": "1.5.0",
            "_model_name": "DescriptionStyleModel",
            "_view_count": null,
            "_view_module": "@jupyter-widgets/base",
            "_view_module_version": "1.2.0",
            "_view_name": "StyleView",
            "description_width": ""
          }
        }
      }
    }
  },
  "cells": [
    {
      "cell_type": "code",
      "execution_count": 2,
      "metadata": {
        "id": "Htj65rZ-QqXR",
        "colab": {
          "base_uri": "https://localhost:8080/"
        },
        "outputId": "8159739b-a54b-4052-9b12-0c25f19c23ca"
      },
      "outputs": [
        {
          "output_type": "stream",
          "name": "stdout",
          "text": [
            "Requirement already satisfied: transformers in /usr/local/lib/python3.10/dist-packages (4.41.2)\n",
            "Collecting transformers\n",
            "  Downloading transformers-4.42.3-py3-none-any.whl (9.3 MB)\n",
            "\u001b[2K     \u001b[90m━━━━━━━━━━━━━━━━━━━━━━━━━━━━━━━━━━━━━━━━\u001b[0m \u001b[32m9.3/9.3 MB\u001b[0m \u001b[31m48.1 MB/s\u001b[0m eta \u001b[36m0:00:00\u001b[0m\n",
            "\u001b[?25hCollecting accelerate\n",
            "  Downloading accelerate-0.31.0-py3-none-any.whl (309 kB)\n",
            "\u001b[2K     \u001b[90m━━━━━━━━━━━━━━━━━━━━━━━━━━━━━━━━━━━━━━━━\u001b[0m \u001b[32m309.4/309.4 kB\u001b[0m \u001b[31m32.5 MB/s\u001b[0m eta \u001b[36m0:00:00\u001b[0m\n",
            "\u001b[?25hRequirement already satisfied: filelock in /usr/local/lib/python3.10/dist-packages (from transformers) (3.15.4)\n",
            "Requirement already satisfied: huggingface-hub<1.0,>=0.23.2 in /usr/local/lib/python3.10/dist-packages (from transformers) (0.23.4)\n",
            "Requirement already satisfied: numpy<2.0,>=1.17 in /usr/local/lib/python3.10/dist-packages (from transformers) (1.25.2)\n",
            "Requirement already satisfied: packaging>=20.0 in /usr/local/lib/python3.10/dist-packages (from transformers) (24.1)\n",
            "Requirement already satisfied: pyyaml>=5.1 in /usr/local/lib/python3.10/dist-packages (from transformers) (6.0.1)\n",
            "Requirement already satisfied: regex!=2019.12.17 in /usr/local/lib/python3.10/dist-packages (from transformers) (2024.5.15)\n",
            "Requirement already satisfied: requests in /usr/local/lib/python3.10/dist-packages (from transformers) (2.31.0)\n",
            "Requirement already satisfied: safetensors>=0.4.1 in /usr/local/lib/python3.10/dist-packages (from transformers) (0.4.3)\n",
            "Requirement already satisfied: tokenizers<0.20,>=0.19 in /usr/local/lib/python3.10/dist-packages (from transformers) (0.19.1)\n",
            "Requirement already satisfied: tqdm>=4.27 in /usr/local/lib/python3.10/dist-packages (from transformers) (4.66.4)\n",
            "Requirement already satisfied: psutil in /usr/local/lib/python3.10/dist-packages (from accelerate) (5.9.5)\n",
            "Requirement already satisfied: torch>=1.10.0 in /usr/local/lib/python3.10/dist-packages (from accelerate) (2.3.0+cu121)\n",
            "Requirement already satisfied: fsspec>=2023.5.0 in /usr/local/lib/python3.10/dist-packages (from huggingface-hub<1.0,>=0.23.2->transformers) (2023.6.0)\n",
            "Requirement already satisfied: typing-extensions>=3.7.4.3 in /usr/local/lib/python3.10/dist-packages (from huggingface-hub<1.0,>=0.23.2->transformers) (4.12.2)\n",
            "Requirement already satisfied: sympy in /usr/local/lib/python3.10/dist-packages (from torch>=1.10.0->accelerate) (1.12.1)\n",
            "Requirement already satisfied: networkx in /usr/local/lib/python3.10/dist-packages (from torch>=1.10.0->accelerate) (3.3)\n",
            "Requirement already satisfied: jinja2 in /usr/local/lib/python3.10/dist-packages (from torch>=1.10.0->accelerate) (3.1.4)\n",
            "Collecting nvidia-cuda-nvrtc-cu12==12.1.105 (from torch>=1.10.0->accelerate)\n",
            "  Using cached nvidia_cuda_nvrtc_cu12-12.1.105-py3-none-manylinux1_x86_64.whl (23.7 MB)\n",
            "Collecting nvidia-cuda-runtime-cu12==12.1.105 (from torch>=1.10.0->accelerate)\n",
            "  Using cached nvidia_cuda_runtime_cu12-12.1.105-py3-none-manylinux1_x86_64.whl (823 kB)\n",
            "Collecting nvidia-cuda-cupti-cu12==12.1.105 (from torch>=1.10.0->accelerate)\n",
            "  Using cached nvidia_cuda_cupti_cu12-12.1.105-py3-none-manylinux1_x86_64.whl (14.1 MB)\n",
            "Collecting nvidia-cudnn-cu12==8.9.2.26 (from torch>=1.10.0->accelerate)\n",
            "  Using cached nvidia_cudnn_cu12-8.9.2.26-py3-none-manylinux1_x86_64.whl (731.7 MB)\n",
            "Collecting nvidia-cublas-cu12==12.1.3.1 (from torch>=1.10.0->accelerate)\n",
            "  Using cached nvidia_cublas_cu12-12.1.3.1-py3-none-manylinux1_x86_64.whl (410.6 MB)\n",
            "Collecting nvidia-cufft-cu12==11.0.2.54 (from torch>=1.10.0->accelerate)\n",
            "  Using cached nvidia_cufft_cu12-11.0.2.54-py3-none-manylinux1_x86_64.whl (121.6 MB)\n",
            "Collecting nvidia-curand-cu12==10.3.2.106 (from torch>=1.10.0->accelerate)\n",
            "  Using cached nvidia_curand_cu12-10.3.2.106-py3-none-manylinux1_x86_64.whl (56.5 MB)\n",
            "Collecting nvidia-cusolver-cu12==11.4.5.107 (from torch>=1.10.0->accelerate)\n",
            "  Using cached nvidia_cusolver_cu12-11.4.5.107-py3-none-manylinux1_x86_64.whl (124.2 MB)\n",
            "Collecting nvidia-cusparse-cu12==12.1.0.106 (from torch>=1.10.0->accelerate)\n",
            "  Using cached nvidia_cusparse_cu12-12.1.0.106-py3-none-manylinux1_x86_64.whl (196.0 MB)\n",
            "Collecting nvidia-nccl-cu12==2.20.5 (from torch>=1.10.0->accelerate)\n",
            "  Using cached nvidia_nccl_cu12-2.20.5-py3-none-manylinux2014_x86_64.whl (176.2 MB)\n",
            "Collecting nvidia-nvtx-cu12==12.1.105 (from torch>=1.10.0->accelerate)\n",
            "  Using cached nvidia_nvtx_cu12-12.1.105-py3-none-manylinux1_x86_64.whl (99 kB)\n",
            "Requirement already satisfied: triton==2.3.0 in /usr/local/lib/python3.10/dist-packages (from torch>=1.10.0->accelerate) (2.3.0)\n",
            "Collecting nvidia-nvjitlink-cu12 (from nvidia-cusolver-cu12==11.4.5.107->torch>=1.10.0->accelerate)\n",
            "  Downloading nvidia_nvjitlink_cu12-12.5.82-py3-none-manylinux2014_x86_64.whl (21.3 MB)\n",
            "\u001b[2K     \u001b[90m━━━━━━━━━━━━━━━━━━━━━━━━━━━━━━━━━━━━━━━━\u001b[0m \u001b[32m21.3/21.3 MB\u001b[0m \u001b[31m46.5 MB/s\u001b[0m eta \u001b[36m0:00:00\u001b[0m\n",
            "\u001b[?25hRequirement already satisfied: charset-normalizer<4,>=2 in /usr/local/lib/python3.10/dist-packages (from requests->transformers) (3.3.2)\n",
            "Requirement already satisfied: idna<4,>=2.5 in /usr/local/lib/python3.10/dist-packages (from requests->transformers) (3.7)\n",
            "Requirement already satisfied: urllib3<3,>=1.21.1 in /usr/local/lib/python3.10/dist-packages (from requests->transformers) (2.0.7)\n",
            "Requirement already satisfied: certifi>=2017.4.17 in /usr/local/lib/python3.10/dist-packages (from requests->transformers) (2024.6.2)\n",
            "Requirement already satisfied: MarkupSafe>=2.0 in /usr/local/lib/python3.10/dist-packages (from jinja2->torch>=1.10.0->accelerate) (2.1.5)\n",
            "Requirement already satisfied: mpmath<1.4.0,>=1.1.0 in /usr/local/lib/python3.10/dist-packages (from sympy->torch>=1.10.0->accelerate) (1.3.0)\n",
            "Installing collected packages: nvidia-nvtx-cu12, nvidia-nvjitlink-cu12, nvidia-nccl-cu12, nvidia-curand-cu12, nvidia-cufft-cu12, nvidia-cuda-runtime-cu12, nvidia-cuda-nvrtc-cu12, nvidia-cuda-cupti-cu12, nvidia-cublas-cu12, nvidia-cusparse-cu12, nvidia-cudnn-cu12, nvidia-cusolver-cu12, transformers, accelerate\n",
            "  Attempting uninstall: transformers\n",
            "    Found existing installation: transformers 4.41.2\n",
            "    Uninstalling transformers-4.41.2:\n",
            "      Successfully uninstalled transformers-4.41.2\n",
            "Successfully installed accelerate-0.31.0 nvidia-cublas-cu12-12.1.3.1 nvidia-cuda-cupti-cu12-12.1.105 nvidia-cuda-nvrtc-cu12-12.1.105 nvidia-cuda-runtime-cu12-12.1.105 nvidia-cudnn-cu12-8.9.2.26 nvidia-cufft-cu12-11.0.2.54 nvidia-curand-cu12-10.3.2.106 nvidia-cusolver-cu12-11.4.5.107 nvidia-cusparse-cu12-12.1.0.106 nvidia-nccl-cu12-2.20.5 nvidia-nvjitlink-cu12-12.5.82 nvidia-nvtx-cu12-12.1.105 transformers-4.42.3\n"
          ]
        }
      ],
      "source": [
        "!pip install --upgrade transformers accelerate"
      ]
    },
    {
      "cell_type": "code",
      "source": [
        "!pip install datasets"
      ],
      "metadata": {
        "id": "QA8ah92TvAiK",
        "colab": {
          "base_uri": "https://localhost:8080/"
        },
        "outputId": "dcb25db5-b6bd-4c1f-8e63-f37c9fee5798"
      },
      "execution_count": 3,
      "outputs": [
        {
          "output_type": "stream",
          "name": "stdout",
          "text": [
            "Collecting datasets\n",
            "  Downloading datasets-2.20.0-py3-none-any.whl (547 kB)\n",
            "\u001b[?25l     \u001b[90m━━━━━━━━━━━━━━━━━━━━━━━━━━━━━━━━━━━━━━━━\u001b[0m \u001b[32m0.0/547.8 kB\u001b[0m \u001b[31m?\u001b[0m eta \u001b[36m-:--:--\u001b[0m\r\u001b[2K     \u001b[91m━━━━━━━━━━━━━━━━━━━━━━━━\u001b[0m\u001b[91m╸\u001b[0m\u001b[90m━━━━━━━━━━━━━━━\u001b[0m \u001b[32m337.9/547.8 kB\u001b[0m \u001b[31m11.2 MB/s\u001b[0m eta \u001b[36m0:00:01\u001b[0m\r\u001b[2K     \u001b[90m━━━━━━━━━━━━━━━━━━━━━━━━━━━━━━━━━━━━━━━━\u001b[0m \u001b[32m547.8/547.8 kB\u001b[0m \u001b[31m13.0 MB/s\u001b[0m eta \u001b[36m0:00:00\u001b[0m\n",
            "\u001b[?25hRequirement already satisfied: filelock in /usr/local/lib/python3.10/dist-packages (from datasets) (3.15.4)\n",
            "Requirement already satisfied: numpy>=1.17 in /usr/local/lib/python3.10/dist-packages (from datasets) (1.25.2)\n",
            "Collecting pyarrow>=15.0.0 (from datasets)\n",
            "  Downloading pyarrow-16.1.0-cp310-cp310-manylinux_2_28_x86_64.whl (40.8 MB)\n",
            "\u001b[2K     \u001b[90m━━━━━━━━━━━━━━━━━━━━━━━━━━━━━━━━━━━━━━━━\u001b[0m \u001b[32m40.8/40.8 MB\u001b[0m \u001b[31m13.0 MB/s\u001b[0m eta \u001b[36m0:00:00\u001b[0m\n",
            "\u001b[?25hRequirement already satisfied: pyarrow-hotfix in /usr/local/lib/python3.10/dist-packages (from datasets) (0.6)\n",
            "Collecting dill<0.3.9,>=0.3.0 (from datasets)\n",
            "  Downloading dill-0.3.8-py3-none-any.whl (116 kB)\n",
            "\u001b[2K     \u001b[90m━━━━━━━━━━━━━━━━━━━━━━━━━━━━━━━━━━━━━━━━\u001b[0m \u001b[32m116.3/116.3 kB\u001b[0m \u001b[31m20.7 MB/s\u001b[0m eta \u001b[36m0:00:00\u001b[0m\n",
            "\u001b[?25hRequirement already satisfied: pandas in /usr/local/lib/python3.10/dist-packages (from datasets) (2.0.3)\n",
            "Collecting requests>=2.32.2 (from datasets)\n",
            "  Downloading requests-2.32.3-py3-none-any.whl (64 kB)\n",
            "\u001b[2K     \u001b[90m━━━━━━━━━━━━━━━━━━━━━━━━━━━━━━━━━━━━━━━━\u001b[0m \u001b[32m64.9/64.9 kB\u001b[0m \u001b[31m10.6 MB/s\u001b[0m eta \u001b[36m0:00:00\u001b[0m\n",
            "\u001b[?25hRequirement already satisfied: tqdm>=4.66.3 in /usr/local/lib/python3.10/dist-packages (from datasets) (4.66.4)\n",
            "Collecting xxhash (from datasets)\n",
            "  Downloading xxhash-3.4.1-cp310-cp310-manylinux_2_17_x86_64.manylinux2014_x86_64.whl (194 kB)\n",
            "\u001b[2K     \u001b[90m━━━━━━━━━━━━━━━━━━━━━━━━━━━━━━━━━━━━━━━━\u001b[0m \u001b[32m194.1/194.1 kB\u001b[0m \u001b[31m22.4 MB/s\u001b[0m eta \u001b[36m0:00:00\u001b[0m\n",
            "\u001b[?25hCollecting multiprocess (from datasets)\n",
            "  Downloading multiprocess-0.70.16-py310-none-any.whl (134 kB)\n",
            "\u001b[2K     \u001b[90m━━━━━━━━━━━━━━━━━━━━━━━━━━━━━━━━━━━━━━━━\u001b[0m \u001b[32m134.8/134.8 kB\u001b[0m \u001b[31m22.7 MB/s\u001b[0m eta \u001b[36m0:00:00\u001b[0m\n",
            "\u001b[?25hRequirement already satisfied: fsspec[http]<=2024.5.0,>=2023.1.0 in /usr/local/lib/python3.10/dist-packages (from datasets) (2023.6.0)\n",
            "Requirement already satisfied: aiohttp in /usr/local/lib/python3.10/dist-packages (from datasets) (3.9.5)\n",
            "Requirement already satisfied: huggingface-hub>=0.21.2 in /usr/local/lib/python3.10/dist-packages (from datasets) (0.23.4)\n",
            "Requirement already satisfied: packaging in /usr/local/lib/python3.10/dist-packages (from datasets) (24.1)\n",
            "Requirement already satisfied: pyyaml>=5.1 in /usr/local/lib/python3.10/dist-packages (from datasets) (6.0.1)\n",
            "Requirement already satisfied: aiosignal>=1.1.2 in /usr/local/lib/python3.10/dist-packages (from aiohttp->datasets) (1.3.1)\n",
            "Requirement already satisfied: attrs>=17.3.0 in /usr/local/lib/python3.10/dist-packages (from aiohttp->datasets) (23.2.0)\n",
            "Requirement already satisfied: frozenlist>=1.1.1 in /usr/local/lib/python3.10/dist-packages (from aiohttp->datasets) (1.4.1)\n",
            "Requirement already satisfied: multidict<7.0,>=4.5 in /usr/local/lib/python3.10/dist-packages (from aiohttp->datasets) (6.0.5)\n",
            "Requirement already satisfied: yarl<2.0,>=1.0 in /usr/local/lib/python3.10/dist-packages (from aiohttp->datasets) (1.9.4)\n",
            "Requirement already satisfied: async-timeout<5.0,>=4.0 in /usr/local/lib/python3.10/dist-packages (from aiohttp->datasets) (4.0.3)\n",
            "Requirement already satisfied: typing-extensions>=3.7.4.3 in /usr/local/lib/python3.10/dist-packages (from huggingface-hub>=0.21.2->datasets) (4.12.2)\n",
            "Requirement already satisfied: charset-normalizer<4,>=2 in /usr/local/lib/python3.10/dist-packages (from requests>=2.32.2->datasets) (3.3.2)\n",
            "Requirement already satisfied: idna<4,>=2.5 in /usr/local/lib/python3.10/dist-packages (from requests>=2.32.2->datasets) (3.7)\n",
            "Requirement already satisfied: urllib3<3,>=1.21.1 in /usr/local/lib/python3.10/dist-packages (from requests>=2.32.2->datasets) (2.0.7)\n",
            "Requirement already satisfied: certifi>=2017.4.17 in /usr/local/lib/python3.10/dist-packages (from requests>=2.32.2->datasets) (2024.6.2)\n",
            "Requirement already satisfied: python-dateutil>=2.8.2 in /usr/local/lib/python3.10/dist-packages (from pandas->datasets) (2.8.2)\n",
            "Requirement already satisfied: pytz>=2020.1 in /usr/local/lib/python3.10/dist-packages (from pandas->datasets) (2023.4)\n",
            "Requirement already satisfied: tzdata>=2022.1 in /usr/local/lib/python3.10/dist-packages (from pandas->datasets) (2024.1)\n",
            "Requirement already satisfied: six>=1.5 in /usr/local/lib/python3.10/dist-packages (from python-dateutil>=2.8.2->pandas->datasets) (1.16.0)\n",
            "Installing collected packages: xxhash, requests, pyarrow, dill, multiprocess, datasets\n",
            "  Attempting uninstall: requests\n",
            "    Found existing installation: requests 2.31.0\n",
            "    Uninstalling requests-2.31.0:\n",
            "      Successfully uninstalled requests-2.31.0\n",
            "  Attempting uninstall: pyarrow\n",
            "    Found existing installation: pyarrow 14.0.2\n",
            "    Uninstalling pyarrow-14.0.2:\n",
            "      Successfully uninstalled pyarrow-14.0.2\n",
            "\u001b[31mERROR: pip's dependency resolver does not currently take into account all the packages that are installed. This behaviour is the source of the following dependency conflicts.\n",
            "cudf-cu12 24.4.1 requires pyarrow<15.0.0a0,>=14.0.1, but you have pyarrow 16.1.0 which is incompatible.\n",
            "google-colab 1.0.0 requires requests==2.31.0, but you have requests 2.32.3 which is incompatible.\n",
            "ibis-framework 8.0.0 requires pyarrow<16,>=2, but you have pyarrow 16.1.0 which is incompatible.\u001b[0m\u001b[31m\n",
            "\u001b[0mSuccessfully installed datasets-2.20.0 dill-0.3.8 multiprocess-0.70.16 pyarrow-16.1.0 requests-2.32.3 xxhash-3.4.1\n"
          ]
        }
      ]
    },
    {
      "cell_type": "code",
      "source": [
        "import pandas as pd\n",
        "from transformers import GPT2LMHeadModel, GPT2Tokenizer, Trainer, TrainingArguments, DataCollatorForLanguageModeling\n",
        "from datasets import Dataset"
      ],
      "metadata": {
        "id": "x4krcfakN4Kh"
      },
      "execution_count": 4,
      "outputs": []
    },
    {
      "cell_type": "code",
      "source": [
        "corpus_path = 'corpus.csv'\n",
        "df = pd.read_csv(corpus_path, encoding='utf-8')\n",
        "df['text'] = df['Title'] + '. ' + df['Body']"
      ],
      "metadata": {
        "id": "UyeclVmnNprW"
      },
      "execution_count": 5,
      "outputs": []
    },
    {
      "cell_type": "code",
      "source": [
        "df.head()"
      ],
      "metadata": {
        "colab": {
          "base_uri": "https://localhost:8080/",
          "height": 293
        },
        "id": "5tOtLINrg2_I",
        "outputId": "85e475fa-d575-41cc-8f20-4477ec7d8715"
      },
      "execution_count": 7,
      "outputs": [
        {
          "output_type": "execute_result",
          "data": {
            "text/plain": [
              "   Year                                   Title  \\\n",
              "0  1979                           yoashico inca   \n",
              "1  1979      yoashico incan jato jascara apaoni   \n",
              "2  1979    yoashico inca betan jahuen rayos ini   \n",
              "3  1979   jascatax manxanteo betan abobo jonini   \n",
              "4  1979  inca baque miincani betan jenen ehuani   \n",
              "\n",
              "                                                Body Category  \\\n",
              "0  ja rekena inkan jane ronki ipaonike, yoashiko ...   cuento   \n",
              "1  ikonbires jakonma ronki ipaonike yoashiko inka...   cuento   \n",
              "2  ja yoaxiko inka ronki rayossha ipaonike. ja ja...   cuento   \n",
              "3  askara jakonma shinanya ixon ronki aka iki, ja...   cuento   \n",
              "4  moa yoashiko inka reteax iiti chonka baritia p...   cuento   \n",
              "\n",
              "                                                text  \n",
              "0  yoashico inca. ja rekena inkan jane ronki ipao...  \n",
              "1  yoashico incan jato jascara apaoni. ikonbires ...  \n",
              "2  yoashico inca betan jahuen rayos ini. ja yoaxi...  \n",
              "3  jascatax manxanteo betan abobo jonini. askara ...  \n",
              "4  inca baque miincani betan jenen ehuani. moa yo...  "
            ],
            "text/html": [
              "\n",
              "  <div id=\"df-e123979e-f9e9-4151-a6db-86655af96e05\" class=\"colab-df-container\">\n",
              "    <div>\n",
              "<style scoped>\n",
              "    .dataframe tbody tr th:only-of-type {\n",
              "        vertical-align: middle;\n",
              "    }\n",
              "\n",
              "    .dataframe tbody tr th {\n",
              "        vertical-align: top;\n",
              "    }\n",
              "\n",
              "    .dataframe thead th {\n",
              "        text-align: right;\n",
              "    }\n",
              "</style>\n",
              "<table border=\"1\" class=\"dataframe\">\n",
              "  <thead>\n",
              "    <tr style=\"text-align: right;\">\n",
              "      <th></th>\n",
              "      <th>Year</th>\n",
              "      <th>Title</th>\n",
              "      <th>Body</th>\n",
              "      <th>Category</th>\n",
              "      <th>text</th>\n",
              "    </tr>\n",
              "  </thead>\n",
              "  <tbody>\n",
              "    <tr>\n",
              "      <th>0</th>\n",
              "      <td>1979</td>\n",
              "      <td>yoashico inca</td>\n",
              "      <td>ja rekena inkan jane ronki ipaonike, yoashiko ...</td>\n",
              "      <td>cuento</td>\n",
              "      <td>yoashico inca. ja rekena inkan jane ronki ipao...</td>\n",
              "    </tr>\n",
              "    <tr>\n",
              "      <th>1</th>\n",
              "      <td>1979</td>\n",
              "      <td>yoashico incan jato jascara apaoni</td>\n",
              "      <td>ikonbires jakonma ronki ipaonike yoashiko inka...</td>\n",
              "      <td>cuento</td>\n",
              "      <td>yoashico incan jato jascara apaoni. ikonbires ...</td>\n",
              "    </tr>\n",
              "    <tr>\n",
              "      <th>2</th>\n",
              "      <td>1979</td>\n",
              "      <td>yoashico inca betan jahuen rayos ini</td>\n",
              "      <td>ja yoaxiko inka ronki rayossha ipaonike. ja ja...</td>\n",
              "      <td>cuento</td>\n",
              "      <td>yoashico inca betan jahuen rayos ini. ja yoaxi...</td>\n",
              "    </tr>\n",
              "    <tr>\n",
              "      <th>3</th>\n",
              "      <td>1979</td>\n",
              "      <td>jascatax manxanteo betan abobo jonini</td>\n",
              "      <td>askara jakonma shinanya ixon ronki aka iki, ja...</td>\n",
              "      <td>cuento</td>\n",
              "      <td>jascatax manxanteo betan abobo jonini. askara ...</td>\n",
              "    </tr>\n",
              "    <tr>\n",
              "      <th>4</th>\n",
              "      <td>1979</td>\n",
              "      <td>inca baque miincani betan jenen ehuani</td>\n",
              "      <td>moa yoashiko inka reteax iiti chonka baritia p...</td>\n",
              "      <td>cuento</td>\n",
              "      <td>inca baque miincani betan jenen ehuani. moa yo...</td>\n",
              "    </tr>\n",
              "  </tbody>\n",
              "</table>\n",
              "</div>\n",
              "    <div class=\"colab-df-buttons\">\n",
              "\n",
              "  <div class=\"colab-df-container\">\n",
              "    <button class=\"colab-df-convert\" onclick=\"convertToInteractive('df-e123979e-f9e9-4151-a6db-86655af96e05')\"\n",
              "            title=\"Convert this dataframe to an interactive table.\"\n",
              "            style=\"display:none;\">\n",
              "\n",
              "  <svg xmlns=\"http://www.w3.org/2000/svg\" height=\"24px\" viewBox=\"0 -960 960 960\">\n",
              "    <path d=\"M120-120v-720h720v720H120Zm60-500h600v-160H180v160Zm220 220h160v-160H400v160Zm0 220h160v-160H400v160ZM180-400h160v-160H180v160Zm440 0h160v-160H620v160ZM180-180h160v-160H180v160Zm440 0h160v-160H620v160Z\"/>\n",
              "  </svg>\n",
              "    </button>\n",
              "\n",
              "  <style>\n",
              "    .colab-df-container {\n",
              "      display:flex;\n",
              "      gap: 12px;\n",
              "    }\n",
              "\n",
              "    .colab-df-convert {\n",
              "      background-color: #E8F0FE;\n",
              "      border: none;\n",
              "      border-radius: 50%;\n",
              "      cursor: pointer;\n",
              "      display: none;\n",
              "      fill: #1967D2;\n",
              "      height: 32px;\n",
              "      padding: 0 0 0 0;\n",
              "      width: 32px;\n",
              "    }\n",
              "\n",
              "    .colab-df-convert:hover {\n",
              "      background-color: #E2EBFA;\n",
              "      box-shadow: 0px 1px 2px rgba(60, 64, 67, 0.3), 0px 1px 3px 1px rgba(60, 64, 67, 0.15);\n",
              "      fill: #174EA6;\n",
              "    }\n",
              "\n",
              "    .colab-df-buttons div {\n",
              "      margin-bottom: 4px;\n",
              "    }\n",
              "\n",
              "    [theme=dark] .colab-df-convert {\n",
              "      background-color: #3B4455;\n",
              "      fill: #D2E3FC;\n",
              "    }\n",
              "\n",
              "    [theme=dark] .colab-df-convert:hover {\n",
              "      background-color: #434B5C;\n",
              "      box-shadow: 0px 1px 3px 1px rgba(0, 0, 0, 0.15);\n",
              "      filter: drop-shadow(0px 1px 2px rgba(0, 0, 0, 0.3));\n",
              "      fill: #FFFFFF;\n",
              "    }\n",
              "  </style>\n",
              "\n",
              "    <script>\n",
              "      const buttonEl =\n",
              "        document.querySelector('#df-e123979e-f9e9-4151-a6db-86655af96e05 button.colab-df-convert');\n",
              "      buttonEl.style.display =\n",
              "        google.colab.kernel.accessAllowed ? 'block' : 'none';\n",
              "\n",
              "      async function convertToInteractive(key) {\n",
              "        const element = document.querySelector('#df-e123979e-f9e9-4151-a6db-86655af96e05');\n",
              "        const dataTable =\n",
              "          await google.colab.kernel.invokeFunction('convertToInteractive',\n",
              "                                                    [key], {});\n",
              "        if (!dataTable) return;\n",
              "\n",
              "        const docLinkHtml = 'Like what you see? Visit the ' +\n",
              "          '<a target=\"_blank\" href=https://colab.research.google.com/notebooks/data_table.ipynb>data table notebook</a>'\n",
              "          + ' to learn more about interactive tables.';\n",
              "        element.innerHTML = '';\n",
              "        dataTable['output_type'] = 'display_data';\n",
              "        await google.colab.output.renderOutput(dataTable, element);\n",
              "        const docLink = document.createElement('div');\n",
              "        docLink.innerHTML = docLinkHtml;\n",
              "        element.appendChild(docLink);\n",
              "      }\n",
              "    </script>\n",
              "  </div>\n",
              "\n",
              "\n",
              "<div id=\"df-64e90e89-2088-409a-9807-a37f0cb3c786\">\n",
              "  <button class=\"colab-df-quickchart\" onclick=\"quickchart('df-64e90e89-2088-409a-9807-a37f0cb3c786')\"\n",
              "            title=\"Suggest charts\"\n",
              "            style=\"display:none;\">\n",
              "\n",
              "<svg xmlns=\"http://www.w3.org/2000/svg\" height=\"24px\"viewBox=\"0 0 24 24\"\n",
              "     width=\"24px\">\n",
              "    <g>\n",
              "        <path d=\"M19 3H5c-1.1 0-2 .9-2 2v14c0 1.1.9 2 2 2h14c1.1 0 2-.9 2-2V5c0-1.1-.9-2-2-2zM9 17H7v-7h2v7zm4 0h-2V7h2v10zm4 0h-2v-4h2v4z\"/>\n",
              "    </g>\n",
              "</svg>\n",
              "  </button>\n",
              "\n",
              "<style>\n",
              "  .colab-df-quickchart {\n",
              "      --bg-color: #E8F0FE;\n",
              "      --fill-color: #1967D2;\n",
              "      --hover-bg-color: #E2EBFA;\n",
              "      --hover-fill-color: #174EA6;\n",
              "      --disabled-fill-color: #AAA;\n",
              "      --disabled-bg-color: #DDD;\n",
              "  }\n",
              "\n",
              "  [theme=dark] .colab-df-quickchart {\n",
              "      --bg-color: #3B4455;\n",
              "      --fill-color: #D2E3FC;\n",
              "      --hover-bg-color: #434B5C;\n",
              "      --hover-fill-color: #FFFFFF;\n",
              "      --disabled-bg-color: #3B4455;\n",
              "      --disabled-fill-color: #666;\n",
              "  }\n",
              "\n",
              "  .colab-df-quickchart {\n",
              "    background-color: var(--bg-color);\n",
              "    border: none;\n",
              "    border-radius: 50%;\n",
              "    cursor: pointer;\n",
              "    display: none;\n",
              "    fill: var(--fill-color);\n",
              "    height: 32px;\n",
              "    padding: 0;\n",
              "    width: 32px;\n",
              "  }\n",
              "\n",
              "  .colab-df-quickchart:hover {\n",
              "    background-color: var(--hover-bg-color);\n",
              "    box-shadow: 0 1px 2px rgba(60, 64, 67, 0.3), 0 1px 3px 1px rgba(60, 64, 67, 0.15);\n",
              "    fill: var(--button-hover-fill-color);\n",
              "  }\n",
              "\n",
              "  .colab-df-quickchart-complete:disabled,\n",
              "  .colab-df-quickchart-complete:disabled:hover {\n",
              "    background-color: var(--disabled-bg-color);\n",
              "    fill: var(--disabled-fill-color);\n",
              "    box-shadow: none;\n",
              "  }\n",
              "\n",
              "  .colab-df-spinner {\n",
              "    border: 2px solid var(--fill-color);\n",
              "    border-color: transparent;\n",
              "    border-bottom-color: var(--fill-color);\n",
              "    animation:\n",
              "      spin 1s steps(1) infinite;\n",
              "  }\n",
              "\n",
              "  @keyframes spin {\n",
              "    0% {\n",
              "      border-color: transparent;\n",
              "      border-bottom-color: var(--fill-color);\n",
              "      border-left-color: var(--fill-color);\n",
              "    }\n",
              "    20% {\n",
              "      border-color: transparent;\n",
              "      border-left-color: var(--fill-color);\n",
              "      border-top-color: var(--fill-color);\n",
              "    }\n",
              "    30% {\n",
              "      border-color: transparent;\n",
              "      border-left-color: var(--fill-color);\n",
              "      border-top-color: var(--fill-color);\n",
              "      border-right-color: var(--fill-color);\n",
              "    }\n",
              "    40% {\n",
              "      border-color: transparent;\n",
              "      border-right-color: var(--fill-color);\n",
              "      border-top-color: var(--fill-color);\n",
              "    }\n",
              "    60% {\n",
              "      border-color: transparent;\n",
              "      border-right-color: var(--fill-color);\n",
              "    }\n",
              "    80% {\n",
              "      border-color: transparent;\n",
              "      border-right-color: var(--fill-color);\n",
              "      border-bottom-color: var(--fill-color);\n",
              "    }\n",
              "    90% {\n",
              "      border-color: transparent;\n",
              "      border-bottom-color: var(--fill-color);\n",
              "    }\n",
              "  }\n",
              "</style>\n",
              "\n",
              "  <script>\n",
              "    async function quickchart(key) {\n",
              "      const quickchartButtonEl =\n",
              "        document.querySelector('#' + key + ' button');\n",
              "      quickchartButtonEl.disabled = true;  // To prevent multiple clicks.\n",
              "      quickchartButtonEl.classList.add('colab-df-spinner');\n",
              "      try {\n",
              "        const charts = await google.colab.kernel.invokeFunction(\n",
              "            'suggestCharts', [key], {});\n",
              "      } catch (error) {\n",
              "        console.error('Error during call to suggestCharts:', error);\n",
              "      }\n",
              "      quickchartButtonEl.classList.remove('colab-df-spinner');\n",
              "      quickchartButtonEl.classList.add('colab-df-quickchart-complete');\n",
              "    }\n",
              "    (() => {\n",
              "      let quickchartButtonEl =\n",
              "        document.querySelector('#df-64e90e89-2088-409a-9807-a37f0cb3c786 button');\n",
              "      quickchartButtonEl.style.display =\n",
              "        google.colab.kernel.accessAllowed ? 'block' : 'none';\n",
              "    })();\n",
              "  </script>\n",
              "</div>\n",
              "\n",
              "    </div>\n",
              "  </div>\n"
            ],
            "application/vnd.google.colaboratory.intrinsic+json": {
              "type": "dataframe",
              "variable_name": "df",
              "summary": "{\n  \"name\": \"df\",\n  \"rows\": 148,\n  \"fields\": [\n    {\n      \"column\": \"Year\",\n      \"properties\": {\n        \"dtype\": \"number\",\n        \"std\": 20,\n        \"min\": 1971,\n        \"max\": 2023,\n        \"num_unique_values\": 10,\n        \"samples\": [\n          2022,\n          1973,\n          2015\n        ],\n        \"semantic_type\": \"\",\n        \"description\": \"\"\n      }\n    },\n    {\n      \"column\": \"Title\",\n      \"properties\": {\n        \"dtype\": \"string\",\n        \"num_unique_values\": 146,\n        \"samples\": [\n          \"inkan chii bikanni\",\n          \"peokin yoia\",\n          \"mananxawe betan nonon rabe ini\"\n        ],\n        \"semantic_type\": \"\",\n        \"description\": \"\"\n      }\n    },\n    {\n      \"column\": \"Body\",\n      \"properties\": {\n        \"dtype\": \"string\",\n        \"num_unique_values\": 148,\n        \"samples\": [\n          \"ea riki pike shawi joni. mato yoibano nokon rarebora bananox basichapari benxokakanai. banamatianbira nokon papan jonibo jato minka ati chaniai jaskaaxon banakinkanti kopi. banati netera, nokon papan yamekirishaman noa jishteain noa paronko nashiti kopi jaskaxon kumpanaman koshi biti kopi. nokon titanra atsaxeati pae toai jaskaxon noa akinaibo rarebo manati kopi. jainoax, wetsa titabo betan, minka akaibaon piti yoa akai. jaskarabo akanaikaman, noabiribi tsiniai, ikaxbi ja banakanaitian non pataxyamai. banakana pekao, jatixonbi piai itan atsaxeati toroti yakaxon xeakanai, yoyo ianan raroshamanbo\",\n          \"keso keso iki ieche aka. keso anoxon paema paritiki ja pekao manxama paritiki chorish akin, ja chawashama iketian iki moa piti jakon, keso ikai nowe poati jan keentishama, maxo betan ceknejo ika iki westiora konejo wetsa netebaonki bai nashbamashokonin pasia pasiai, ja pasia pasiakin kinaki ika iki keso pakex bai napon jonebain kana rakati. ja jonexon bonoxon pari neke oinxon, oke oinxon aka iki. jaskakenbi ja pekao chaish ikai ninkatax rateta iki, ja ninkatax jawe meinki ika iki jaska kenbi westiora maxo pikotoshita iki, ja maxo pikotoshitai oinax raketa iki xeta jemabires charoreskiranai oinax. ja jaki rakeanashokobi konejon aka iki maxo, minki ea jaweakasai ja maxokan aka iki miaki jawe aki itai nato keso maxkoshoko piira ea itai, aka iki ja konejon. ja maxokan kewina iki ea meniwe ja keso. ikaxbi ja konejon menikashama iki, ja yokata, jen ayamaa iki. jaskaaxon yoia iki enra mia meniti atipayamake. ikaxbi mia keenatian en mia ioti atipanke jainoa en beainko, jain jake westiora ani. jaskaaxon maxokan shinan ika iki jakon shamabires, ikaxbi ja konejon maxo yokata iki neskaakin mia mein kati atipanke miaki kai jatsantima iki ocho riki keso. maxokan yoia iki eara itima iki, canon kawe. ja ika iki keso keyoxon konejo piti shinanya. ja bain kakin maxokan konejo yoka yoka baina iki neskaakin ochobiresin nokoti moaki noa ochomataniai jatian konejo aka iki ochobires pari riki, akin. janribi meskoakin shinan shinan baina iki. yame ika iki kikinshaman jishtima jatian ja konejo maxo bebon choron choron kainshamana iki. jaskatax ishtonbires konejo manota iki nisa meran jikiax, jaskaketian maxo ikonbiresi sinata iki. jatian ja maxo mai chinii yoyo ika iki ea nokoxonra ea piaibires ikai, ikaxbi ja konejo nokotikoma oinxon, jowe aresa iki, sina kainxon neska iki jaweranorin ja keso ani minra ua paranke ani kesora jake akin. ja kopira en mia ramabi piai, jaskakin aka konejo raketi saki saki ika iki. jatian maxo konejoki ochomakirana iki ja konejo retekasi. jatian konejon maxo aka iki neskaakin sinayamawe, maxo, shinanwe en mia yoiantana jaweki ocho riki akin en mia ayantana. enra mia boai, jainoax moa oxe pikotai, jaskara iketian noa jawe keskataxbi noa jawe keskayamai. jaskaa pekao jakiribi kabekonriba iki. jaa kakin maxokan konejo masaati shinana iki, jatian neskata iki rama jawe keskataxbi nokon mekemameax kishpinyamai ika iki. jaskatax mashin nokobekona iki ja paron jatian maxokan konejo jakiribi yokaribia iki moaki noa ochoma iki jaskaa ketian konejon yoia iki moara noa nokoke. jatian jene metoxonkin yoia iki oa rikui keso. ja jensmeranki ika iki kesokeskaki itini, ja ika iki oxen jenemeran tenares. jaskara ointana maxo keena iki ja keeni ika iki jaskati pene penebirasin ja keso, ika iki, ikaxbi jaa naman ointana iribaa iki ikaxbira nemionra iki ika iki. ikaxbi konejon rarotiakin yoia iki jikiresxue maxo. jatian ja maxo jenemeran jikiai oinax konejonin jawen jina wekia iki. jaskatax ishtonbires jabata iki. maxo jenen retea mawati sai ika iki bueno, konejo, ea biwe noemis konejo, ea kishpinmawe ikaxbi konejo bitin kenyama iki. jaskatax maxo paro napon jikia iki, jaskatai ointaana konejo kaa iki jawen keso keyoi. jaskatax maxo mawata iki, wetsa yoina jake jakomareskin imaa iki mawamakin.\",\n          \"uwi inu uwi inu,pakenu tuwis tuwis,iyana,,uwi inu uwi inu,peiyana wakeshtaju,wanaikadi,,uwi inu uwi inu yapa,wakeshta wawe,tupitakadi.\"\n        ],\n        \"semantic_type\": \"\",\n        \"description\": \"\"\n      }\n    },\n    {\n      \"column\": \"Category\",\n      \"properties\": {\n        \"dtype\": \"category\",\n        \"num_unique_values\": 5,\n        \"samples\": [\n          \" Cuento\",\n          \"Cancion\",\n          \"Cuento\"\n        ],\n        \"semantic_type\": \"\",\n        \"description\": \"\"\n      }\n    },\n    {\n      \"column\": \"text\",\n      \"properties\": {\n        \"dtype\": \"string\",\n        \"num_unique_values\": 148,\n        \"samples\": [\n          \"shawi jonibaon banai. ea riki pike shawi joni. mato yoibano nokon rarebora bananox basichapari benxokakanai. banamatianbira nokon papan jonibo jato minka ati chaniai jaskaaxon banakinkanti kopi. banati netera, nokon papan yamekirishaman noa jishteain noa paronko nashiti kopi jaskaxon kumpanaman koshi biti kopi. nokon titanra atsaxeati pae toai jaskaxon noa akinaibo rarebo manati kopi. jainoax, wetsa titabo betan, minka akaibaon piti yoa akai. jaskarabo akanaikaman, noabiribi tsiniai, ikaxbi ja banakanaitian non pataxyamai. banakana pekao, jatixonbi piai itan atsaxeati toroti yakaxon xeakanai, yoyo ianan raroshamanbo\",\n          \"masho betan conejo (el zorro y el conejo). keso keso iki ieche aka. keso anoxon paema paritiki ja pekao manxama paritiki chorish akin, ja chawashama iketian iki moa piti jakon, keso ikai nowe poati jan keentishama, maxo betan ceknejo ika iki westiora konejo wetsa netebaonki bai nashbamashokonin pasia pasiai, ja pasia pasiakin kinaki ika iki keso pakex bai napon jonebain kana rakati. ja jonexon bonoxon pari neke oinxon, oke oinxon aka iki. jaskakenbi ja pekao chaish ikai ninkatax rateta iki, ja ninkatax jawe meinki ika iki jaska kenbi westiora maxo pikotoshita iki, ja maxo pikotoshitai oinax raketa iki xeta jemabires charoreskiranai oinax. ja jaki rakeanashokobi konejon aka iki maxo, minki ea jaweakasai ja maxokan aka iki miaki jawe aki itai nato keso maxkoshoko piira ea itai, aka iki ja konejon. ja maxokan kewina iki ea meniwe ja keso. ikaxbi ja konejon menikashama iki, ja yokata, jen ayamaa iki. jaskaaxon yoia iki enra mia meniti atipayamake. ikaxbi mia keenatian en mia ioti atipanke jainoa en beainko, jain jake westiora ani. jaskaaxon maxokan shinan ika iki jakon shamabires, ikaxbi ja konejon maxo yokata iki neskaakin mia mein kati atipanke miaki kai jatsantima iki ocho riki keso. maxokan yoia iki eara itima iki, canon kawe. ja ika iki keso keyoxon konejo piti shinanya. ja bain kakin maxokan konejo yoka yoka baina iki neskaakin ochobiresin nokoti moaki noa ochomataniai jatian konejo aka iki ochobires pari riki, akin. janribi meskoakin shinan shinan baina iki. yame ika iki kikinshaman jishtima jatian ja konejo maxo bebon choron choron kainshamana iki. jaskatax ishtonbires konejo manota iki nisa meran jikiax, jaskaketian maxo ikonbiresi sinata iki. jatian ja maxo mai chinii yoyo ika iki ea nokoxonra ea piaibires ikai, ikaxbi ja konejo nokotikoma oinxon, jowe aresa iki, sina kainxon neska iki jaweranorin ja keso ani minra ua paranke ani kesora jake akin. ja kopira en mia ramabi piai, jaskakin aka konejo raketi saki saki ika iki. jatian maxo konejoki ochomakirana iki ja konejo retekasi. jatian konejon maxo aka iki neskaakin sinayamawe, maxo, shinanwe en mia yoiantana jaweki ocho riki akin en mia ayantana. enra mia boai, jainoax moa oxe pikotai, jaskara iketian noa jawe keskataxbi noa jawe keskayamai. jaskaa pekao jakiribi kabekonriba iki. jaa kakin maxokan konejo masaati shinana iki, jatian neskata iki rama jawe keskataxbi nokon mekemameax kishpinyamai ika iki. jaskatax mashin nokobekona iki ja paron jatian maxokan konejo jakiribi yokaribia iki moaki noa ochoma iki jaskaa ketian konejon yoia iki moara noa nokoke. jatian jene metoxonkin yoia iki oa rikui keso. ja jensmeranki ika iki kesokeskaki itini, ja ika iki oxen jenemeran tenares. jaskara ointana maxo keena iki ja keeni ika iki jaskati pene penebirasin ja keso, ika iki, ikaxbi jaa naman ointana iribaa iki ikaxbira nemionra iki ika iki. ikaxbi konejon rarotiakin yoia iki jikiresxue maxo. jatian ja maxo jenemeran jikiai oinax konejonin jawen jina wekia iki. jaskatax ishtonbires jabata iki. maxo jenen retea mawati sai ika iki bueno, konejo, ea biwe noemis konejo, ea kishpinmawe ikaxbi konejo bitin kenyama iki. jaskatax maxo paro napon jikia iki, jaskatai ointaana konejo kaa iki jawen keso keyoi. jaskatax maxo mawata iki, wetsa yoina jake jakomareskin imaa iki mawamakin.\",\n          \"uwi inu. uwi inu uwi inu,pakenu tuwis tuwis,iyana,,uwi inu uwi inu,peiyana wakeshtaju,wanaikadi,,uwi inu uwi inu yapa,wakeshta wawe,tupitakadi.\"\n        ],\n        \"semantic_type\": \"\",\n        \"description\": \"\"\n      }\n    }\n  ]\n}"
            }
          },
          "metadata": {},
          "execution_count": 7
        }
      ]
    },
    {
      "cell_type": "code",
      "source": [
        "from tokenizers import ByteLevelBPETokenizer\n",
        "\n",
        "tokenizer = ByteLevelBPETokenizer()\n",
        "tokenizer.train(files=[corpus_path], vocab_size=52000, min_frequency=2, special_tokens=[\n",
        "    \"<s>\",\n",
        "    \"<pad>\",\n",
        "    \"</s>\",\n",
        "    \"<unk>\",\n",
        "    \"<mask>\",\n",
        "])\n",
        "\n",
        "tokenizer.save_model(\".\", \"shipibo_tokenizer\")"
      ],
      "metadata": {
        "colab": {
          "base_uri": "https://localhost:8080/"
        },
        "id": "wGqNtMyTO3Sq",
        "outputId": "01cbaffc-a1bd-4eb5-8acd-12714b8a0568"
      },
      "execution_count": 8,
      "outputs": [
        {
          "output_type": "execute_result",
          "data": {
            "text/plain": [
              "['./shipibo_tokenizer-vocab.json', './shipibo_tokenizer-merges.txt']"
            ]
          },
          "metadata": {},
          "execution_count": 8
        }
      ]
    },
    {
      "cell_type": "code",
      "source": [
        "from transformers import GPT2TokenizerFast\n",
        "\n",
        "# Cargar el tokenizador desde los archivos vocab y merges\n",
        "tokenizer = GPT2TokenizerFast(\n",
        "    vocab_file=\"shipibo_tokenizer-vocab.json\",\n",
        "    merges_file=\"shipibo_tokenizer-merges.txt\"\n",
        ")\n",
        "\n",
        "# Añadir tokens especiales\n",
        "tokenizer.add_special_tokens({\n",
        "    \"pad_token\": \"<pad>\",\n",
        "    \"unk_token\": \"<unk>\",\n",
        "    \"mask_token\": \"<mask>\",\n",
        "    \"bos_token\": \"<s>\",\n",
        "    \"eos_token\": \"</s>\",\n",
        "})\n",
        "\n",
        "# Verificar si se han añadido correctamente los tokens especiales\n",
        "print(\"Tokens especiales añadidos:\", tokenizer.special_tokens_map)"
      ],
      "metadata": {
        "id": "8CjitNFHO805",
        "colab": {
          "base_uri": "https://localhost:8080/"
        },
        "outputId": "eac09a45-9d91-497e-af3d-20210eb44997"
      },
      "execution_count": 9,
      "outputs": [
        {
          "output_type": "stream",
          "name": "stdout",
          "text": [
            "Tokens especiales añadidos: {'bos_token': '<s>', 'eos_token': '</s>', 'unk_token': '<unk>', 'pad_token': '<pad>', 'mask_token': '<mask>'}\n"
          ]
        }
      ]
    },
    {
      "cell_type": "code",
      "source": [
        "# Ejemplo de texto en Shipibo-Konibo\n",
        "input_text = \"Huestíora joni ronqui\"\n",
        "tokens = tokenizer.encode(input_text)\n",
        "print(\"Tokens:\", tokens)\n",
        "\n",
        "# Des-tokenización\n",
        "decoded_text = tokenizer.decode(tokens)\n",
        "print(\"Texto decodificado:\", decoded_text)"
      ],
      "metadata": {
        "colab": {
          "base_uri": "https://localhost:8080/"
        },
        "id": "-b0C5LCcgi8V",
        "outputId": "b8b798dc-2d6a-493d-f3a0-d68807eab365"
      },
      "execution_count": 10,
      "outputs": [
        {
          "output_type": "stream",
          "name": "stdout",
          "text": [
            "Tokens: [44, 89, 992, 88, 132, 260, 363, 321, 795, 85, 89, 77]\n",
            "Texto decodificado: Huestíora joni ronqui\n"
          ]
        }
      ]
    },
    {
      "cell_type": "code",
      "source": [
        "from transformers import GPT2Config, GPT2LMHeadModel, Trainer, TrainingArguments, DataCollatorForLanguageModeling\n",
        "from datasets import Dataset\n",
        "\n",
        "# Crear el modelo desde cero\n",
        "config = GPT2Config(\n",
        "    vocab_size=tokenizer.vocab_size,\n",
        "    n_positions=1024,\n",
        "    n_ctx=1024,\n",
        "    n_embd=768,\n",
        "    n_layer=12,\n",
        "    n_head=12,\n",
        "    bos_token_id=tokenizer.bos_token_id,\n",
        "    eos_token_id=tokenizer.eos_token_id\n",
        ")\n",
        "\n",
        "model = GPT2LMHeadModel(config)\n",
        "\n",
        "# Crear el dataset de Hugging Face\n",
        "corpus_path = 'corpus.csv'\n",
        "df = pd.read_csv(corpus_path)\n",
        "df['text'] = df['Title'] + ' ' + df['Body']\n",
        "dataset = Dataset.from_pandas(df[['text']])\n",
        "\n",
        "# Tokenizar el corpus\n",
        "def tokenize_function(examples):\n",
        "    return tokenizer(examples['text'], truncation=True, padding='max_length', max_length=512)\n",
        "\n",
        "tokenized_datasets = dataset.map(tokenize_function, batched=True)\n",
        "\n",
        "# Crear el data collator\n",
        "data_collator = DataCollatorForLanguageModeling(tokenizer=tokenizer, mlm=False)\n",
        "\n",
        "# Configurar los argumentos de entrenamiento\n",
        "training_args = TrainingArguments(\n",
        "    output_dir='./results',\n",
        "    overwrite_output_dir=True,\n",
        "    num_train_epochs=50,\n",
        "    per_device_train_batch_size=4,\n",
        "    save_steps=10_000,\n",
        "    save_total_limit=2,\n",
        "    prediction_loss_only=True,\n",
        ")\n",
        "\n",
        "# Inicializar el Trainer y entrenar el modelo\n",
        "trainer = Trainer(\n",
        "    model=model,\n",
        "    args=training_args,\n",
        "    data_collator=data_collator,\n",
        "    train_dataset=tokenized_datasets,\n",
        ")\n",
        "\n"
      ],
      "metadata": {
        "colab": {
          "base_uri": "https://localhost:8080/",
          "height": 49,
          "referenced_widgets": [
            "b03579bebcfb455faf6c72e0ccff4fed",
            "0a71b95a48014831b76cb2454248d49e",
            "376505c6305d4530ae260cac30f9d076",
            "6fec858d78e6453e8d411ba3dc3a1720",
            "0e8aa81529544652ab1d14803314718b",
            "32182975940e4cbc96aacac755c3bf33",
            "67ec1a80386545ecbba03066e1e7367a",
            "18fea1452e354b76aa16dccc2c2ba961",
            "9a509a9c94a64d6896f1e7fbf59ad71c",
            "4439fdbd30b645e99609dc9831e13be8",
            "7996bb52e3194959b8cea1e3df4d06db"
          ]
        },
        "id": "gPQpbPJehB0i",
        "outputId": "a09156bf-32d0-49e7-c185-b58b281cfe50"
      },
      "execution_count": 21,
      "outputs": [
        {
          "output_type": "display_data",
          "data": {
            "text/plain": [
              "Map:   0%|          | 0/148 [00:00<?, ? examples/s]"
            ],
            "application/vnd.jupyter.widget-view+json": {
              "version_major": 2,
              "version_minor": 0,
              "model_id": "b03579bebcfb455faf6c72e0ccff4fed"
            }
          },
          "metadata": {}
        }
      ]
    },
    {
      "cell_type": "code",
      "source": [
        "from transformers import TrainerCallback\n",
        "\n",
        "class PerplexityCallback(TrainerCallback):\n",
        "    def on_log(self, args, state, control, logs=None, **kwargs):\n",
        "        if logs is not None:\n",
        "            perplexity = math.exp(logs['loss']) if 'loss' in logs else None\n",
        "            if perplexity:\n",
        "                logs['perplexity'] = perplexity\n",
        "            print(f\"Epoch: {state.epoch}, Perplexity: {perplexity}\")\n",
        "\n",
        "# Agregar el callback al trainer para obtener mediciones del perplexity\n",
        "trainer.add_callback(PerplexityCallback())"
      ],
      "metadata": {
        "id": "QRUd4_zflxog"
      },
      "execution_count": 22,
      "outputs": []
    },
    {
      "cell_type": "code",
      "source": [
        "\n",
        "trainer.train()"
      ],
      "metadata": {
        "colab": {
          "base_uri": "https://localhost:8080/",
          "height": 291
        },
        "id": "g74m1SDVlxAO",
        "outputId": "ec18fb8b-aa24-48c3-e14f-e365ce9d8712"
      },
      "execution_count": 23,
      "outputs": [
        {
          "output_type": "display_data",
          "data": {
            "text/plain": [
              "<IPython.core.display.HTML object>"
            ],
            "text/html": [
              "\n",
              "    <div>\n",
              "      \n",
              "      <progress value='1850' max='1850' style='width:300px; height:20px; vertical-align: middle;'></progress>\n",
              "      [1850/1850 13:41, Epoch 50/50]\n",
              "    </div>\n",
              "    <table border=\"1\" class=\"dataframe\">\n",
              "  <thead>\n",
              " <tr style=\"text-align: left;\">\n",
              "      <th>Step</th>\n",
              "      <th>Training Loss</th>\n",
              "    </tr>\n",
              "  </thead>\n",
              "  <tbody>\n",
              "    <tr>\n",
              "      <td>500</td>\n",
              "      <td>5.492600</td>\n",
              "    </tr>\n",
              "    <tr>\n",
              "      <td>1000</td>\n",
              "      <td>3.007000</td>\n",
              "    </tr>\n",
              "    <tr>\n",
              "      <td>1500</td>\n",
              "      <td>1.520800</td>\n",
              "    </tr>\n",
              "  </tbody>\n",
              "</table><p>"
            ]
          },
          "metadata": {}
        },
        {
          "output_type": "stream",
          "name": "stdout",
          "text": [
            "Epoch: 13.513513513513514, Perplexity: 242.88789513525765\n",
            "Epoch: 27.027027027027028, Perplexity: 20.226628927540002\n",
            "Epoch: 40.54054054054054, Perplexity: 4.575884438800577\n",
            "Epoch: 50.0, Perplexity: None\n"
          ]
        },
        {
          "output_type": "execute_result",
          "data": {
            "text/plain": [
              "TrainOutput(global_step=1850, training_loss=2.882277865023226, metrics={'train_runtime': 822.1303, 'train_samples_per_second': 9.001, 'train_steps_per_second': 2.25, 'total_flos': 1933561036800000.0, 'train_loss': 2.882277865023226, 'epoch': 50.0})"
            ]
          },
          "metadata": {},
          "execution_count": 23
        }
      ]
    },
    {
      "cell_type": "code",
      "source": [
        "# Guardar el modelo y el tokenizador\n",
        "trainer.save_model(\"./results\")  # Esto guarda el modelo, la configuración y el tokenizador\n",
        "tokenizer.save_pretrained(\"./results\")"
      ],
      "metadata": {
        "colab": {
          "base_uri": "https://localhost:8080/"
        },
        "id": "TtuMvmdjmhCd",
        "outputId": "58d4b2fa-4340-45c5-b55b-bfcca0c7a2c4"
      },
      "execution_count": 24,
      "outputs": [
        {
          "output_type": "execute_result",
          "data": {
            "text/plain": [
              "('./results/tokenizer_config.json',\n",
              " './results/special_tokens_map.json',\n",
              " './results/vocab.json',\n",
              " './results/merges.txt',\n",
              " './results/added_tokens.json',\n",
              " './results/tokenizer.json')"
            ]
          },
          "metadata": {},
          "execution_count": 24
        }
      ]
    },
    {
      "cell_type": "code",
      "source": [
        "# Cargar el modelo entrenado\n",
        "model = GPT2LMHeadModel.from_pretrained('./results')\n"
      ],
      "metadata": {
        "id": "LuhKHDgZlZxi"
      },
      "execution_count": 25,
      "outputs": []
    },
    {
      "cell_type": "code",
      "source": [
        "import re\n",
        "\n",
        "def capitalize_sentences(text):\n",
        "    sentences = re.split('(?<=[.!?]) +', text)  # Dividir el texto en oraciones\n",
        "    capitalized_sentences = [sentence.capitalize() for sentence in sentences]\n",
        "    return ' '.join(capitalized_sentences)\n",
        "\n",
        "# Función para generar texto\n",
        "\n",
        "def generate_story(prompt, max_length=512, num_return_sequences=1):\n",
        "    inputs = tokenizer(prompt, return_tensors='pt')\n",
        "    outputs = model.generate(\n",
        "        inputs['input_ids'],\n",
        "        max_length=max_length,\n",
        "        num_return_sequences=num_return_sequences,\n",
        "        pad_token_id=tokenizer.eos_token_id,\n",
        "        eos_token_id=tokenizer.eos_token_id,\n",
        "        do_sample=True,  # Para generar texto de manera más creativa\n",
        "        top_k=50,  # Para limitar el número de palabras a considerar para cada paso\n",
        "        top_p=0.95  # Para la estrategia de muestreo de núcleo (nucleus sampling)\n",
        "    )\n",
        "\n",
        "    stories = [tokenizer.decode(output, skip_special_tokens=True) for output in outputs]\n",
        "    capitalized_stories = [capitalize_sentences(story) for story in stories]\n",
        "    return capitalized_stories\n",
        "\n",
        "\n",
        "# Ejemplo de uso\n",
        "prompt = \"moatian ronki ipaonike\"\n",
        "generated_stories = generate_story(prompt, max_length=300, num_return_sequences=3)\n",
        "\n",
        "\n",
        "for i, story in enumerate(generated_stories):\n",
        "    print(f\"Cuento {i + 1}:\\n{story}\\n\")"
      ],
      "metadata": {
        "colab": {
          "base_uri": "https://localhost:8080/"
        },
        "id": "yRjMLmxemn7W",
        "outputId": "151cf5f3-bc8a-40ff-a573-8f3d5439c8cc"
      },
      "execution_count": 26,
      "outputs": [
        {
          "output_type": "stream",
          "name": "stdout",
          "text": [
            "Cuento 1:\n",
            "Moatian ronki ipaonike jatibi jawekibo joni ronki ipaonike, jemankobo ainbo betan wanoa. Ja kakin jato ikina ipaonike,qki. Eag ati xeati xeai. Jatian ronki ipaonike, atsa yometsonki ika iki. Akaitian ronki ipaonike. Jaskaaxon, shipibo jonibo. Jatian ronki ipaonike, na yoikin, atsa akin jato onan; ramara jaska akai, onan; jawetianbi; jatibi jaweki atiki alicha. Meni joai. Minbiribi jato axea iki. Jatian ixon jato aka iki, noabiribi akana iki. Jatian ronki ika iki. Jaskatai ninkataxxonki joa iki, jawen ibonra jakiribi jonixon, jene tsakaax, joo ika iki, jawen rayosbaina iki; jatibi jaweki reteai, jatibi jaweki ika iki, en too yoinabo. Joxon, jaskashontax akin. Jaskataxki joni. Jato yoia iki moara icha riki piti ixon. Jaskara joi; ja bake. Jatian jato aka iki. Jato jaskaaki, kapetan ewa, ja ika iki, pei xatebeirani; jato aka iki. Jatianki ika iki; ratetani. Caaxki, jawen ibon baneti. Jaskataxki ika iki, ka keantan, moa joni karibaa iki, icha riki wainko paranta akinki jato aka iki; ja bake jawen xobon moa nokoti. Jatian jatobeirankin. Jatian jato menia iki. Jatian wetsa itanribi bea iki. Jatian jawen wetsa mana iki. Jaskatax oinyamakana iki. Jatian ronki aka iki, jawen ibotani jato jawekainaitianinkotaxmakana iki. Jatian jato yoia iki. Jain shinan kaa iki cankan bichoressa noa keenai papa akin akana iki. Jatian jato yoia iki bitankanwen bake yoiibata\n",
            "\n",
            "Cuento 2:\n",
            "Moatian ronki ipaonike jatibi jawekibo joni ronki ikatiai, inkanki, jawen awinya. Ja ronki ipaonike, jawen rayos ronki ipaonike, jawen benekin. Jaskaaxon ronki ikana iki, atsa taxo shinanbainkin. Wai oroi ronki jato jaskaabainiki; jatibi jaweki baneti. Ja inka ronki ipaonike, jatoki apaonike ronki ikatiai, nato chii tsi. Jatian ronki ipaonike, aniike, nokokana iki, shirinka bepon tsekai; jainbi jaton xeati mapobainni. Jatian moa oinkin. Jaskatax jatibi jawekii, pia kaai akin. Jato joa iki, bimpish, jawen bene ja inkan xeati toroti jakon ike meyari, jonin shinana iki atsa taxo yama; ja icha riki; caxon, jawen tita kaa iki. Jatian jato aka iki ja chiikan yoashiananbi. Jatian yoia iki. Jatian jato yoia iki noyai jawekibo onan; jawen awinmanki raski ika iki, noa keenai akin jato menia iki, jawen noxan ken iketian. Jato aka iki. Jaskataxki keenai akin jato joa iki. Akinki yokata iki. Jatian jawen ibon yosi yokata iki, ja iki jatibi shinanya. Jaskatax kaaxki ian kexa nokota iki akin. Jatian jawen ibo mawa joxon, joni wini winikainna iki, jawen xobon moa ja bake kaa iki. Jatianki jawen bake xontakoki ja man xanteoaton awin ika iki, seneno joa iki ika iki, jawen rayos yoii. Jaskaaxon ronki, ja yoashiko inkanki jawen bakebo jaweki pakenike. Jaskara iketianki jakiribi boriba kana iki. Jaskaa pakexon, jiwi namanmea merakana iki, jainoaxki koshi keyokainonkaman ikonbiresi paxkinaxronki ika iki moarabomaax\n",
            "\n",
            "Cuento 3:\n",
            "Moatian ronki ipaonike jatibi jawekibo joni ronki ikatiai, kaibo ainbo betan aki iketian, ja ainbo ronki ikatiai moao. Jaskara ikax, waiti benaxinyashoko. Joxon ronki mananxawenki itanribi piti ani retekanketianki noyakaini kaxon ronki apaonike piti yoa nato roomakin. Jatian ronki ipaonike, shinaniaketian. Jatianra iiti, tintin, jawen benebetan akaibo; non jatibi jawekikin. Jaskaaxon, jaya choronox jakonshamani jawen awin betan akaiki yoiuqa akin. Jaskaa, moa wasaax. Joxon oinna ronki aka iki, sai akin. Ramara, piti benai. Jatian inkan kashi rabini noyaiki jainoash jatianbi xeati baneti. Jaskaaxon, jawer. Jaskatax ja waikanai akin. Jaskatash, jawen taxo raras axon onan. Joxon oinna ronki aka iki. Jatianki mananxawen yokata iki, jawen papa akinki jato bebon itinkebiaibokikinbi, papa akin. Jaskataxki moa boti atipanyamakana iki; ja ainboki ronki ika iki, jene xeati kenti meran napokotax, mia jistenamapari iketian, jawen mai kashaakin. Ja wini winiaitian jain jonekanai, jaronki ikatiai, ka keantan, jainxonbi yame osha min jakon jati; moa xobon jaskatax inibironki aka iki, jawen xobon moa kaa iki, ikaxbi teebo. Jaskaaxon, wetsaorikea kishiki, xete, jatian onanyama oinxon joninki yoia iki, jainxon non xeaa iki. Jaskatash bexonki, jaskataananki ainbaon yoiribia iki. Jainxon jawen ibonra ika iki, moa mai keyatai; moa westiora ani. Jatianki ja joni kaa iki, moa. Ishto joxon oinna iki. Moa ichayora bokanaitianki, jawen ibo yoiibata\n",
            "\n"
          ]
        }
      ]
    },
    {
      "cell_type": "markdown",
      "source": [
        "# Metricas para evaluar el cuento generado"
      ],
      "metadata": {
        "id": "9dhfpk4FqSkd"
      }
    },
    {
      "cell_type": "code",
      "source": [
        "# Calcular la perplejidad\n",
        "import math\n",
        "\n",
        "def compute_perplexity(eval_dataset):\n",
        "    eval_results = trainer.evaluate(eval_dataset)\n",
        "    perplexity = math.exp(eval_results['eval_loss'])\n",
        "    return perplexity\n",
        "\n",
        "# Crear el dataset de evaluación (usamos el mismo dataset tokenizado para simplicidad)\n",
        "eval_dataset = tokenized_datasets\n",
        "\n",
        "# Calcular la perplejidad\n",
        "perplexity = compute_perplexity(eval_dataset)\n",
        "print(f'Perplejidad: {perplexity}')\n"
      ],
      "metadata": {
        "colab": {
          "base_uri": "https://localhost:8080/",
          "height": 72
        },
        "id": "cV1k8uYUimD-",
        "outputId": "5c2eac84-561e-4c91-dd47-f378c9c193be"
      },
      "execution_count": 27,
      "outputs": [
        {
          "output_type": "display_data",
          "data": {
            "text/plain": [
              "<IPython.core.display.HTML object>"
            ],
            "text/html": [
              "\n",
              "    <div>\n",
              "      \n",
              "      <progress value='19' max='19' style='width:300px; height:20px; vertical-align: middle;'></progress>\n",
              "      [19/19 00:04]\n",
              "    </div>\n",
              "    "
            ]
          },
          "metadata": {}
        },
        {
          "output_type": "stream",
          "name": "stdout",
          "text": [
            "Epoch: 50.0, Perplexity: None\n",
            "Perplejidad: 1.366558935280645\n"
          ]
        }
      ]
    },
    {
      "cell_type": "code",
      "source": [
        "import matplotlib.pyplot as plt\n",
        "import pandas as pd\n",
        "\n",
        "# Cargar los logs\n",
        "log_history = trainer.state.log_history\n",
        "\n",
        "# Convertir a DataFrame\n",
        "df_logs = pd.DataFrame(log_history)\n",
        "\n",
        "# Filtrar filas con pérdida\n",
        "df_loss = df_logs[['epoch', 'loss']].dropna()\n",
        "\n",
        "# Calcular la perplejidad\n",
        "df_loss['perplexity'] = df_loss['loss'].apply(lambda x: math.exp(x))\n",
        "\n",
        "# Graficar la pérdida\n",
        "plt.figure(figsize=(12, 6))\n",
        "plt.plot(df_loss['epoch'], df_loss['loss'], label='Pérdida')\n",
        "plt.plot(df_loss['epoch'], df_loss['perplexity'], label='Perplejidad')\n",
        "plt.xlabel('Época')\n",
        "plt.ylabel('Valor')\n",
        "plt.title('Pérdida y Perplejidad durante el Entrenamiento')\n",
        "plt.legend()\n",
        "plt.show()\n"
      ],
      "metadata": {
        "colab": {
          "base_uri": "https://localhost:8080/",
          "height": 506
        },
        "id": "W-BxJ0H0mHTp",
        "outputId": "9309c66b-5b80-4660-8203-97dc9dcccbd8"
      },
      "execution_count": 28,
      "outputs": [
        {
          "output_type": "display_data",
          "data": {
            "text/plain": [
              "<Figure size 1200x600 with 1 Axes>"
            ],
            "image/png": "[encoded data removed]"
          },
          "metadata": {}
        }
      ]
    }
  ]
}